{
 "cells": [
  {
   "cell_type": "markdown",
   "id": "1c44e837-8c8b-4452-b6ea-f6529ffb51f8",
   "metadata": {},
   "source": [
    "# Analytical Programming."
   ]
  },
  {
   "cell_type": "markdown",
   "id": "d24e3c11-aa70-4f02-a6f7-88824a16f971",
   "metadata": {},
   "source": [
    "**By -** Tushar Ahuja"
   ]
  },
  {
   "cell_type": "markdown",
   "id": "4d491c68-c0c7-4090-abb1-d11f19699f35",
   "metadata": {},
   "source": [
    "---"
   ]
  },
  {
   "cell_type": "markdown",
   "id": "d9861ba2-6807-49b7-8b2a-9d7ba10fb6eb",
   "metadata": {},
   "source": [
    "**Objective**\n",
    "\n",
    "The goal of this assignment is to practice data cleaning using Python and Pandas. You will work with a real-world dataset to identify and handle common data quality issues such as missing values, duplicates, and incorrect data types.\n",
    "\n",
    "**Background**\n",
    "\n",
    "The sinking of the Titanic is one of the most tragic and well-known maritime disasters. While luck played a role in survival, data suggests that factors like age, gender, and socio-economic status significantly influenced a passenger's chances of survival.\n",
    "\n",
    "In this assignment, we aim to explore the question: \"What kinds of people were more likely to survive?\" To do this, we will first focus on cleaning the Titanic passenger dataset, which includes features such as name, age, gender, and class, preparing it for further analysis and modeling.\n",
    "\n",
    "**Requirements**\n",
    "1. Remove any duplicate entries in the dataset. The PassengerId column can be used as a unique identifier for each passenger.\n",
    "\n",
    "2. Backfill missing values in the Age column using the median of the existing ages.\n",
    "\n",
    "3. Create a scatter plot with the Fare on the x-axis and Age on the y-axis. This will help you visualize the relationship between passenger fare and age.\n",
    "\n",
    "4. Calculate and display the survival rate for each passenger class (Pclass).\n",
    "\n",
    "5. Calculate and display the survival rate for each gender."
   ]
  },
  {
   "cell_type": "markdown",
   "id": "ac57b948-0647-4410-800d-c1f356c0fb3d",
   "metadata": {},
   "source": [
    "---"
   ]
  },
  {
   "cell_type": "markdown",
   "id": "2dd2e04b-a34d-4681-af4b-c0d193deeb50",
   "metadata": {},
   "source": [
    "## A. Reading the CSV file\n",
    "\n",
    "The Titanic dataset offers a glimpse into the passengers aboard the ill-fated ship. By analyzing variables such as age, gender, and class, we can uncover patterns that influenced survival outcomes. This analysis serves as a foundation for data cleaning and further predictive modeling."
   ]
  },
  {
   "cell_type": "code",
   "execution_count": 490,
   "id": "69756665-28a5-4e61-bdcd-572913fa7eae",
   "metadata": {},
   "outputs": [
    {
     "data": {
      "text/html": [
       "<div>\n",
       "<style scoped>\n",
       "    .dataframe tbody tr th:only-of-type {\n",
       "        vertical-align: middle;\n",
       "    }\n",
       "\n",
       "    .dataframe tbody tr th {\n",
       "        vertical-align: top;\n",
       "    }\n",
       "\n",
       "    .dataframe thead th {\n",
       "        text-align: right;\n",
       "    }\n",
       "</style>\n",
       "<table border=\"1\" class=\"dataframe\">\n",
       "  <thead>\n",
       "    <tr style=\"text-align: right;\">\n",
       "      <th></th>\n",
       "      <th>PassengerId</th>\n",
       "      <th>Survived</th>\n",
       "      <th>Pclass</th>\n",
       "      <th>Name</th>\n",
       "      <th>Sex</th>\n",
       "      <th>Age</th>\n",
       "      <th>SibSp</th>\n",
       "      <th>Parch</th>\n",
       "      <th>Ticket</th>\n",
       "      <th>Fare</th>\n",
       "      <th>Cabin</th>\n",
       "      <th>Embarked</th>\n",
       "    </tr>\n",
       "  </thead>\n",
       "  <tbody>\n",
       "    <tr>\n",
       "      <th>0</th>\n",
       "      <td>1</td>\n",
       "      <td>0</td>\n",
       "      <td>3</td>\n",
       "      <td>Braund, Mr. Owen Harris</td>\n",
       "      <td>male</td>\n",
       "      <td>22.0</td>\n",
       "      <td>1</td>\n",
       "      <td>0</td>\n",
       "      <td>A/5 21171</td>\n",
       "      <td>7.2500</td>\n",
       "      <td>NaN</td>\n",
       "      <td>S</td>\n",
       "    </tr>\n",
       "    <tr>\n",
       "      <th>1</th>\n",
       "      <td>2</td>\n",
       "      <td>1</td>\n",
       "      <td>1</td>\n",
       "      <td>Cumings, Mrs. John Bradley (Florence Briggs Th...</td>\n",
       "      <td>female</td>\n",
       "      <td>38.0</td>\n",
       "      <td>1</td>\n",
       "      <td>0</td>\n",
       "      <td>PC 17599</td>\n",
       "      <td>71.2833</td>\n",
       "      <td>C85</td>\n",
       "      <td>C</td>\n",
       "    </tr>\n",
       "    <tr>\n",
       "      <th>2</th>\n",
       "      <td>3</td>\n",
       "      <td>1</td>\n",
       "      <td>3</td>\n",
       "      <td>Heikkinen, Miss. Laina</td>\n",
       "      <td>female</td>\n",
       "      <td>26.0</td>\n",
       "      <td>0</td>\n",
       "      <td>0</td>\n",
       "      <td>STON/O2. 3101282</td>\n",
       "      <td>7.9250</td>\n",
       "      <td>NaN</td>\n",
       "      <td>S</td>\n",
       "    </tr>\n",
       "    <tr>\n",
       "      <th>3</th>\n",
       "      <td>4</td>\n",
       "      <td>1</td>\n",
       "      <td>1</td>\n",
       "      <td>Futrelle, Mrs. Jacques Heath (Lily May Peel)</td>\n",
       "      <td>female</td>\n",
       "      <td>35.0</td>\n",
       "      <td>1</td>\n",
       "      <td>0</td>\n",
       "      <td>113803</td>\n",
       "      <td>53.1000</td>\n",
       "      <td>C123</td>\n",
       "      <td>S</td>\n",
       "    </tr>\n",
       "    <tr>\n",
       "      <th>4</th>\n",
       "      <td>5</td>\n",
       "      <td>0</td>\n",
       "      <td>3</td>\n",
       "      <td>Allen, Mr. William Henry</td>\n",
       "      <td>M</td>\n",
       "      <td>35.0</td>\n",
       "      <td>0</td>\n",
       "      <td>0</td>\n",
       "      <td>373450</td>\n",
       "      <td>8.0500</td>\n",
       "      <td>NaN</td>\n",
       "      <td>S</td>\n",
       "    </tr>\n",
       "  </tbody>\n",
       "</table>\n",
       "</div>"
      ],
      "text/plain": [
       "   PassengerId  Survived  Pclass  \\\n",
       "0            1         0       3   \n",
       "1            2         1       1   \n",
       "2            3         1       3   \n",
       "3            4         1       1   \n",
       "4            5         0       3   \n",
       "\n",
       "                                                Name     Sex   Age  SibSp  \\\n",
       "0                            Braund, Mr. Owen Harris    male  22.0      1   \n",
       "1  Cumings, Mrs. John Bradley (Florence Briggs Th...  female  38.0      1   \n",
       "2                             Heikkinen, Miss. Laina  female  26.0      0   \n",
       "3       Futrelle, Mrs. Jacques Heath (Lily May Peel)  female  35.0      1   \n",
       "4                           Allen, Mr. William Henry       M  35.0      0   \n",
       "\n",
       "   Parch            Ticket     Fare Cabin Embarked  \n",
       "0      0         A/5 21171   7.2500   NaN        S  \n",
       "1      0          PC 17599  71.2833   C85        C  \n",
       "2      0  STON/O2. 3101282   7.9250   NaN        S  \n",
       "3      0            113803  53.1000  C123        S  \n",
       "4      0            373450   8.0500   NaN        S  "
      ]
     },
     "execution_count": 490,
     "metadata": {},
     "output_type": "execute_result"
    }
   ],
   "source": [
    "import pandas as pd\n",
    "\n",
    "# Adding the local file path that is to be loaded from my location\n",
    "file_path = '/Users/tusharahuja/Documents/Analytic Pg/titanic.csv'\n",
    "\n",
    "# Reading the CSV file\n",
    "df = pd.read_csv(file_path)\n",
    "\n",
    "# Displaying the first few rows of the dataframe\n",
    "df.head()\n"
   ]
  },
  {
   "cell_type": "markdown",
   "id": "1a4adadc-fc35-4657-8736-de3f406d6d45",
   "metadata": {},
   "source": [
    "#### Code Explanation:\n",
    "\n",
    "* **Importing Library:** The pandas library is imported to handle data operations.\n",
    "\n",
    "* **File Path Setup:** The Titanic dataset's location is stored in the file_path variable for easy access.\n",
    "\n",
    "* **Loading Dataset:** The pd.read_csv(file_path) command reads the CSV file into a DataFrame (stored as df), making the data ready for analysis.\n",
    "\n",
    "* **Displaying Data:** The df.head() function shows the first five rows of the dataset, providing a quick glimpse of the structure and content.\n",
    "\n",
    "* **Next Steps:** After loading, further steps would involve cleaning and exploring the dataset to analyze survival trends."
   ]
  },
  {
   "cell_type": "markdown",
   "id": "93f9b69b-bbe6-4aa0-8a19-c42ce3457284",
   "metadata": {},
   "source": [
    "## B. Understanding the Dataset Dimensions: Total Row and Column Count\n",
    "\n",
    "By using df.shape, we can quickly determine the total number of rows and columns in the dataset. This function returns a tuple, where the first value indicates the number of rows (data entries) and the second value represents the number of columns (features or variables). This is an essential step in assessing the size and scope of the dataset for further analysis."
   ]
  },
  {
   "cell_type": "code",
   "execution_count": 494,
   "id": "49abd106-3a70-4e58-82f3-7429b5017171",
   "metadata": {},
   "outputs": [
    {
     "data": {
      "text/plain": [
       "(901, 12)"
      ]
     },
     "execution_count": 494,
     "metadata": {},
     "output_type": "execute_result"
    }
   ],
   "source": [
    "df.shape"
   ]
  },
  {
   "cell_type": "markdown",
   "id": "6457f94e-1a41-4e26-904a-a9189cc46e90",
   "metadata": {},
   "source": [
    "#### Code Explanation:\n",
    "\n",
    "* **Dataset Dimension Check:** The df.shape function returns a tuple representing the dimensions of the dataset. It shows the number of rows and columns in the DataFrame.\n",
    "\n",
    "* **Usage:** This is useful for quickly understanding the dataset's size, helping you assess how much data you're working with before proceeding with analysis. For example, (901, 12) means 901 rows and 12 columns."
   ]
  },
  {
   "cell_type": "markdown",
   "id": "e4f90d6c-0188-468c-8117-dc83ee6b6e8a",
   "metadata": {},
   "source": [
    "## C. Remove any duplicate entries in the dataset.\n",
    "[Note:- The PassengerId column can be used as a unique identifier for each passenger (Given).]"
   ]
  },
  {
   "cell_type": "code",
   "execution_count": 498,
   "id": "dab0bb47-6602-4e1d-9e6e-049188309c18",
   "metadata": {},
   "outputs": [
    {
     "data": {
      "text/html": [
       "<div>\n",
       "<style scoped>\n",
       "    .dataframe tbody tr th:only-of-type {\n",
       "        vertical-align: middle;\n",
       "    }\n",
       "\n",
       "    .dataframe tbody tr th {\n",
       "        vertical-align: top;\n",
       "    }\n",
       "\n",
       "    .dataframe thead th {\n",
       "        text-align: right;\n",
       "    }\n",
       "</style>\n",
       "<table border=\"1\" class=\"dataframe\">\n",
       "  <thead>\n",
       "    <tr style=\"text-align: right;\">\n",
       "      <th></th>\n",
       "      <th>PassengerId</th>\n",
       "      <th>Survived</th>\n",
       "      <th>Pclass</th>\n",
       "      <th>Name</th>\n",
       "      <th>Sex</th>\n",
       "      <th>Age</th>\n",
       "      <th>SibSp</th>\n",
       "      <th>Parch</th>\n",
       "      <th>Ticket</th>\n",
       "      <th>Fare</th>\n",
       "      <th>Cabin</th>\n",
       "      <th>Embarked</th>\n",
       "    </tr>\n",
       "  </thead>\n",
       "  <tbody>\n",
       "    <tr>\n",
       "      <th>0</th>\n",
       "      <td>1</td>\n",
       "      <td>0</td>\n",
       "      <td>3</td>\n",
       "      <td>Braund, Mr. Owen Harris</td>\n",
       "      <td>male</td>\n",
       "      <td>22.0</td>\n",
       "      <td>1</td>\n",
       "      <td>0</td>\n",
       "      <td>A/5 21171</td>\n",
       "      <td>7.2500</td>\n",
       "      <td>NaN</td>\n",
       "      <td>S</td>\n",
       "    </tr>\n",
       "    <tr>\n",
       "      <th>1</th>\n",
       "      <td>2</td>\n",
       "      <td>1</td>\n",
       "      <td>1</td>\n",
       "      <td>Cumings, Mrs. John Bradley (Florence Briggs Th...</td>\n",
       "      <td>female</td>\n",
       "      <td>38.0</td>\n",
       "      <td>1</td>\n",
       "      <td>0</td>\n",
       "      <td>PC 17599</td>\n",
       "      <td>71.2833</td>\n",
       "      <td>C85</td>\n",
       "      <td>C</td>\n",
       "    </tr>\n",
       "    <tr>\n",
       "      <th>2</th>\n",
       "      <td>3</td>\n",
       "      <td>1</td>\n",
       "      <td>3</td>\n",
       "      <td>Heikkinen, Miss. Laina</td>\n",
       "      <td>female</td>\n",
       "      <td>26.0</td>\n",
       "      <td>0</td>\n",
       "      <td>0</td>\n",
       "      <td>STON/O2. 3101282</td>\n",
       "      <td>7.9250</td>\n",
       "      <td>NaN</td>\n",
       "      <td>S</td>\n",
       "    </tr>\n",
       "    <tr>\n",
       "      <th>3</th>\n",
       "      <td>4</td>\n",
       "      <td>1</td>\n",
       "      <td>1</td>\n",
       "      <td>Futrelle, Mrs. Jacques Heath (Lily May Peel)</td>\n",
       "      <td>female</td>\n",
       "      <td>35.0</td>\n",
       "      <td>1</td>\n",
       "      <td>0</td>\n",
       "      <td>113803</td>\n",
       "      <td>53.1000</td>\n",
       "      <td>C123</td>\n",
       "      <td>S</td>\n",
       "    </tr>\n",
       "    <tr>\n",
       "      <th>4</th>\n",
       "      <td>5</td>\n",
       "      <td>0</td>\n",
       "      <td>3</td>\n",
       "      <td>Allen, Mr. William Henry</td>\n",
       "      <td>M</td>\n",
       "      <td>35.0</td>\n",
       "      <td>0</td>\n",
       "      <td>0</td>\n",
       "      <td>373450</td>\n",
       "      <td>8.0500</td>\n",
       "      <td>NaN</td>\n",
       "      <td>S</td>\n",
       "    </tr>\n",
       "  </tbody>\n",
       "</table>\n",
       "</div>"
      ],
      "text/plain": [
       "   PassengerId  Survived  Pclass  \\\n",
       "0            1         0       3   \n",
       "1            2         1       1   \n",
       "2            3         1       3   \n",
       "3            4         1       1   \n",
       "4            5         0       3   \n",
       "\n",
       "                                                Name     Sex   Age  SibSp  \\\n",
       "0                            Braund, Mr. Owen Harris    male  22.0      1   \n",
       "1  Cumings, Mrs. John Bradley (Florence Briggs Th...  female  38.0      1   \n",
       "2                             Heikkinen, Miss. Laina  female  26.0      0   \n",
       "3       Futrelle, Mrs. Jacques Heath (Lily May Peel)  female  35.0      1   \n",
       "4                           Allen, Mr. William Henry       M  35.0      0   \n",
       "\n",
       "   Parch            Ticket     Fare Cabin Embarked  \n",
       "0      0         A/5 21171   7.2500   NaN        S  \n",
       "1      0          PC 17599  71.2833   C85        C  \n",
       "2      0  STON/O2. 3101282   7.9250   NaN        S  \n",
       "3      0            113803  53.1000  C123        S  \n",
       "4      0            373450   8.0500   NaN        S  "
      ]
     },
     "execution_count": 498,
     "metadata": {},
     "output_type": "execute_result"
    }
   ],
   "source": [
    "# Removing duplicate entries based on the PassengerId column\n",
    "df_cleaned = df.drop_duplicates(subset='PassengerId')\n",
    "\n",
    "# Displaying the first few rows of the cleaned dataframe\n",
    "df_cleaned.head()\n"
   ]
  },
  {
   "cell_type": "markdown",
   "id": "2743ec77-e2ac-472b-a4c3-0013f64c142b",
   "metadata": {},
   "source": [
    "#### Code Explanation:\n",
    "\n",
    "* **Removing Duplicates:** The df.drop_duplicates(subset='PassengerId') function is used to remove duplicate rows from the dataset, considering PassengerId as a unique identifier. This ensures that each passenger appears only once in the cleaned dataset (df_cleaned).\n",
    "\n",
    "* **Subset Specification:** By specifying subset='PassengerId', only the PassengerId column is considered for identifying duplicates, leaving other columns unchanged.\n",
    "\n",
    "* **Displaying Cleaned Data:** The df_cleaned.head() function shows the first few rows of the cleaned dataset to verify that duplicates were removed successfully.\n"
   ]
  },
  {
   "cell_type": "markdown",
   "id": "525d56d8-3996-4332-86d8-e3c12259f56e",
   "metadata": {},
   "source": [
    "## D. Verifying Dataset Size After Removing Duplicates: Total Row and Column Count\n",
    "\n",
    "After eliminating duplicate entries, it's important to reassess the dataset size. By using the df_cleaned.shape function, you can check the total number of rows and columns that remain. This ensures that the dataset is clean and ready for further analysis without any redundant or duplicated data entries."
   ]
  },
  {
   "cell_type": "code",
   "execution_count": 502,
   "id": "4e00f0d2-1fed-42fb-b19f-6bb3af4a0bfb",
   "metadata": {},
   "outputs": [
    {
     "data": {
      "text/plain": [
       "(891, 12)"
      ]
     },
     "execution_count": 502,
     "metadata": {},
     "output_type": "execute_result"
    }
   ],
   "source": [
    "df_cleaned.shape"
   ]
  },
  {
   "cell_type": "markdown",
   "id": "66a272e9-e819-4d43-a667-fb76d0aedc3a",
   "metadata": {},
   "source": [
    "#### Code Explanation:\n",
    "\n",
    "* **Dataset Dimension Check:** The df.shape function returns a tuple representing the dimensions of the dataset. It shows the number of rows and columns in the DataFrame.\n",
    "\n",
    "* **Usage:** This is useful for quickly understanding the dataset's size, helping you assess how much data you're working with before proceeding with analysis. For example, (891, 12) means 891 rows and 12 columns."
   ]
  },
  {
   "cell_type": "markdown",
   "id": "1e3ba808-39b1-4069-a27d-fc72af064618",
   "metadata": {},
   "source": [
    "## E. Identifying and Listing Removed Duplicates\n",
    "\n",
    "To ensure data integrity, it is crucial to identify and review the duplicates that were removed from the dataset. By using a method to filter and display these entries prior to cleaning, you can gain insights into any potential data issues. This process helps maintain transparency in data cleaning efforts and allows for a better understanding of the dataset's structure."
   ]
  },
  {
   "cell_type": "code",
   "execution_count": 506,
   "id": "8efa9e45-cbc7-48d1-baf0-ec0ac29b177a",
   "metadata": {},
   "outputs": [
    {
     "name": "stdout",
     "output_type": "stream",
     "text": [
      "Duplicate entries:\n"
     ]
    },
    {
     "data": {
      "text/html": [
       "<div>\n",
       "<style scoped>\n",
       "    .dataframe tbody tr th:only-of-type {\n",
       "        vertical-align: middle;\n",
       "    }\n",
       "\n",
       "    .dataframe tbody tr th {\n",
       "        vertical-align: top;\n",
       "    }\n",
       "\n",
       "    .dataframe thead th {\n",
       "        text-align: right;\n",
       "    }\n",
       "</style>\n",
       "<table border=\"1\" class=\"dataframe\">\n",
       "  <thead>\n",
       "    <tr style=\"text-align: right;\">\n",
       "      <th></th>\n",
       "      <th>PassengerId</th>\n",
       "      <th>Survived</th>\n",
       "      <th>Pclass</th>\n",
       "      <th>Name</th>\n",
       "      <th>Sex</th>\n",
       "      <th>Age</th>\n",
       "      <th>SibSp</th>\n",
       "      <th>Parch</th>\n",
       "      <th>Ticket</th>\n",
       "      <th>Fare</th>\n",
       "      <th>Cabin</th>\n",
       "      <th>Embarked</th>\n",
       "    </tr>\n",
       "  </thead>\n",
       "  <tbody>\n",
       "    <tr>\n",
       "      <th>15</th>\n",
       "      <td>16</td>\n",
       "      <td>1</td>\n",
       "      <td>2</td>\n",
       "      <td>Hewlett, Mrs. (Mary D Kingcome)</td>\n",
       "      <td>female</td>\n",
       "      <td>55.0</td>\n",
       "      <td>0</td>\n",
       "      <td>0</td>\n",
       "      <td>248706</td>\n",
       "      <td>16.0000</td>\n",
       "      <td>NaN</td>\n",
       "      <td>S</td>\n",
       "    </tr>\n",
       "    <tr>\n",
       "      <th>674</th>\n",
       "      <td>675</td>\n",
       "      <td>0</td>\n",
       "      <td>2</td>\n",
       "      <td>Watson, Mr. Ennis Hastings</td>\n",
       "      <td>male</td>\n",
       "      <td>NaN</td>\n",
       "      <td>0</td>\n",
       "      <td>0</td>\n",
       "      <td>239856</td>\n",
       "      <td>0.0000</td>\n",
       "      <td>NaN</td>\n",
       "      <td>S</td>\n",
       "    </tr>\n",
       "    <tr>\n",
       "      <th>675</th>\n",
       "      <td>676</td>\n",
       "      <td>0</td>\n",
       "      <td>3</td>\n",
       "      <td>Edvardsson, Mr. Gustaf Hjalmar</td>\n",
       "      <td>male</td>\n",
       "      <td>18.0</td>\n",
       "      <td>0</td>\n",
       "      <td>0</td>\n",
       "      <td>349912</td>\n",
       "      <td>7.7750</td>\n",
       "      <td>NaN</td>\n",
       "      <td>S</td>\n",
       "    </tr>\n",
       "    <tr>\n",
       "      <th>756</th>\n",
       "      <td>757</td>\n",
       "      <td>0</td>\n",
       "      <td>3</td>\n",
       "      <td>Carlsson, Mr. August Sigfrid</td>\n",
       "      <td>male</td>\n",
       "      <td>28.0</td>\n",
       "      <td>0</td>\n",
       "      <td>0</td>\n",
       "      <td>350042</td>\n",
       "      <td>7.7958</td>\n",
       "      <td>NaN</td>\n",
       "      <td>S</td>\n",
       "    </tr>\n",
       "    <tr>\n",
       "      <th>758</th>\n",
       "      <td>759</td>\n",
       "      <td>0</td>\n",
       "      <td>3</td>\n",
       "      <td>Theobald, Mr. Thomas Leonard</td>\n",
       "      <td>male</td>\n",
       "      <td>34.0</td>\n",
       "      <td>0</td>\n",
       "      <td>0</td>\n",
       "      <td>363294</td>\n",
       "      <td>8.0500</td>\n",
       "      <td>NaN</td>\n",
       "      <td>S</td>\n",
       "    </tr>\n",
       "    <tr>\n",
       "      <th>775</th>\n",
       "      <td>776</td>\n",
       "      <td>0</td>\n",
       "      <td>3</td>\n",
       "      <td>Myhrman, Mr. Pehr Fabian Oliver Malkolm</td>\n",
       "      <td>male</td>\n",
       "      <td>18.0</td>\n",
       "      <td>0</td>\n",
       "      <td>0</td>\n",
       "      <td>347078</td>\n",
       "      <td>7.7500</td>\n",
       "      <td>NaN</td>\n",
       "      <td>S</td>\n",
       "    </tr>\n",
       "    <tr>\n",
       "      <th>797</th>\n",
       "      <td>798</td>\n",
       "      <td>1</td>\n",
       "      <td>3</td>\n",
       "      <td>Osman, Mrs. Mara</td>\n",
       "      <td>F</td>\n",
       "      <td>31.0</td>\n",
       "      <td>0</td>\n",
       "      <td>0</td>\n",
       "      <td>349244</td>\n",
       "      <td>8.6833</td>\n",
       "      <td>NaN</td>\n",
       "      <td>S</td>\n",
       "    </tr>\n",
       "    <tr>\n",
       "      <th>850</th>\n",
       "      <td>851</td>\n",
       "      <td>0</td>\n",
       "      <td>3</td>\n",
       "      <td>Andersson, Master. Sigvard Harald Elias</td>\n",
       "      <td>male</td>\n",
       "      <td>4.0</td>\n",
       "      <td>4</td>\n",
       "      <td>2</td>\n",
       "      <td>347082</td>\n",
       "      <td>31.2750</td>\n",
       "      <td>NaN</td>\n",
       "      <td>S</td>\n",
       "    </tr>\n",
       "    <tr>\n",
       "      <th>851</th>\n",
       "      <td>852</td>\n",
       "      <td>0</td>\n",
       "      <td>3</td>\n",
       "      <td>Svensson, Mr. Johan</td>\n",
       "      <td>male</td>\n",
       "      <td>74.0</td>\n",
       "      <td>0</td>\n",
       "      <td>0</td>\n",
       "      <td>347060</td>\n",
       "      <td>7.7750</td>\n",
       "      <td>NaN</td>\n",
       "      <td>S</td>\n",
       "    </tr>\n",
       "    <tr>\n",
       "      <th>871</th>\n",
       "      <td>872</td>\n",
       "      <td>1</td>\n",
       "      <td>1</td>\n",
       "      <td>Beckwith, Mrs. Richard Leonard (Sallie Monypeny)</td>\n",
       "      <td>female</td>\n",
       "      <td>47.0</td>\n",
       "      <td>1</td>\n",
       "      <td>1</td>\n",
       "      <td>11751</td>\n",
       "      <td>52.5542</td>\n",
       "      <td>D35</td>\n",
       "      <td>S</td>\n",
       "    </tr>\n",
       "    <tr>\n",
       "      <th>891</th>\n",
       "      <td>16</td>\n",
       "      <td>1</td>\n",
       "      <td>2</td>\n",
       "      <td>Hewlett, Mrs. (Mary D Kingcome)</td>\n",
       "      <td>female</td>\n",
       "      <td>55.0</td>\n",
       "      <td>0</td>\n",
       "      <td>0</td>\n",
       "      <td>248706</td>\n",
       "      <td>16.0000</td>\n",
       "      <td>NaN</td>\n",
       "      <td>S</td>\n",
       "    </tr>\n",
       "    <tr>\n",
       "      <th>892</th>\n",
       "      <td>872</td>\n",
       "      <td>1</td>\n",
       "      <td>1</td>\n",
       "      <td>Beckwith, Mrs. Richard Leonard (Sallie Monypeny)</td>\n",
       "      <td>female</td>\n",
       "      <td>47.0</td>\n",
       "      <td>1</td>\n",
       "      <td>1</td>\n",
       "      <td>11751</td>\n",
       "      <td>52.5542</td>\n",
       "      <td>D35</td>\n",
       "      <td>S</td>\n",
       "    </tr>\n",
       "    <tr>\n",
       "      <th>893</th>\n",
       "      <td>798</td>\n",
       "      <td>1</td>\n",
       "      <td>3</td>\n",
       "      <td>Osman, Mrs. Mara</td>\n",
       "      <td>female</td>\n",
       "      <td>31.0</td>\n",
       "      <td>0</td>\n",
       "      <td>0</td>\n",
       "      <td>349244</td>\n",
       "      <td>8.6833</td>\n",
       "      <td>NaN</td>\n",
       "      <td>S</td>\n",
       "    </tr>\n",
       "    <tr>\n",
       "      <th>894</th>\n",
       "      <td>759</td>\n",
       "      <td>0</td>\n",
       "      <td>3</td>\n",
       "      <td>Theobald, Mr. Thomas Leonard</td>\n",
       "      <td>male</td>\n",
       "      <td>34.0</td>\n",
       "      <td>0</td>\n",
       "      <td>0</td>\n",
       "      <td>363294</td>\n",
       "      <td>8.0500</td>\n",
       "      <td>NaN</td>\n",
       "      <td>S</td>\n",
       "    </tr>\n",
       "    <tr>\n",
       "      <th>895</th>\n",
       "      <td>757</td>\n",
       "      <td>0</td>\n",
       "      <td>3</td>\n",
       "      <td>Carlsson, Mr. August Sigfrid</td>\n",
       "      <td>male</td>\n",
       "      <td>28.0</td>\n",
       "      <td>0</td>\n",
       "      <td>0</td>\n",
       "      <td>350042</td>\n",
       "      <td>7.7958</td>\n",
       "      <td>NaN</td>\n",
       "      <td>S</td>\n",
       "    </tr>\n",
       "    <tr>\n",
       "      <th>896</th>\n",
       "      <td>776</td>\n",
       "      <td>0</td>\n",
       "      <td>3</td>\n",
       "      <td>Myhrman, Mr. Pehr Fabian Oliver Malkolm</td>\n",
       "      <td>male</td>\n",
       "      <td>18.0</td>\n",
       "      <td>0</td>\n",
       "      <td>0</td>\n",
       "      <td>347078</td>\n",
       "      <td>7.7500</td>\n",
       "      <td>NaN</td>\n",
       "      <td>S</td>\n",
       "    </tr>\n",
       "    <tr>\n",
       "      <th>897</th>\n",
       "      <td>851</td>\n",
       "      <td>0</td>\n",
       "      <td>3</td>\n",
       "      <td>Andersson, Master. Sigvard Harald Elias</td>\n",
       "      <td>male</td>\n",
       "      <td>4.0</td>\n",
       "      <td>4</td>\n",
       "      <td>2</td>\n",
       "      <td>347082</td>\n",
       "      <td>31.2750</td>\n",
       "      <td>NaN</td>\n",
       "      <td>S</td>\n",
       "    </tr>\n",
       "    <tr>\n",
       "      <th>898</th>\n",
       "      <td>852</td>\n",
       "      <td>0</td>\n",
       "      <td>3</td>\n",
       "      <td>Svensson, Mr. Johan</td>\n",
       "      <td>male</td>\n",
       "      <td>74.0</td>\n",
       "      <td>0</td>\n",
       "      <td>0</td>\n",
       "      <td>347060</td>\n",
       "      <td>7.7750</td>\n",
       "      <td>NaN</td>\n",
       "      <td>S</td>\n",
       "    </tr>\n",
       "    <tr>\n",
       "      <th>899</th>\n",
       "      <td>675</td>\n",
       "      <td>0</td>\n",
       "      <td>2</td>\n",
       "      <td>Watson, Mr. Ennis Hastings</td>\n",
       "      <td>male</td>\n",
       "      <td>NaN</td>\n",
       "      <td>0</td>\n",
       "      <td>0</td>\n",
       "      <td>239856</td>\n",
       "      <td>0.0000</td>\n",
       "      <td>NaN</td>\n",
       "      <td>S</td>\n",
       "    </tr>\n",
       "    <tr>\n",
       "      <th>900</th>\n",
       "      <td>676</td>\n",
       "      <td>0</td>\n",
       "      <td>3</td>\n",
       "      <td>Edvardsson, Mr. Gustaf Hjalmar</td>\n",
       "      <td>male</td>\n",
       "      <td>18.0</td>\n",
       "      <td>0</td>\n",
       "      <td>0</td>\n",
       "      <td>349912</td>\n",
       "      <td>7.7750</td>\n",
       "      <td>NaN</td>\n",
       "      <td>S</td>\n",
       "    </tr>\n",
       "  </tbody>\n",
       "</table>\n",
       "</div>"
      ],
      "text/plain": [
       "     PassengerId  Survived  Pclass  \\\n",
       "15            16         1       2   \n",
       "674          675         0       2   \n",
       "675          676         0       3   \n",
       "756          757         0       3   \n",
       "758          759         0       3   \n",
       "775          776         0       3   \n",
       "797          798         1       3   \n",
       "850          851         0       3   \n",
       "851          852         0       3   \n",
       "871          872         1       1   \n",
       "891           16         1       2   \n",
       "892          872         1       1   \n",
       "893          798         1       3   \n",
       "894          759         0       3   \n",
       "895          757         0       3   \n",
       "896          776         0       3   \n",
       "897          851         0       3   \n",
       "898          852         0       3   \n",
       "899          675         0       2   \n",
       "900          676         0       3   \n",
       "\n",
       "                                                 Name     Sex   Age  SibSp  \\\n",
       "15                   Hewlett, Mrs. (Mary D Kingcome)   female  55.0      0   \n",
       "674                        Watson, Mr. Ennis Hastings    male   NaN      0   \n",
       "675                    Edvardsson, Mr. Gustaf Hjalmar    male  18.0      0   \n",
       "756                      Carlsson, Mr. August Sigfrid    male  28.0      0   \n",
       "758                      Theobald, Mr. Thomas Leonard    male  34.0      0   \n",
       "775           Myhrman, Mr. Pehr Fabian Oliver Malkolm    male  18.0      0   \n",
       "797                                  Osman, Mrs. Mara       F  31.0      0   \n",
       "850           Andersson, Master. Sigvard Harald Elias    male   4.0      4   \n",
       "851                               Svensson, Mr. Johan    male  74.0      0   \n",
       "871  Beckwith, Mrs. Richard Leonard (Sallie Monypeny)  female  47.0      1   \n",
       "891                  Hewlett, Mrs. (Mary D Kingcome)   female  55.0      0   \n",
       "892  Beckwith, Mrs. Richard Leonard (Sallie Monypeny)  female  47.0      1   \n",
       "893                                  Osman, Mrs. Mara  female  31.0      0   \n",
       "894                      Theobald, Mr. Thomas Leonard    male  34.0      0   \n",
       "895                      Carlsson, Mr. August Sigfrid    male  28.0      0   \n",
       "896           Myhrman, Mr. Pehr Fabian Oliver Malkolm    male  18.0      0   \n",
       "897           Andersson, Master. Sigvard Harald Elias    male   4.0      4   \n",
       "898                               Svensson, Mr. Johan    male  74.0      0   \n",
       "899                        Watson, Mr. Ennis Hastings    male   NaN      0   \n",
       "900                    Edvardsson, Mr. Gustaf Hjalmar    male  18.0      0   \n",
       "\n",
       "     Parch  Ticket     Fare Cabin Embarked  \n",
       "15       0  248706  16.0000   NaN        S  \n",
       "674      0  239856   0.0000   NaN        S  \n",
       "675      0  349912   7.7750   NaN        S  \n",
       "756      0  350042   7.7958   NaN        S  \n",
       "758      0  363294   8.0500   NaN        S  \n",
       "775      0  347078   7.7500   NaN        S  \n",
       "797      0  349244   8.6833   NaN        S  \n",
       "850      2  347082  31.2750   NaN        S  \n",
       "851      0  347060   7.7750   NaN        S  \n",
       "871      1   11751  52.5542   D35        S  \n",
       "891      0  248706  16.0000   NaN        S  \n",
       "892      1   11751  52.5542   D35        S  \n",
       "893      0  349244   8.6833   NaN        S  \n",
       "894      0  363294   8.0500   NaN        S  \n",
       "895      0  350042   7.7958   NaN        S  \n",
       "896      0  347078   7.7500   NaN        S  \n",
       "897      2  347082  31.2750   NaN        S  \n",
       "898      0  347060   7.7750   NaN        S  \n",
       "899      0  239856   0.0000   NaN        S  \n",
       "900      0  349912   7.7750   NaN        S  "
      ]
     },
     "execution_count": 506,
     "metadata": {},
     "output_type": "execute_result"
    }
   ],
   "source": [
    "# Identifying duplicates based on PassengerId\n",
    "duplicates = df[df.duplicated(subset='PassengerId', keep=False)]\n",
    "\n",
    "# Display the duplicate entries\n",
    "print(\"Duplicate entries:\")\n",
    "duplicates\n"
   ]
  },
  {
   "cell_type": "markdown",
   "id": "02fcc0e6-a382-4913-b29b-d3b446413075",
   "metadata": {},
   "source": [
    "#### Code Explanation:\n",
    "\n",
    "* **Identifying Duplicates:** The line duplicates = df[df.duplicated(subset='PassengerId', keep=False)] identifies duplicate entries in the dataset based on the PassengerId column. The duplicated() function returns a boolean Series, indicating whether each row is a duplicate.\n",
    "\n",
    "* **subset='PassengerId':** This specifies that the check for duplicates should only consider the PassengerId column.\n",
    "keep=False: This argument ensures that all instances of duplicate entries are marked as True, allowing us to capture every occurrence of duplicates.\n",
    "\n",
    "* **Displaying Duplicate Entries:** The print(\"Duplicate entries:\") statement outputs a header message to the console, followed by the variable duplicates, which contains all rows that were identified as duplicates. This allows us to review the duplicate records before any cleaning operations are performed.\n",
    "\n",
    "This step is essential for maintaining data quality, as it helps us understand which entries were duplicated, facilitating informed decisions about how to handle them."
   ]
  },
  {
   "cell_type": "markdown",
   "id": "641d0b3c-79bc-451c-a000-25806201917b",
   "metadata": {},
   "source": [
    "## F. Calculating the Median Age: Understanding Central Tendency in Passenger Data\n",
    "\n",
    "Determining the median age of passengers is a crucial step in analyzing the dataset. The median provides a measure of central tendency, helping to understand the typical age of individuals aboard the Titanic. By calculating this value, we can effectively address any missing data in the Age column and gain insights into the demographics of the passengers."
   ]
  },
  {
   "cell_type": "code",
   "execution_count": 510,
   "id": "4355e9f3-4202-4d49-95bd-168f173ea836",
   "metadata": {},
   "outputs": [
    {
     "data": {
      "text/plain": [
       "28.0"
      ]
     },
     "execution_count": 510,
     "metadata": {},
     "output_type": "execute_result"
    }
   ],
   "source": [
    "# Calculating the median of the Age column\n",
    "age_median = df_cleaned['Age'].median()\n",
    "age_median"
   ]
  },
  {
   "cell_type": "markdown",
   "id": "aac2f42d-c57c-479e-bb6b-d0dc889a692e",
   "metadata": {},
   "source": [
    "#### Code Explanation:\n",
    "\n",
    "* **Calculating the Median:** The line age_median = df_cleaned['Age'].median() calculates the median value of the Age column in the cleaned DataFrame (df_cleaned). The median() function computes the middle value when the ages are sorted in ascending order.\n",
    "\n",
    "* **Storing the Result:** The calculated median age is stored in the variable age_median, which can be used later for filling missing values or for further analysis.\n",
    "\n",
    "* **Understanding the Median:** The median is a robust measure of central tendency, less affected by outliers than the mean. By focusing on the median age, we can gain a clearer understanding of the typical age of passengers on the Titanic, facilitating a more accurate analysis of survival rates and demographic patterns.\n",
    "\n",
    "This step is essential in preparing the dataset for further analysis, especially when addressing missing values in the Age column."
   ]
  },
  {
   "cell_type": "markdown",
   "id": "54448935-f96b-4a4e-89c4-0a5e1c063569",
   "metadata": {},
   "source": [
    "## G. Filling Missing Values in the Age Column with the Median\n",
    "\n",
    "To enhance the dataset's integrity and ensure comprehensive analysis, we will fill the missing values in the Age column using the previously calculated median age. This approach helps maintain the overall distribution of the data while preventing loss of information due to missing entries. By doing so, we can ensure that our analysis reflects a more complete view of the passenger demographics."
   ]
  },
  {
   "cell_type": "code",
   "execution_count": 514,
   "id": "e5c04651-b0d1-48fa-98f7-ea01c20ade7e",
   "metadata": {},
   "outputs": [
    {
     "name": "stderr",
     "output_type": "stream",
     "text": [
      "/var/folders/rn/mjv0rnm53b72ykwx9qvn64nm0000gn/T/ipykernel_5660/4120481977.py:2: FutureWarning: A value is trying to be set on a copy of a DataFrame or Series through chained assignment using an inplace method.\n",
      "The behavior will change in pandas 3.0. This inplace method will never work because the intermediate object on which we are setting values always behaves as a copy.\n",
      "\n",
      "For example, when doing 'df[col].method(value, inplace=True)', try using 'df.method({col: value}, inplace=True)' or df[col] = df[col].method(value) instead, to perform the operation inplace on the original object.\n",
      "\n",
      "\n",
      "  df_cleaned['Age'].fillna(age_median, inplace=True)\n",
      "/var/folders/rn/mjv0rnm53b72ykwx9qvn64nm0000gn/T/ipykernel_5660/4120481977.py:2: SettingWithCopyWarning: \n",
      "A value is trying to be set on a copy of a slice from a DataFrame\n",
      "\n",
      "See the caveats in the documentation: https://pandas.pydata.org/pandas-docs/stable/user_guide/indexing.html#returning-a-view-versus-a-copy\n",
      "  df_cleaned['Age'].fillna(age_median, inplace=True)\n"
     ]
    },
    {
     "data": {
      "text/html": [
       "<div>\n",
       "<style scoped>\n",
       "    .dataframe tbody tr th:only-of-type {\n",
       "        vertical-align: middle;\n",
       "    }\n",
       "\n",
       "    .dataframe tbody tr th {\n",
       "        vertical-align: top;\n",
       "    }\n",
       "\n",
       "    .dataframe thead th {\n",
       "        text-align: right;\n",
       "    }\n",
       "</style>\n",
       "<table border=\"1\" class=\"dataframe\">\n",
       "  <thead>\n",
       "    <tr style=\"text-align: right;\">\n",
       "      <th></th>\n",
       "      <th>PassengerId</th>\n",
       "      <th>Survived</th>\n",
       "      <th>Pclass</th>\n",
       "      <th>Name</th>\n",
       "      <th>Sex</th>\n",
       "      <th>Age</th>\n",
       "      <th>SibSp</th>\n",
       "      <th>Parch</th>\n",
       "      <th>Ticket</th>\n",
       "      <th>Fare</th>\n",
       "      <th>Cabin</th>\n",
       "      <th>Embarked</th>\n",
       "    </tr>\n",
       "  </thead>\n",
       "  <tbody>\n",
       "    <tr>\n",
       "      <th>0</th>\n",
       "      <td>1</td>\n",
       "      <td>0</td>\n",
       "      <td>3</td>\n",
       "      <td>Braund, Mr. Owen Harris</td>\n",
       "      <td>male</td>\n",
       "      <td>22.0</td>\n",
       "      <td>1</td>\n",
       "      <td>0</td>\n",
       "      <td>A/5 21171</td>\n",
       "      <td>7.2500</td>\n",
       "      <td>NaN</td>\n",
       "      <td>S</td>\n",
       "    </tr>\n",
       "    <tr>\n",
       "      <th>1</th>\n",
       "      <td>2</td>\n",
       "      <td>1</td>\n",
       "      <td>1</td>\n",
       "      <td>Cumings, Mrs. John Bradley (Florence Briggs Th...</td>\n",
       "      <td>female</td>\n",
       "      <td>38.0</td>\n",
       "      <td>1</td>\n",
       "      <td>0</td>\n",
       "      <td>PC 17599</td>\n",
       "      <td>71.2833</td>\n",
       "      <td>C85</td>\n",
       "      <td>C</td>\n",
       "    </tr>\n",
       "    <tr>\n",
       "      <th>2</th>\n",
       "      <td>3</td>\n",
       "      <td>1</td>\n",
       "      <td>3</td>\n",
       "      <td>Heikkinen, Miss. Laina</td>\n",
       "      <td>female</td>\n",
       "      <td>26.0</td>\n",
       "      <td>0</td>\n",
       "      <td>0</td>\n",
       "      <td>STON/O2. 3101282</td>\n",
       "      <td>7.9250</td>\n",
       "      <td>NaN</td>\n",
       "      <td>S</td>\n",
       "    </tr>\n",
       "    <tr>\n",
       "      <th>3</th>\n",
       "      <td>4</td>\n",
       "      <td>1</td>\n",
       "      <td>1</td>\n",
       "      <td>Futrelle, Mrs. Jacques Heath (Lily May Peel)</td>\n",
       "      <td>female</td>\n",
       "      <td>35.0</td>\n",
       "      <td>1</td>\n",
       "      <td>0</td>\n",
       "      <td>113803</td>\n",
       "      <td>53.1000</td>\n",
       "      <td>C123</td>\n",
       "      <td>S</td>\n",
       "    </tr>\n",
       "    <tr>\n",
       "      <th>4</th>\n",
       "      <td>5</td>\n",
       "      <td>0</td>\n",
       "      <td>3</td>\n",
       "      <td>Allen, Mr. William Henry</td>\n",
       "      <td>M</td>\n",
       "      <td>35.0</td>\n",
       "      <td>0</td>\n",
       "      <td>0</td>\n",
       "      <td>373450</td>\n",
       "      <td>8.0500</td>\n",
       "      <td>NaN</td>\n",
       "      <td>S</td>\n",
       "    </tr>\n",
       "    <tr>\n",
       "      <th>...</th>\n",
       "      <td>...</td>\n",
       "      <td>...</td>\n",
       "      <td>...</td>\n",
       "      <td>...</td>\n",
       "      <td>...</td>\n",
       "      <td>...</td>\n",
       "      <td>...</td>\n",
       "      <td>...</td>\n",
       "      <td>...</td>\n",
       "      <td>...</td>\n",
       "      <td>...</td>\n",
       "      <td>...</td>\n",
       "    </tr>\n",
       "    <tr>\n",
       "      <th>886</th>\n",
       "      <td>887</td>\n",
       "      <td>0</td>\n",
       "      <td>2</td>\n",
       "      <td>Montvila, Rev. Juozas</td>\n",
       "      <td>male</td>\n",
       "      <td>27.0</td>\n",
       "      <td>0</td>\n",
       "      <td>0</td>\n",
       "      <td>211536</td>\n",
       "      <td>13.0000</td>\n",
       "      <td>NaN</td>\n",
       "      <td>S</td>\n",
       "    </tr>\n",
       "    <tr>\n",
       "      <th>887</th>\n",
       "      <td>888</td>\n",
       "      <td>1</td>\n",
       "      <td>1</td>\n",
       "      <td>Graham, Miss. Margaret Edith</td>\n",
       "      <td>female</td>\n",
       "      <td>19.0</td>\n",
       "      <td>0</td>\n",
       "      <td>0</td>\n",
       "      <td>112053</td>\n",
       "      <td>30.0000</td>\n",
       "      <td>B42</td>\n",
       "      <td>S</td>\n",
       "    </tr>\n",
       "    <tr>\n",
       "      <th>888</th>\n",
       "      <td>889</td>\n",
       "      <td>0</td>\n",
       "      <td>3</td>\n",
       "      <td>Johnston, Miss. Catherine Helen \"Carrie\"</td>\n",
       "      <td>female</td>\n",
       "      <td>28.0</td>\n",
       "      <td>1</td>\n",
       "      <td>2</td>\n",
       "      <td>W./C. 6607</td>\n",
       "      <td>23.4500</td>\n",
       "      <td>NaN</td>\n",
       "      <td>S</td>\n",
       "    </tr>\n",
       "    <tr>\n",
       "      <th>889</th>\n",
       "      <td>890</td>\n",
       "      <td>1</td>\n",
       "      <td>1</td>\n",
       "      <td>Behr, Mr. Karl Howell</td>\n",
       "      <td>male</td>\n",
       "      <td>26.0</td>\n",
       "      <td>0</td>\n",
       "      <td>0</td>\n",
       "      <td>111369</td>\n",
       "      <td>30.0000</td>\n",
       "      <td>C148</td>\n",
       "      <td>C</td>\n",
       "    </tr>\n",
       "    <tr>\n",
       "      <th>890</th>\n",
       "      <td>891</td>\n",
       "      <td>0</td>\n",
       "      <td>3</td>\n",
       "      <td>Dooley, Mr. Patrick</td>\n",
       "      <td>male</td>\n",
       "      <td>32.0</td>\n",
       "      <td>0</td>\n",
       "      <td>0</td>\n",
       "      <td>370376</td>\n",
       "      <td>7.7500</td>\n",
       "      <td>NaN</td>\n",
       "      <td>Q</td>\n",
       "    </tr>\n",
       "  </tbody>\n",
       "</table>\n",
       "<p>891 rows × 12 columns</p>\n",
       "</div>"
      ],
      "text/plain": [
       "     PassengerId  Survived  Pclass  \\\n",
       "0              1         0       3   \n",
       "1              2         1       1   \n",
       "2              3         1       3   \n",
       "3              4         1       1   \n",
       "4              5         0       3   \n",
       "..           ...       ...     ...   \n",
       "886          887         0       2   \n",
       "887          888         1       1   \n",
       "888          889         0       3   \n",
       "889          890         1       1   \n",
       "890          891         0       3   \n",
       "\n",
       "                                                  Name     Sex   Age  SibSp  \\\n",
       "0                              Braund, Mr. Owen Harris    male  22.0      1   \n",
       "1    Cumings, Mrs. John Bradley (Florence Briggs Th...  female  38.0      1   \n",
       "2                               Heikkinen, Miss. Laina  female  26.0      0   \n",
       "3         Futrelle, Mrs. Jacques Heath (Lily May Peel)  female  35.0      1   \n",
       "4                             Allen, Mr. William Henry       M  35.0      0   \n",
       "..                                                 ...     ...   ...    ...   \n",
       "886                              Montvila, Rev. Juozas    male  27.0      0   \n",
       "887                       Graham, Miss. Margaret Edith  female  19.0      0   \n",
       "888           Johnston, Miss. Catherine Helen \"Carrie\"  female  28.0      1   \n",
       "889                              Behr, Mr. Karl Howell    male  26.0      0   \n",
       "890                                Dooley, Mr. Patrick    male  32.0      0   \n",
       "\n",
       "     Parch            Ticket     Fare Cabin Embarked  \n",
       "0        0         A/5 21171   7.2500   NaN        S  \n",
       "1        0          PC 17599  71.2833   C85        C  \n",
       "2        0  STON/O2. 3101282   7.9250   NaN        S  \n",
       "3        0            113803  53.1000  C123        S  \n",
       "4        0            373450   8.0500   NaN        S  \n",
       "..     ...               ...      ...   ...      ...  \n",
       "886      0            211536  13.0000   NaN        S  \n",
       "887      0            112053  30.0000   B42        S  \n",
       "888      2        W./C. 6607  23.4500   NaN        S  \n",
       "889      0            111369  30.0000  C148        C  \n",
       "890      0            370376   7.7500   NaN        Q  \n",
       "\n",
       "[891 rows x 12 columns]"
      ]
     },
     "execution_count": 514,
     "metadata": {},
     "output_type": "execute_result"
    }
   ],
   "source": [
    "# Fill missing values in the Age column with the median value\n",
    "df_cleaned['Age'].fillna(age_median, inplace=True)\n",
    "\n",
    "# Displaying the first few rows to verify changes\n",
    "df_cleaned\n"
   ]
  },
  {
   "cell_type": "markdown",
   "id": "4e3643fb-18c9-484b-8ffe-63aef7657629",
   "metadata": {},
   "source": [
    "#### Code Explanation:\n",
    "\n",
    "* **Filling Missing Values:** The line df_cleaned['Age'].fillna(age_median, inplace=True) fills any missing values (NaN) in the Age column with the calculated median age stored in the age_median variable. The fillna() function is used here to replace the missing entries.\n",
    "\n",
    "* **inplace=True:** This argument modifies the existing DataFrame (df_cleaned) directly, ensuring that the changes are applied without needing to create a new DataFrame.\n",
    "\n",
    "* **Verifying Changes:** The statement df_cleaned at the end displays the updated DataFrame, allowing us to visually inspect the first few rows and confirm that missing age values have been successfully replaced with the median.\n",
    "\n",
    "By filling missing values with the median, we preserve the dataset's structure while minimizing the impact of incomplete data, enabling more accurate analyses and insights in subsequent steps."
   ]
  },
  {
   "cell_type": "markdown",
   "id": "66d72e1d-d1b3-425d-a663-97a1041bffab",
   "metadata": {},
   "source": [
    "## H. Visualizing the Relationship Between Fare and Age: Scatter Plot Analysis\n",
    "\n",
    "Creating a scatter plot to visualize the relationship between passenger fare and age allows us to identify potential trends and patterns within the data. By plotting Fare on the x-axis and Age on the y-axis, we can explore how these two variables interact, revealing insights into the demographics of passengers who paid different fare amounts. This visualization aids in understanding the influence of age on ticket pricing and survival outcomes, facilitating a deeper analysis of the dataset."
   ]
  },
  {
   "cell_type": "code",
   "execution_count": 518,
   "id": "c65c177e-93be-4a8e-879a-73188597b296",
   "metadata": {},
   "outputs": [
    {
     "data": {
      "image/png": "[encoded data removed]",
      "text/plain": [
       "<Figure size 1000x600 with 1 Axes>"
      ]
     },
     "metadata": {},
     "output_type": "display_data"
    }
   ],
   "source": [
    "import matplotlib.pyplot as plt\n",
    "\n",
    "# Create a scatter plot with Fare on the x-axis and Age on the y-axis\n",
    "plt.figure(figsize=(10, 6))\n",
    "plt.scatter(df_cleaned['Fare'], df_cleaned['Age'], alpha=0.5)\n",
    "\n",
    "# Add labels and a title to the plot\n",
    "plt.title('Scatter Plot of Fare vs. Age', fontsize=16)\n",
    "plt.xlabel('Fare', fontsize=14)\n",
    "plt.ylabel('Age', fontsize=14)\n",
    "\n",
    "# Show the plot\n",
    "plt.show()\n"
   ]
  },
  {
   "cell_type": "markdown",
   "id": "0a21aa54-a01d-4708-8218-46574f301627",
   "metadata": {},
   "source": [
    "#### Code Explanation:\n",
    "\n",
    "* **Importing Matplotlib:** The code starts by importing the matplotlib.pyplot module as plt, which is a widely used library for creating static, animated, and interactive visualizations in Python.\n",
    "\n",
    "* **Creating a Figure:** The line plt.figure(figsize=(10, 6)) initializes a new figure for the plot with a specified size of 10 inches wide by 6 inches tall. This ensures that the scatter plot is adequately sized for visualization.\n",
    "\n",
    "* **Creating the Scatter Plot:** The command plt.scatter(df_cleaned['Fare'], df_cleaned['Age'], alpha=0.5) generates the scatter plot with Fare plotted on the x-axis and Age on the y-axis. The alpha=0.5 parameter adds transparency to the points, helping to mitigate overlap and improve visibility in areas with many data points.\n",
    "\n",
    "* **Adding Titles and Labels:**\n",
    "\n",
    "       * plt.title('Scatter Plot of Fare vs. Age', fontsize=16): This sets the title of the plot, which provides context for the      visualization.\n",
    "       * plt.xlabel('Fare', fontsize=14): This labels the x-axis as \"Fare,\" indicating what data is represented.\n",
    "       * plt.ylabel('Age', fontsize=14): This labels the y-axis as \"Age,\" clarifying the variable plotted.\n",
    "       * Displaying the Plot: Finally, the command plt.show() renders the scatter plot on the screen, allowing for visual analysis of the relationship between fare and age among the passengers.\n",
    "\n",
    "This visualization is an important step in exploring data relationships, helping to identify trends and patterns that may inform further analysis."
   ]
  },
  {
   "cell_type": "markdown",
   "id": "187d8d89-f1e1-4969-8dea-af56eea0bfef",
   "metadata": {},
   "source": [
    "## I. Analyzing Survival Rate: Insights into Passenger Outcomes\n",
    "\n",
    "Calculating the survival rate among passengers is crucial for understanding the factors that influenced survival during the Titanic disaster. By examining the proportion of survivors compared to the total number of passengers, we can gain valuable insights into demographic trends and characteristics associated with higher survival rates. This analysis serves as a foundation for further exploration into the impacts of variables such as age, gender, and class on survival outcomes."
   ]
  },
  {
   "cell_type": "code",
   "execution_count": 522,
   "id": "028d1af0-2546-40ca-9f88-f86d647bbfa5",
   "metadata": {},
   "outputs": [
    {
     "name": "stdout",
     "output_type": "stream",
     "text": [
      "Survival rate for each passenger class:\n",
      "Pclass\n",
      "1    62.962963\n",
      "2    47.282609\n",
      "3    24.236253\n",
      "Name: Survived, dtype: float64\n"
     ]
    }
   ],
   "source": [
    "# Calculating survival rate for each passenger class\n",
    "survival_rate_class = df_cleaned.groupby('Pclass')['Survived'].mean()*100\n",
    "\n",
    "# Displaying the survival rate for each class\n",
    "print(\"Survival rate for each passenger class:\")\n",
    "print(survival_rate_class)\n"
   ]
  },
  {
   "cell_type": "code",
   "execution_count": 524,
   "id": "0fe1dcf4-3fac-4486-b3a7-6679ca50e8b0",
   "metadata": {},
   "outputs": [
    {
     "data": {
      "text/plain": [
       "{'F', 'M', 'female', 'male'}"
      ]
     },
     "execution_count": 524,
     "metadata": {},
     "output_type": "execute_result"
    }
   ],
   "source": [
    "set(df['Sex'])"
   ]
  },
  {
   "cell_type": "markdown",
   "id": "4a22f125-8cbc-4dc0-8341-2f7bc794c83e",
   "metadata": {},
   "source": [
    "#### Code Explanation:\n",
    "\n",
    "* **Calculating Survival Rate by Class:** The line survival_rate_class = df_cleaned.groupby('Pclass')['Survived'].mean() calculates the survival rate for each passenger class. Here’s how it works:\n",
    "\n",
    "* **df_cleaned.groupby('Pclass'):** This groups the DataFrame by the Pclass column, creating separate subsets for each class of passengers (1st, 2nd, and 3rd).\n",
    "\n",
    "* **['Survived'].mean():** For each group, it computes the mean of the Survived column, where survival is typically represented as 1 (survived) and 0 (did not survive). The mean value thus represents the proportion of passengers who survived in each class.\n",
    "\n",
    "* **Displaying the Results:** The print(\"Survival rate for each passenger class:\") statement provides a clear message indicating what is being displayed. The subsequent print(survival_rate_class) outputs the calculated survival rates for each passenger class.\n",
    "\n",
    "This step is essential for understanding how passenger class influenced survival chances, allowing for deeper analysis of socio-economic factors during the Titanic tragedy. By analyzing these survival rates, we can uncover patterns that highlight disparities in survival based on class."
   ]
  },
  {
   "cell_type": "markdown",
   "id": "b8e80263-9718-482c-8ad3-3995c6114465",
   "metadata": {},
   "source": [
    "\n",
    "## J. Examining Survival Rate by Gender: Insights into Demographic Impact\n",
    "Analyzing the survival rate by gender provides valuable insights into the factors influencing survival during the Titanic disaster. By comparing the proportions of male and female passengers who survived, we can better understand the role of gender in survival outcomes. This analysis highlights potential social and cultural dynamics at play during the incident, offering a clearer picture of how demographic characteristics affected survival rates."
   ]
  },
  {
   "cell_type": "code",
   "execution_count": 528,
   "id": "f193f2b8-c560-4d8e-b83a-9153830d5ab7",
   "metadata": {},
   "outputs": [
    {
     "name": "stdout",
     "output_type": "stream",
     "text": [
      "Survival rate for each gender:\n",
      "Sex\n",
      "F         83.333333\n",
      "M         14.285714\n",
      "female    74.025974\n",
      "male      18.947368\n",
      "Name: Survived, dtype: float64\n"
     ]
    }
   ],
   "source": [
    "# Calculate survival rate for each gender\n",
    "survival_rate_gender = df_cleaned.groupby('Sex')['Survived'].mean()*100\n",
    "\n",
    "# Display the survival rate for each gender\n",
    "print(\"Survival rate for each gender:\")\n",
    "print(survival_rate_gender)\n"
   ]
  },
  {
   "cell_type": "markdown",
   "id": "babe2c99-a601-4fef-bf5b-7a81c0f7706c",
   "metadata": {},
   "source": [
    "#### Code Explanation:\n",
    "\n",
    "* **Calculating Survival Rate by Gender:** The line survival_rate_gender = df_cleaned.groupby('Sex')['Survived'].mean() computes the survival rate for each gender in the dataset. Here's a breakdown of how it works:\n",
    "\n",
    "* **df_cleaned.groupby('Sex'):** This groups the DataFrame by the Sex column, creating separate subsets for male and female passengers.\n",
    "['Survived'].mean(): For each gender group, it calculates the mean of the Survived column, where 1 indicates survival and 0 indicates non-survival. The mean value thus represents the proportion of survivors within each gender.\n",
    "\n",
    "* **Displaying the Results:** The statement print(\"Survival rate for each gender:\") provides context for the output that follows. The subsequent print(survival_rate_gender) displays the calculated survival rates for both male and female passengers.\n",
    "\n",
    "This step is crucial for understanding the impact of gender on survival during the Titanic tragedy. By comparing survival rates between genders, we can gain insights into societal norms and behaviors that may have influenced the outcomes of the disaster."
   ]
  },
  {
   "cell_type": "markdown",
   "id": "56714aa3-d3c7-4276-b318-6b3986a825d0",
   "metadata": {},
   "source": [
    "### Standardizing Gender Values and Recalculating Survival Rates by Gender"
   ]
  },
  {
   "cell_type": "code",
   "execution_count": 532,
   "id": "57777580-6c9b-42e3-97bf-86c910ecfd88",
   "metadata": {},
   "outputs": [
    {
     "name": "stdout",
     "output_type": "stream",
     "text": [
      "Updated survival rate for each gender:\n",
      "Sex\n",
      "female    74.203822\n",
      "male      18.890815\n",
      "Name: Survived, dtype: float64\n"
     ]
    },
    {
     "name": "stderr",
     "output_type": "stream",
     "text": [
      "/var/folders/rn/mjv0rnm53b72ykwx9qvn64nm0000gn/T/ipykernel_5660/2139388595.py:2: SettingWithCopyWarning: \n",
      "A value is trying to be set on a copy of a slice from a DataFrame.\n",
      "Try using .loc[row_indexer,col_indexer] = value instead\n",
      "\n",
      "See the caveats in the documentation: https://pandas.pydata.org/pandas-docs/stable/user_guide/indexing.html#returning-a-view-versus-a-copy\n",
      "  df_cleaned['Sex'] = df_cleaned['Sex'].replace({'F': 'female', 'M': 'male'})\n"
     ]
    }
   ],
   "source": [
    "# Standardizing the gender values\n",
    "df_cleaned['Sex'] = df_cleaned['Sex'].replace({'F': 'female', 'M': 'male'})\n",
    "\n",
    "# Calculating survival rate for each gender again\n",
    "survival_rate_per_gender = df_cleaned.groupby('Sex')['Survived'].mean()*100\n",
    "\n",
    "# Displaying the updated survival rate for each gender\n",
    "print(\"Updated survival rate for each gender:\")\n",
    "print(survival_rate_per_gender)\n"
   ]
  },
  {
   "cell_type": "markdown",
   "id": "00086e5d-45ab-4fc0-9bcc-c224e2b7dd7c",
   "metadata": {},
   "source": [
    "#### Code Explanation:\n",
    "\n",
    "* **Standardizing Gender Values:** The line df_cleaned['Sex'] = df_cleaned['Sex'].replace({'F': 'female', 'M': 'male'}) is used to standardize the gender values in the Sex column. This replaces the shorthand representations ('F' and 'M') with their full forms ('female' and 'male'). This step ensures consistency in the data, making it easier to analyze and interpret.\n",
    "\n",
    "* **Calculating Survival Rate by Gender Again:** The line survival_rate_per_gender = df_cleaned.groupby('Sex')['Survived'].mean() recalculates the survival rate for each gender using the standardized values. The groupby() function groups the DataFrame by the updated Sex values, and the mean() function calculates the proportion of survivors for each group.\n",
    "\n",
    "* **Displaying the Updated Results:** The statement print(\"Updated survival rate for each gender:\") provides context for the output that follows. The subsequent print(survival_rate_per_gender) displays the newly calculated survival rates for both standardized gender categories.\n",
    "\n",
    "This step enhances data clarity and consistency, ensuring that analyses accurately reflect the survival rates for each gender category. By standardizing the values, we can avoid confusion and make it easier to interpret the results of the analysis."
   ]
  },
  {
   "cell_type": "markdown",
   "id": "2d4e5584-ca34-4378-9cb3-1708dd64320e",
   "metadata": {},
   "source": [
    "---"
   ]
  },
  {
   "cell_type": "markdown",
   "id": "aaf1e22c-d192-4700-8a00-4b7acdc8a20f",
   "metadata": {},
   "source": [
    "---"
   ]
  },
  {
   "cell_type": "markdown",
   "id": "8718756c-59a4-48f8-9805-9a181998d368",
   "metadata": {},
   "source": [
    "# KNN Model Enhancement and Analysis of Survival Rates by Title"
   ]
  },
  {
   "cell_type": "markdown",
   "id": "2d52a721-5aed-4a5f-ac7f-9b1a2dcc3fde",
   "metadata": {},
   "source": [
    "**Objective**\n",
    "\n",
    "The goal of this project is to improve the prediction accuracy of the K-Nearest Neighbors (KNN) model on the Titanic dataset and analyze the survival rates based on passenger titles.\n",
    "\n"
   ]
  },
  {
   "cell_type": "markdown",
   "id": "16b5432e-c119-454d-b740-927d03214c32",
   "metadata": {},
   "source": [
    "**Definitions**\n",
    "\n",
    "* **K-Nearest Neighbors (KNN):** A non-parametric algorithm used for classification and regression. It classifies data points based on the classes of their nearest neighbors in the feature space.\n",
    "* **Normalization:** A technique used to scale data within a specific range (usually [0, 1]), making the data comparable. This is crucial for KNN, as it relies on distance calculations.\n",
    "* **Cross-Validation:** A technique used to assess how the results of a statistical analysis will generalize to an independent dataset. It is used to validate the KNN model's performance."
   ]
  },
  {
   "cell_type": "markdown",
   "id": "a713f2e2-f712-4538-b335-bd6a0f2f308d",
   "metadata": {},
   "source": [
    "## Step 1: Data Preparation\n",
    "\n",
    "**A. Import Libraries and Load Data**"
   ]
  },
  {
   "cell_type": "code",
   "execution_count": 536,
   "id": "1adfc972-0e2d-45bb-9cd4-8b9fb645641d",
   "metadata": {},
   "outputs": [],
   "source": [
    "import pandas as pd\n",
    "import numpy as np\n",
    "import matplotlib.pyplot as plt\n",
    "from sklearn.model_selection import train_test_split, cross_val_score\n",
    "from sklearn.preprocessing import MinMaxScaler\n",
    "from sklearn.neighbors import KNeighborsClassifier\n"
   ]
  },
  {
   "cell_type": "markdown",
   "id": "45c15aef-615d-4e1e-a732-1abd0e5b3aa3",
   "metadata": {},
   "source": [
    "**B. Inspect Data**\n",
    "\n",
    "Display the first few rows of the dataset."
   ]
  },
  {
   "cell_type": "code",
   "execution_count": 539,
   "id": "dd82adf2-1877-4bc7-b640-5c403cf502c2",
   "metadata": {},
   "outputs": [
    {
     "data": {
      "text/html": [
       "<div>\n",
       "<style scoped>\n",
       "    .dataframe tbody tr th:only-of-type {\n",
       "        vertical-align: middle;\n",
       "    }\n",
       "\n",
       "    .dataframe tbody tr th {\n",
       "        vertical-align: top;\n",
       "    }\n",
       "\n",
       "    .dataframe thead th {\n",
       "        text-align: right;\n",
       "    }\n",
       "</style>\n",
       "<table border=\"1\" class=\"dataframe\">\n",
       "  <thead>\n",
       "    <tr style=\"text-align: right;\">\n",
       "      <th></th>\n",
       "      <th>PassengerId</th>\n",
       "      <th>Survived</th>\n",
       "      <th>Pclass</th>\n",
       "      <th>Name</th>\n",
       "      <th>Sex</th>\n",
       "      <th>Age</th>\n",
       "      <th>SibSp</th>\n",
       "      <th>Parch</th>\n",
       "      <th>Ticket</th>\n",
       "      <th>Fare</th>\n",
       "      <th>Cabin</th>\n",
       "      <th>Embarked</th>\n",
       "    </tr>\n",
       "  </thead>\n",
       "  <tbody>\n",
       "    <tr>\n",
       "      <th>0</th>\n",
       "      <td>1</td>\n",
       "      <td>0</td>\n",
       "      <td>3</td>\n",
       "      <td>Braund, Mr. Owen Harris</td>\n",
       "      <td>male</td>\n",
       "      <td>22.0</td>\n",
       "      <td>1</td>\n",
       "      <td>0</td>\n",
       "      <td>A/5 21171</td>\n",
       "      <td>7.2500</td>\n",
       "      <td>NaN</td>\n",
       "      <td>S</td>\n",
       "    </tr>\n",
       "    <tr>\n",
       "      <th>1</th>\n",
       "      <td>2</td>\n",
       "      <td>1</td>\n",
       "      <td>1</td>\n",
       "      <td>Cumings, Mrs. John Bradley (Florence Briggs Th...</td>\n",
       "      <td>female</td>\n",
       "      <td>38.0</td>\n",
       "      <td>1</td>\n",
       "      <td>0</td>\n",
       "      <td>PC 17599</td>\n",
       "      <td>71.2833</td>\n",
       "      <td>C85</td>\n",
       "      <td>C</td>\n",
       "    </tr>\n",
       "    <tr>\n",
       "      <th>2</th>\n",
       "      <td>3</td>\n",
       "      <td>1</td>\n",
       "      <td>3</td>\n",
       "      <td>Heikkinen, Miss. Laina</td>\n",
       "      <td>female</td>\n",
       "      <td>26.0</td>\n",
       "      <td>0</td>\n",
       "      <td>0</td>\n",
       "      <td>STON/O2. 3101282</td>\n",
       "      <td>7.9250</td>\n",
       "      <td>NaN</td>\n",
       "      <td>S</td>\n",
       "    </tr>\n",
       "    <tr>\n",
       "      <th>3</th>\n",
       "      <td>4</td>\n",
       "      <td>1</td>\n",
       "      <td>1</td>\n",
       "      <td>Futrelle, Mrs. Jacques Heath (Lily May Peel)</td>\n",
       "      <td>female</td>\n",
       "      <td>35.0</td>\n",
       "      <td>1</td>\n",
       "      <td>0</td>\n",
       "      <td>113803</td>\n",
       "      <td>53.1000</td>\n",
       "      <td>C123</td>\n",
       "      <td>S</td>\n",
       "    </tr>\n",
       "    <tr>\n",
       "      <th>4</th>\n",
       "      <td>5</td>\n",
       "      <td>0</td>\n",
       "      <td>3</td>\n",
       "      <td>Allen, Mr. William Henry</td>\n",
       "      <td>male</td>\n",
       "      <td>35.0</td>\n",
       "      <td>0</td>\n",
       "      <td>0</td>\n",
       "      <td>373450</td>\n",
       "      <td>8.0500</td>\n",
       "      <td>NaN</td>\n",
       "      <td>S</td>\n",
       "    </tr>\n",
       "  </tbody>\n",
       "</table>\n",
       "</div>"
      ],
      "text/plain": [
       "   PassengerId  Survived  Pclass  \\\n",
       "0            1         0       3   \n",
       "1            2         1       1   \n",
       "2            3         1       3   \n",
       "3            4         1       1   \n",
       "4            5         0       3   \n",
       "\n",
       "                                                Name     Sex   Age  SibSp  \\\n",
       "0                            Braund, Mr. Owen Harris    male  22.0      1   \n",
       "1  Cumings, Mrs. John Bradley (Florence Briggs Th...  female  38.0      1   \n",
       "2                             Heikkinen, Miss. Laina  female  26.0      0   \n",
       "3       Futrelle, Mrs. Jacques Heath (Lily May Peel)  female  35.0      1   \n",
       "4                           Allen, Mr. William Henry    male  35.0      0   \n",
       "\n",
       "   Parch            Ticket     Fare Cabin Embarked  \n",
       "0      0         A/5 21171   7.2500   NaN        S  \n",
       "1      0          PC 17599  71.2833   C85        C  \n",
       "2      0  STON/O2. 3101282   7.9250   NaN        S  \n",
       "3      0            113803  53.1000  C123        S  \n",
       "4      0            373450   8.0500   NaN        S  "
      ]
     },
     "execution_count": 539,
     "metadata": {},
     "output_type": "execute_result"
    }
   ],
   "source": [
    "df_cleaned.head()"
   ]
  },
  {
   "cell_type": "markdown",
   "id": "7571d50f-c3c1-44b4-9116-329bb102678f",
   "metadata": {},
   "source": [
    "**C. Checking for null values in the cleaned dataset.**\n",
    "\n",
    "* **Note:- In previous homework duplicates rows were removed on the basis of PassengerID only and missing values in 'Age' column was filled with the median of the ages.**"
   ]
  },
  {
   "cell_type": "code",
   "execution_count": 542,
   "id": "54bb849e-c87a-4205-8c49-14821d9580e0",
   "metadata": {},
   "outputs": [
    {
     "name": "stdout",
     "output_type": "stream",
     "text": [
      "Cabin       687\n",
      "Embarked      2\n",
      "dtype: int64\n"
     ]
    }
   ],
   "source": [
    "# Checking for null values in the cleaned DataFrame\n",
    "null_counts = df_cleaned.isnull().sum()\n",
    "\n",
    "# Displaying null columns with their counts\n",
    "null_columns = null_counts[null_counts > 0]\n",
    "print(null_columns)\n"
   ]
  },
  {
   "cell_type": "markdown",
   "id": "34191a8d-2a60-4276-a9b2-d0a3425ceb4b",
   "metadata": {},
   "source": [
    "**D. Checking the shape of data (Total number of rows and columns).**"
   ]
  },
  {
   "cell_type": "code",
   "execution_count": 545,
   "id": "7d25062c-05ad-46da-946f-85db354079da",
   "metadata": {},
   "outputs": [
    {
     "data": {
      "text/plain": [
       "(891, 12)"
      ]
     },
     "execution_count": 545,
     "metadata": {},
     "output_type": "execute_result"
    }
   ],
   "source": [
    "df_cleaned.shape"
   ]
  },
  {
   "cell_type": "markdown",
   "id": "c56531a4-9958-4de1-baf5-ce68734a7a84",
   "metadata": {},
   "source": [
    "**E. We're not removing the missing values in the columns (Cabin and Embarked) because doing so would reduce the dataset to only 183 rows and 12 columns. (183, 12)**\n",
    "\n",
    "Using KNN (K-Nearest Neighbors) with a significantly reduced dataset like the one I described (from 891 rows to 183 after removing missing values) can pose several challenges:\n",
    "\n",
    "* **Loss of Information:** Removing missing values can lead to a loss of important data points, which might be crucial for accurate predictions. With only 183 samples, you might lose valuable diversity in our dataset, making the model less robust.\n",
    "\n",
    "* **Overfitting Risk:** A smaller dataset can increase the risk of overfitting, where the model performs well on the training data but poorly on unseen data. KNN is sensitive to noise and outliers, so a smaller dataset may lead to overfitting.\n",
    "\n",
    "* **Curse of Dimensionality:** KNN relies on distance calculations between data points. With fewer samples, the distances between points become less meaningful, particularly in high-dimensional spaces. In our case, with 12 features, this could impact performance.\n",
    "\n",
    "* **Performance:** The effectiveness of KNN can degrade as the number of samples decreases. Fewer samples may not provide a good representation of the underlying distribution, leading to less accurate predictions."
   ]
  },
  {
   "cell_type": "markdown",
   "id": "75c45f94-07e2-4c79-b220-a70d82193137",
   "metadata": {},
   "source": [
    "**F. Selecting Features**\n",
    "\n",
    "* **Feature Selection:** If we're focusing only on the columns that do not have any missing values, that would be a good approach. Ensuring that the selected features are relevant to the prediction task.\n",
    "\n",
    "* **Dimensionality Reduction:** With fewer features (i.e., only those without missing values), our KNN model may perform better due to less noise and complexity."
   ]
  },
  {
   "cell_type": "markdown",
   "id": "94169fd1-73c0-4e46-a83a-3bb2ed57542f",
   "metadata": {},
   "source": [
    "## Step 2: Normalization"
   ]
  },
  {
   "cell_type": "markdown",
   "id": "9f7b734d-a38b-4f33-8fb0-280802aaf2ea",
   "metadata": {},
   "source": [
    "**2.1 Normalize Features**\n",
    "\n",
    "Using Min-Max normalization to scale the features 'Age' and 'Fare'."
   ]
  },
  {
   "cell_type": "code",
   "execution_count": 551,
   "id": "993dc0f1-0bf8-45ab-8b0e-24296f0d31ce",
   "metadata": {},
   "outputs": [],
   "source": [
    "# Selecting features for normalization\n",
    "features = df_cleaned[['Age', 'Fare']]\n",
    "\n",
    "# Normalization using MinMaxScaler\n",
    "scaler = MinMaxScaler()\n",
    "features_normalized = scaler.fit_transform(features)\n",
    "\n",
    "# Creating a new DataFrame for normalized features\n",
    "X = pd.DataFrame(features_normalized, columns=['Age', 'Fare'])\n"
   ]
  },
  {
   "cell_type": "code",
   "execution_count": 553,
   "id": "bd39c73a-56c7-4974-8bcb-6b21f1ecc416",
   "metadata": {},
   "outputs": [
    {
     "data": {
      "text/html": [
       "<div>\n",
       "<style scoped>\n",
       "    .dataframe tbody tr th:only-of-type {\n",
       "        vertical-align: middle;\n",
       "    }\n",
       "\n",
       "    .dataframe tbody tr th {\n",
       "        vertical-align: top;\n",
       "    }\n",
       "\n",
       "    .dataframe thead th {\n",
       "        text-align: right;\n",
       "    }\n",
       "</style>\n",
       "<table border=\"1\" class=\"dataframe\">\n",
       "  <thead>\n",
       "    <tr style=\"text-align: right;\">\n",
       "      <th></th>\n",
       "      <th>Age</th>\n",
       "      <th>Fare</th>\n",
       "    </tr>\n",
       "  </thead>\n",
       "  <tbody>\n",
       "    <tr>\n",
       "      <th>0</th>\n",
       "      <td>0.271174</td>\n",
       "      <td>0.014151</td>\n",
       "    </tr>\n",
       "    <tr>\n",
       "      <th>1</th>\n",
       "      <td>0.472229</td>\n",
       "      <td>0.139136</td>\n",
       "    </tr>\n",
       "    <tr>\n",
       "      <th>2</th>\n",
       "      <td>0.321438</td>\n",
       "      <td>0.015469</td>\n",
       "    </tr>\n",
       "    <tr>\n",
       "      <th>3</th>\n",
       "      <td>0.434531</td>\n",
       "      <td>0.103644</td>\n",
       "    </tr>\n",
       "    <tr>\n",
       "      <th>4</th>\n",
       "      <td>0.434531</td>\n",
       "      <td>0.015713</td>\n",
       "    </tr>\n",
       "  </tbody>\n",
       "</table>\n",
       "</div>"
      ],
      "text/plain": [
       "        Age      Fare\n",
       "0  0.271174  0.014151\n",
       "1  0.472229  0.139136\n",
       "2  0.321438  0.015469\n",
       "3  0.434531  0.103644\n",
       "4  0.434531  0.015713"
      ]
     },
     "execution_count": 553,
     "metadata": {},
     "output_type": "execute_result"
    }
   ],
   "source": [
    "X.head()"
   ]
  },
  {
   "cell_type": "markdown",
   "id": "23efe336-a239-4808-86e9-028e48a15a41",
   "metadata": {},
   "source": [
    "**2.2 Prepare Target Variable**\n",
    "\n",
    "Set the target variable (survival status)."
   ]
  },
  {
   "cell_type": "code",
   "execution_count": 556,
   "id": "45aedfbc-71ee-41fc-b77c-101a1c61c29c",
   "metadata": {},
   "outputs": [],
   "source": [
    "y = df_cleaned['Survived']\n"
   ]
  },
  {
   "cell_type": "code",
   "execution_count": 558,
   "id": "8fac622b-3812-4952-8dce-2d1c30ee4927",
   "metadata": {},
   "outputs": [
    {
     "data": {
      "text/plain": [
       "0    0\n",
       "1    1\n",
       "2    1\n",
       "3    1\n",
       "4    0\n",
       "Name: Survived, dtype: int64"
      ]
     },
     "execution_count": 558,
     "metadata": {},
     "output_type": "execute_result"
    }
   ],
   "source": [
    "y.head()"
   ]
  },
  {
   "cell_type": "markdown",
   "id": "22c6ea00-fc10-4dc2-9c10-8451ecf0131e",
   "metadata": {},
   "source": [
    "## Step 3: Train-Test Split"
   ]
  },
  {
   "cell_type": "markdown",
   "id": "5ac043c3-0567-41c4-88a8-06f21adc232b",
   "metadata": {},
   "source": [
    "Split the dataset into training and testing sets."
   ]
  },
  {
   "cell_type": "code",
   "execution_count": 562,
   "id": "15fced56-9d4e-45e5-8d72-9e48917db41d",
   "metadata": {},
   "outputs": [],
   "source": [
    "from sklearn.model_selection import train_test_split\n",
    "\n",
    "X_train, X_test, y_train, y_test = train_test_split(X, y, test_size=0.2, random_state=42)\n"
   ]
  },
  {
   "cell_type": "markdown",
   "id": "d8f7258b-fb70-4838-ac9c-df1ad0d319ae",
   "metadata": {},
   "source": [
    "## Step 4: KNN Tuning"
   ]
  },
  {
   "cell_type": "markdown",
   "id": "64f4922b-b369-4831-a44f-0c28deedd031",
   "metadata": {},
   "source": [
    "**A. Check for Missing Values**\n",
    "\n",
    "Before proceeding with KNN tuning, checking for any remaining missing values in our dataset."
   ]
  },
  {
   "cell_type": "code",
   "execution_count": 566,
   "id": "ca523e38-9251-415f-9096-622ad9074634",
   "metadata": {},
   "outputs": [
    {
     "name": "stdout",
     "output_type": "stream",
     "text": [
      "Age     0\n",
      "Fare    0\n",
      "dtype: int64\n",
      "0\n"
     ]
    }
   ],
   "source": [
    "# Checking for missing values in the normalized features\n",
    "print(X.isnull().sum())\n",
    "print(y.isnull().sum())\n"
   ]
  },
  {
   "cell_type": "markdown",
   "id": "bf594eb8-e201-4f93-bfae-351aad474e2a",
   "metadata": {},
   "source": [
    "**B. Handling Missing Values.**\n",
    "\n",
    "If we find any missing values, we need to decide how to handle them. The typical approaches include dropping rows with missing values or filling them in with appropriate values. Since we've already backfilled missing values in the 'Age' column and column 'Fare' do not have any missing columns. So, we can perform below two options to remove the missing values **(Just shown, not executed)**"
   ]
  },
  {
   "cell_type": "markdown",
   "id": "4e0b013e-a4de-4881-bdd5-13369f2d62a3",
   "metadata": {},
   "source": [
    "**Option 1:** \n",
    "\n",
    "Drop Rows with Missing Values (If there are rows with missing values, we can drop them:)"
   ]
  },
  {
   "cell_type": "code",
   "execution_count": 172,
   "id": "b8979628-041e-4ebd-9c77-ccc0c02f4418",
   "metadata": {},
   "outputs": [],
   "source": [
    "# Dropping rows with any missing values in the features\n",
    "X = X.dropna()\n",
    "y = y.loc[X.index]  # Ensuring y aligns with the modified X\n"
   ]
  },
  {
   "cell_type": "markdown",
   "id": "7b50036b-c09f-46fd-b517-33d126fdc9a7",
   "metadata": {},
   "source": [
    "**Option 2:** \n",
    "\n",
    "Fill Missing Values (If we want to fill missing values, we can consider using the median or mean for continuous variables:)"
   ]
  },
  {
   "cell_type": "code",
   "execution_count": null,
   "id": "fe01bce9-8687-48c9-8b80-a4178a4d0481",
   "metadata": {},
   "outputs": [],
   "source": [
    "# Fill any remaining NaN values if necessary \n",
    "X['Fare'].fillna(X['Fare'].median(), inplace=True)\n",
    "X['Age'].fillna(X['Age'].median(), inplace=True)\n"
   ]
  },
  {
   "cell_type": "markdown",
   "id": "a2d455a9-dbac-4c1a-9032-46bb51f45111",
   "metadata": {},
   "source": [
    "**C: Recheck for Missing Values**\n",
    "\n",
    "After handling missing values, we can recheck to confirm that there are none left."
   ]
  },
  {
   "cell_type": "code",
   "execution_count": 570,
   "id": "82b2495d-59de-42c8-9d16-e0a5debf7717",
   "metadata": {},
   "outputs": [
    {
     "name": "stdout",
     "output_type": "stream",
     "text": [
      "Age     0\n",
      "Fare    0\n",
      "dtype: int64\n",
      "0\n"
     ]
    }
   ],
   "source": [
    "# Verifying no missing values exist now\n",
    "print(X.isnull().sum())\n",
    "print(y.isnull().sum())\n"
   ]
  },
  {
   "cell_type": "markdown",
   "id": "4548886e-9986-4ea9-9e85-95ae2dfaee6c",
   "metadata": {},
   "source": [
    "**4.1 Find Optimal K**\n",
    "\n",
    "Loop through different values of k (from 1 to 20) and using cross-validation to find the best accuracy."
   ]
  },
  {
   "cell_type": "code",
   "execution_count": 573,
   "id": "a28379ac-8e61-4643-b1b9-2bee13a76b83",
   "metadata": {},
   "outputs": [],
   "source": [
    "# Testing different values of k\n",
    "k_values = range(1, 21)\n",
    "accuracies = []\n",
    "\n",
    "for k in k_values:\n",
    "    knn = KNeighborsClassifier(n_neighbors=k)\n",
    "    scores = cross_val_score(knn, X_train, y_train, cv=5)\n",
    "    accuracies.append(scores.mean())\n"
   ]
  },
  {
   "cell_type": "markdown",
   "id": "c07aaf17-07ed-4cdb-aae7-5a9111ca06c5",
   "metadata": {},
   "source": [
    "**4.2 Plot Accuracy vs. K**\n",
    "\n",
    "Visualize the results to determine the optimal k."
   ]
  },
  {
   "cell_type": "code",
   "execution_count": 576,
   "id": "5f799ee7-5421-4b4b-84f2-b94b372090e4",
   "metadata": {},
   "outputs": [
    {
     "data": {
      "image/png": "[encoded data removed]",
      "text/plain": [
       "<Figure size 1000x600 with 1 Axes>"
      ]
     },
     "metadata": {},
     "output_type": "display_data"
    }
   ],
   "source": [
    "# Plotting accuracy vs. k\n",
    "plt.figure(figsize=(10, 6))\n",
    "plt.plot(k_values, accuracies, marker='o')\n",
    "plt.title('KNN Accuracy vs. Number of Neighbors (k)', fontsize=16)\n",
    "plt.xlabel('Number of Neighbors (k)', fontsize=14)\n",
    "plt.ylabel('Accuracy', fontsize=14)\n",
    "plt.xticks(k_values)\n",
    "plt.grid()\n",
    "plt.show()\n"
   ]
  },
  {
   "cell_type": "code",
   "execution_count": 578,
   "id": "1ec4aeb9-be70-4a6a-8189-61cbf998acc8",
   "metadata": {},
   "outputs": [
    {
     "name": "stdout",
     "output_type": "stream",
     "text": [
      "Best k value: 20 with accuracy: 0.6952\n"
     ]
    }
   ],
   "source": [
    "# Printing the k with the best accuracy\n",
    "best_k = k_values[np.argmax(accuracies)]\n",
    "print(f\"Best k value: {best_k} with accuracy: {max(accuracies):.4f}\")"
   ]
  },
  {
   "cell_type": "markdown",
   "id": "90d391c6-7b6b-414b-b61c-ead4109772db",
   "metadata": {},
   "source": [
    "## Step 5: Analyze Survival Rates by Title"
   ]
  },
  {
   "cell_type": "markdown",
   "id": "e3c4fbde-9c52-447e-b0c4-812a70f990b9",
   "metadata": {},
   "source": [
    "**5.1 Extract Titles**\n",
    "\n",
    "Extract passenger titles from their names."
   ]
  },
  {
   "cell_type": "code",
   "execution_count": 582,
   "id": "68ecb91e-a29e-41a8-b369-632ab9d01fba",
   "metadata": {},
   "outputs": [
    {
     "name": "stderr",
     "output_type": "stream",
     "text": [
      "/var/folders/rn/mjv0rnm53b72ykwx9qvn64nm0000gn/T/ipykernel_5660/2546025723.py:2: SettingWithCopyWarning: \n",
      "A value is trying to be set on a copy of a slice from a DataFrame.\n",
      "Try using .loc[row_indexer,col_indexer] = value instead\n",
      "\n",
      "See the caveats in the documentation: https://pandas.pydata.org/pandas-docs/stable/user_guide/indexing.html#returning-a-view-versus-a-copy\n",
      "  df_cleaned['Title'] = df_cleaned['Name'].str.extract(r',\\s*(\\w+)\\.')\n"
     ]
    }
   ],
   "source": [
    "# Extracting titles from names\n",
    "df_cleaned['Title'] = df_cleaned['Name'].str.extract(r',\\s*(\\w+)\\.')\n"
   ]
  },
  {
   "cell_type": "markdown",
   "id": "c3819483-6f44-4dc6-8140-d6ce740158a6",
   "metadata": {},
   "source": [
    "**5.2 Calculate Survival Rates**\n",
    "\n",
    "Group by titles and calculate survival rates."
   ]
  },
  {
   "cell_type": "code",
   "execution_count": 585,
   "id": "5b532402-3b6c-4c5d-966f-ea7cf0c71423",
   "metadata": {},
   "outputs": [
    {
     "data": {
      "text/plain": [
       "Title\n",
       "Capt          0.000000\n",
       "Col          50.000000\n",
       "Don           0.000000\n",
       "Dr           42.857143\n",
       "Jonkheer      0.000000\n",
       "Lady        100.000000\n",
       "Major        50.000000\n",
       "Master       57.500000\n",
       "Miss         69.780220\n",
       "Mlle        100.000000\n",
       "Mme         100.000000\n",
       "Mr           15.667311\n",
       "Mrs          79.200000\n",
       "Ms          100.000000\n",
       "Rev           0.000000\n",
       "Sir         100.000000\n",
       "Name: Survived, dtype: float64"
      ]
     },
     "execution_count": 585,
     "metadata": {},
     "output_type": "execute_result"
    }
   ],
   "source": [
    "# Calculating survival rate by title\n",
    "survival_rate_by_title = df_cleaned.groupby('Title')['Survived'].mean() * 100\n",
    "survival_rate_by_title"
   ]
  },
  {
   "cell_type": "markdown",
   "id": "46ff6f46-6291-4bc1-9ee8-34c947ad4051",
   "metadata": {},
   "source": [
    "**5.3 Plot Survival Rates**\n",
    "\n",
    "Visualize the survival rates for different titles."
   ]
  },
  {
   "cell_type": "code",
   "execution_count": 588,
   "id": "f369d814-0032-4e6f-86a3-8790fee39fbe",
   "metadata": {},
   "outputs": [
    {
     "data": {
      "image/png": "[encoded data removed]",
      "text/plain": [
       "<Figure size 1200x600 with 1 Axes>"
      ]
     },
     "metadata": {},
     "output_type": "display_data"
    }
   ],
   "source": [
    "# Plotting survival rate by title\n",
    "plt.figure(figsize=(12, 6))\n",
    "survival_rate_by_title.plot(kind='bar', color='skyblue')\n",
    "plt.title('Survival Rate by Title', fontsize=16)\n",
    "plt.xlabel('Title', fontsize=14)\n",
    "plt.ylabel('Survival Rate (%)', fontsize=14)\n",
    "plt.xticks(rotation=45)\n",
    "plt.grid(axis='y')\n",
    "plt.show()\n"
   ]
  },
  {
   "cell_type": "markdown",
   "id": "1543a7f2-45f9-4401-af3a-5ba7cdbbb644",
   "metadata": {},
   "source": [
    "## Step 6: Insights and Conclusion\n",
    "\n",
    "#### Insights from KNN Model\n",
    "\n",
    "* The plot of accuracy vs. k will help identify the optimal number of neighbors for KNN which is 20 in above case.\n",
    "\n",
    "#### Insights from Survival Rates by Title\n",
    "\n",
    "* Analyzed the survival rates for different titles. Higher survival rates for titles like \"Ms.\", \"Lady\", \"Mme\" might indicate that women and children were prioritized during evacuations.\n",
    "  \n",
    "* Titles like \"Mr.\" may show lower survival rates, possibly reflecting socio-economic factors affecting survival chances.\n",
    "\n",
    "#### Final Remarks\n",
    "\n",
    "* This structured approach provides a comprehensive analysis of KNN model performance while also investigating how passenger titles influenced survival on the Titanic. "
   ]
  },
  {
   "cell_type": "markdown",
   "id": "f31ca2fc-1dee-4bc7-a1bc-9a83318fbeac",
   "metadata": {},
   "source": [
    "---"
   ]
  },
  {
   "cell_type": "markdown",
   "id": "9b48c052-e9d4-402d-bfb1-bfc9ece152c1",
   "metadata": {},
   "source": [
    "---"
   ]
  },
  {
   "cell_type": "markdown",
   "id": "e3a091d9-be96-4e30-a2b8-c50e9d8c5f50",
   "metadata": {},
   "source": [
    "# What if we remove all the missing values from the dataset ?"
   ]
  },
  {
   "cell_type": "markdown",
   "id": "7ca4fa09-4691-4e43-a66b-f4851bf84dec",
   "metadata": {},
   "source": [
    " ## STEP - 1. Reading the CSV file\n"
   ]
  },
  {
   "cell_type": "code",
   "execution_count": 591,
   "id": "062cde62-b671-4e94-ba07-6eb9bae33fa8",
   "metadata": {},
   "outputs": [
    {
     "data": {
      "text/html": [
       "<div>\n",
       "<style scoped>\n",
       "    .dataframe tbody tr th:only-of-type {\n",
       "        vertical-align: middle;\n",
       "    }\n",
       "\n",
       "    .dataframe tbody tr th {\n",
       "        vertical-align: top;\n",
       "    }\n",
       "\n",
       "    .dataframe thead th {\n",
       "        text-align: right;\n",
       "    }\n",
       "</style>\n",
       "<table border=\"1\" class=\"dataframe\">\n",
       "  <thead>\n",
       "    <tr style=\"text-align: right;\">\n",
       "      <th></th>\n",
       "      <th>PassengerId</th>\n",
       "      <th>Survived</th>\n",
       "      <th>Pclass</th>\n",
       "      <th>Name</th>\n",
       "      <th>Sex</th>\n",
       "      <th>Age</th>\n",
       "      <th>SibSp</th>\n",
       "      <th>Parch</th>\n",
       "      <th>Ticket</th>\n",
       "      <th>Fare</th>\n",
       "      <th>Cabin</th>\n",
       "      <th>Embarked</th>\n",
       "    </tr>\n",
       "  </thead>\n",
       "  <tbody>\n",
       "    <tr>\n",
       "      <th>0</th>\n",
       "      <td>1</td>\n",
       "      <td>0</td>\n",
       "      <td>3</td>\n",
       "      <td>Braund, Mr. Owen Harris</td>\n",
       "      <td>male</td>\n",
       "      <td>22.0</td>\n",
       "      <td>1</td>\n",
       "      <td>0</td>\n",
       "      <td>A/5 21171</td>\n",
       "      <td>7.2500</td>\n",
       "      <td>NaN</td>\n",
       "      <td>S</td>\n",
       "    </tr>\n",
       "    <tr>\n",
       "      <th>1</th>\n",
       "      <td>2</td>\n",
       "      <td>1</td>\n",
       "      <td>1</td>\n",
       "      <td>Cumings, Mrs. John Bradley (Florence Briggs Th...</td>\n",
       "      <td>female</td>\n",
       "      <td>38.0</td>\n",
       "      <td>1</td>\n",
       "      <td>0</td>\n",
       "      <td>PC 17599</td>\n",
       "      <td>71.2833</td>\n",
       "      <td>C85</td>\n",
       "      <td>C</td>\n",
       "    </tr>\n",
       "    <tr>\n",
       "      <th>2</th>\n",
       "      <td>3</td>\n",
       "      <td>1</td>\n",
       "      <td>3</td>\n",
       "      <td>Heikkinen, Miss. Laina</td>\n",
       "      <td>female</td>\n",
       "      <td>26.0</td>\n",
       "      <td>0</td>\n",
       "      <td>0</td>\n",
       "      <td>STON/O2. 3101282</td>\n",
       "      <td>7.9250</td>\n",
       "      <td>NaN</td>\n",
       "      <td>S</td>\n",
       "    </tr>\n",
       "    <tr>\n",
       "      <th>3</th>\n",
       "      <td>4</td>\n",
       "      <td>1</td>\n",
       "      <td>1</td>\n",
       "      <td>Futrelle, Mrs. Jacques Heath (Lily May Peel)</td>\n",
       "      <td>female</td>\n",
       "      <td>35.0</td>\n",
       "      <td>1</td>\n",
       "      <td>0</td>\n",
       "      <td>113803</td>\n",
       "      <td>53.1000</td>\n",
       "      <td>C123</td>\n",
       "      <td>S</td>\n",
       "    </tr>\n",
       "    <tr>\n",
       "      <th>4</th>\n",
       "      <td>5</td>\n",
       "      <td>0</td>\n",
       "      <td>3</td>\n",
       "      <td>Allen, Mr. William Henry</td>\n",
       "      <td>M</td>\n",
       "      <td>35.0</td>\n",
       "      <td>0</td>\n",
       "      <td>0</td>\n",
       "      <td>373450</td>\n",
       "      <td>8.0500</td>\n",
       "      <td>NaN</td>\n",
       "      <td>S</td>\n",
       "    </tr>\n",
       "  </tbody>\n",
       "</table>\n",
       "</div>"
      ],
      "text/plain": [
       "   PassengerId  Survived  Pclass  \\\n",
       "0            1         0       3   \n",
       "1            2         1       1   \n",
       "2            3         1       3   \n",
       "3            4         1       1   \n",
       "4            5         0       3   \n",
       "\n",
       "                                                Name     Sex   Age  SibSp  \\\n",
       "0                            Braund, Mr. Owen Harris    male  22.0      1   \n",
       "1  Cumings, Mrs. John Bradley (Florence Briggs Th...  female  38.0      1   \n",
       "2                             Heikkinen, Miss. Laina  female  26.0      0   \n",
       "3       Futrelle, Mrs. Jacques Heath (Lily May Peel)  female  35.0      1   \n",
       "4                           Allen, Mr. William Henry       M  35.0      0   \n",
       "\n",
       "   Parch            Ticket     Fare Cabin Embarked  \n",
       "0      0         A/5 21171   7.2500   NaN        S  \n",
       "1      0          PC 17599  71.2833   C85        C  \n",
       "2      0  STON/O2. 3101282   7.9250   NaN        S  \n",
       "3      0            113803  53.1000  C123        S  \n",
       "4      0            373450   8.0500   NaN        S  "
      ]
     },
     "execution_count": 591,
     "metadata": {},
     "output_type": "execute_result"
    }
   ],
   "source": [
    "import pandas as pd\n",
    "\n",
    "# Adding the local file path that is to be loaded from my location\n",
    "file_path = '/Users/tusharahuja/Documents/Analytic Pg/titanic.csv'\n",
    "\n",
    "# Reading the CSV file\n",
    "ab = pd.read_csv(file_path)\n",
    "\n",
    "# Displaying the first few rows of the dataframe\n",
    "ab.head()\n"
   ]
  },
  {
   "cell_type": "markdown",
   "id": "0c02032c-1c2c-409c-8355-ad3dd1154062",
   "metadata": {},
   "source": [
    "## Step - 2. Understanding the Dataset Dimensions: Total Row and Column Count\n"
   ]
  },
  {
   "cell_type": "code",
   "execution_count": 594,
   "id": "e94843fa-59bb-466f-9fc4-e03db88c80c5",
   "metadata": {},
   "outputs": [
    {
     "data": {
      "text/plain": [
       "(901, 12)"
      ]
     },
     "execution_count": 594,
     "metadata": {},
     "output_type": "execute_result"
    }
   ],
   "source": [
    "ab.shape"
   ]
  },
  {
   "cell_type": "markdown",
   "id": "6ded4840-2909-4f26-b197-7b298192f1b0",
   "metadata": {},
   "source": [
    "## Step - 3. Remove any duplicate entries in the dataset."
   ]
  },
  {
   "cell_type": "code",
   "execution_count": 597,
   "id": "185647bf-4047-4207-9d64-a5b4028c5acd",
   "metadata": {},
   "outputs": [
    {
     "data": {
      "text/html": [
       "<div>\n",
       "<style scoped>\n",
       "    .dataframe tbody tr th:only-of-type {\n",
       "        vertical-align: middle;\n",
       "    }\n",
       "\n",
       "    .dataframe tbody tr th {\n",
       "        vertical-align: top;\n",
       "    }\n",
       "\n",
       "    .dataframe thead th {\n",
       "        text-align: right;\n",
       "    }\n",
       "</style>\n",
       "<table border=\"1\" class=\"dataframe\">\n",
       "  <thead>\n",
       "    <tr style=\"text-align: right;\">\n",
       "      <th></th>\n",
       "      <th>PassengerId</th>\n",
       "      <th>Survived</th>\n",
       "      <th>Pclass</th>\n",
       "      <th>Name</th>\n",
       "      <th>Sex</th>\n",
       "      <th>Age</th>\n",
       "      <th>SibSp</th>\n",
       "      <th>Parch</th>\n",
       "      <th>Ticket</th>\n",
       "      <th>Fare</th>\n",
       "      <th>Cabin</th>\n",
       "      <th>Embarked</th>\n",
       "    </tr>\n",
       "  </thead>\n",
       "  <tbody>\n",
       "    <tr>\n",
       "      <th>0</th>\n",
       "      <td>1</td>\n",
       "      <td>0</td>\n",
       "      <td>3</td>\n",
       "      <td>Braund, Mr. Owen Harris</td>\n",
       "      <td>male</td>\n",
       "      <td>22.0</td>\n",
       "      <td>1</td>\n",
       "      <td>0</td>\n",
       "      <td>A/5 21171</td>\n",
       "      <td>7.2500</td>\n",
       "      <td>NaN</td>\n",
       "      <td>S</td>\n",
       "    </tr>\n",
       "    <tr>\n",
       "      <th>1</th>\n",
       "      <td>2</td>\n",
       "      <td>1</td>\n",
       "      <td>1</td>\n",
       "      <td>Cumings, Mrs. John Bradley (Florence Briggs Th...</td>\n",
       "      <td>female</td>\n",
       "      <td>38.0</td>\n",
       "      <td>1</td>\n",
       "      <td>0</td>\n",
       "      <td>PC 17599</td>\n",
       "      <td>71.2833</td>\n",
       "      <td>C85</td>\n",
       "      <td>C</td>\n",
       "    </tr>\n",
       "    <tr>\n",
       "      <th>2</th>\n",
       "      <td>3</td>\n",
       "      <td>1</td>\n",
       "      <td>3</td>\n",
       "      <td>Heikkinen, Miss. Laina</td>\n",
       "      <td>female</td>\n",
       "      <td>26.0</td>\n",
       "      <td>0</td>\n",
       "      <td>0</td>\n",
       "      <td>STON/O2. 3101282</td>\n",
       "      <td>7.9250</td>\n",
       "      <td>NaN</td>\n",
       "      <td>S</td>\n",
       "    </tr>\n",
       "    <tr>\n",
       "      <th>3</th>\n",
       "      <td>4</td>\n",
       "      <td>1</td>\n",
       "      <td>1</td>\n",
       "      <td>Futrelle, Mrs. Jacques Heath (Lily May Peel)</td>\n",
       "      <td>female</td>\n",
       "      <td>35.0</td>\n",
       "      <td>1</td>\n",
       "      <td>0</td>\n",
       "      <td>113803</td>\n",
       "      <td>53.1000</td>\n",
       "      <td>C123</td>\n",
       "      <td>S</td>\n",
       "    </tr>\n",
       "    <tr>\n",
       "      <th>4</th>\n",
       "      <td>5</td>\n",
       "      <td>0</td>\n",
       "      <td>3</td>\n",
       "      <td>Allen, Mr. William Henry</td>\n",
       "      <td>M</td>\n",
       "      <td>35.0</td>\n",
       "      <td>0</td>\n",
       "      <td>0</td>\n",
       "      <td>373450</td>\n",
       "      <td>8.0500</td>\n",
       "      <td>NaN</td>\n",
       "      <td>S</td>\n",
       "    </tr>\n",
       "  </tbody>\n",
       "</table>\n",
       "</div>"
      ],
      "text/plain": [
       "   PassengerId  Survived  Pclass  \\\n",
       "0            1         0       3   \n",
       "1            2         1       1   \n",
       "2            3         1       3   \n",
       "3            4         1       1   \n",
       "4            5         0       3   \n",
       "\n",
       "                                                Name     Sex   Age  SibSp  \\\n",
       "0                            Braund, Mr. Owen Harris    male  22.0      1   \n",
       "1  Cumings, Mrs. John Bradley (Florence Briggs Th...  female  38.0      1   \n",
       "2                             Heikkinen, Miss. Laina  female  26.0      0   \n",
       "3       Futrelle, Mrs. Jacques Heath (Lily May Peel)  female  35.0      1   \n",
       "4                           Allen, Mr. William Henry       M  35.0      0   \n",
       "\n",
       "   Parch            Ticket     Fare Cabin Embarked  \n",
       "0      0         A/5 21171   7.2500   NaN        S  \n",
       "1      0          PC 17599  71.2833   C85        C  \n",
       "2      0  STON/O2. 3101282   7.9250   NaN        S  \n",
       "3      0            113803  53.1000  C123        S  \n",
       "4      0            373450   8.0500   NaN        S  "
      ]
     },
     "execution_count": 597,
     "metadata": {},
     "output_type": "execute_result"
    }
   ],
   "source": [
    "# Removing duplicate entries based on the PassengerId column\n",
    "ab_cleaned = ab.drop_duplicates(subset='PassengerId')\n",
    "\n",
    "# Displaying the first few rows of the cleaned dataframe\n",
    "ab_cleaned.head()"
   ]
  },
  {
   "cell_type": "code",
   "execution_count": 599,
   "id": "9b2f94a2-74db-47f0-a86a-9da9cc43f6cf",
   "metadata": {},
   "outputs": [
    {
     "data": {
      "text/plain": [
       "(891, 12)"
      ]
     },
     "execution_count": 599,
     "metadata": {},
     "output_type": "execute_result"
    }
   ],
   "source": [
    "ab_cleaned.shape"
   ]
  },
  {
   "cell_type": "markdown",
   "id": "846d214d-e083-4460-b160-855bde162c15",
   "metadata": {},
   "source": [
    "## Step - 4. Remove any missing values in the dataset"
   ]
  },
  {
   "cell_type": "code",
   "execution_count": 602,
   "id": "f82a1ccd-33eb-42e0-9ed7-e6c79ade0615",
   "metadata": {},
   "outputs": [
    {
     "name": "stdout",
     "output_type": "stream",
     "text": [
      "Age         177\n",
      "Cabin       687\n",
      "Embarked      2\n",
      "dtype: int64\n"
     ]
    }
   ],
   "source": [
    "# Checking for null values in the cleaned DataFrame\n",
    "null_counts = ab_cleaned.isnull().sum()\n",
    "\n",
    "# Displaying null columns with their counts\n",
    "null_columns = null_counts[null_counts > 0]\n",
    "print(null_columns)\n"
   ]
  },
  {
   "cell_type": "code",
   "execution_count": 604,
   "id": "b5d4d241-57c3-41ef-83bd-15b5ea80e75c",
   "metadata": {},
   "outputs": [
    {
     "name": "stdout",
     "output_type": "stream",
     "text": [
      "PassengerId    0\n",
      "Survived       0\n",
      "Pclass         0\n",
      "Name           0\n",
      "Sex            0\n",
      "Age            0\n",
      "SibSp          0\n",
      "Parch          0\n",
      "Ticket         0\n",
      "Fare           0\n",
      "Cabin          0\n",
      "Embarked       0\n",
      "dtype: int64\n"
     ]
    }
   ],
   "source": [
    "# Removing rows with any null values\n",
    "ab_cleaned = ab_cleaned.dropna()\n",
    "\n",
    "# Verifying that null values have been removed\n",
    "print(ab_cleaned.isnull().sum())  # It Should display 0 for all columns\n"
   ]
  },
  {
   "cell_type": "code",
   "execution_count": 606,
   "id": "53511ace-1fa9-459a-8bcb-53ef6a26180a",
   "metadata": {},
   "outputs": [
    {
     "data": {
      "text/plain": [
       "(183, 12)"
      ]
     },
     "execution_count": 606,
     "metadata": {},
     "output_type": "execute_result"
    }
   ],
   "source": [
    "ab_cleaned.shape"
   ]
  },
  {
   "cell_type": "markdown",
   "id": "d643cb9d-e594-41f5-8624-c9edaddc3feb",
   "metadata": {},
   "source": [
    "## Step - 5: Import libraries and load data"
   ]
  },
  {
   "cell_type": "code",
   "execution_count": 609,
   "id": "0aef0efe-ece1-461f-82f1-13068fc7d6f1",
   "metadata": {},
   "outputs": [],
   "source": [
    "import pandas as pd\n",
    "import numpy as np\n",
    "import matplotlib.pyplot as plt\n",
    "from sklearn.model_selection import train_test_split, cross_val_score\n",
    "from sklearn.preprocessing import MinMaxScaler\n",
    "from sklearn.neighbors import KNeighborsClassifier\n"
   ]
  },
  {
   "cell_type": "code",
   "execution_count": 611,
   "id": "d6821c5c-3a03-4287-a846-cf9045c09357",
   "metadata": {},
   "outputs": [
    {
     "data": {
      "text/html": [
       "<div>\n",
       "<style scoped>\n",
       "    .dataframe tbody tr th:only-of-type {\n",
       "        vertical-align: middle;\n",
       "    }\n",
       "\n",
       "    .dataframe tbody tr th {\n",
       "        vertical-align: top;\n",
       "    }\n",
       "\n",
       "    .dataframe thead th {\n",
       "        text-align: right;\n",
       "    }\n",
       "</style>\n",
       "<table border=\"1\" class=\"dataframe\">\n",
       "  <thead>\n",
       "    <tr style=\"text-align: right;\">\n",
       "      <th></th>\n",
       "      <th>PassengerId</th>\n",
       "      <th>Survived</th>\n",
       "      <th>Pclass</th>\n",
       "      <th>Name</th>\n",
       "      <th>Sex</th>\n",
       "      <th>Age</th>\n",
       "      <th>SibSp</th>\n",
       "      <th>Parch</th>\n",
       "      <th>Ticket</th>\n",
       "      <th>Fare</th>\n",
       "      <th>Cabin</th>\n",
       "      <th>Embarked</th>\n",
       "    </tr>\n",
       "  </thead>\n",
       "  <tbody>\n",
       "    <tr>\n",
       "      <th>1</th>\n",
       "      <td>2</td>\n",
       "      <td>1</td>\n",
       "      <td>1</td>\n",
       "      <td>Cumings, Mrs. John Bradley (Florence Briggs Th...</td>\n",
       "      <td>female</td>\n",
       "      <td>38.0</td>\n",
       "      <td>1</td>\n",
       "      <td>0</td>\n",
       "      <td>PC 17599</td>\n",
       "      <td>71.2833</td>\n",
       "      <td>C85</td>\n",
       "      <td>C</td>\n",
       "    </tr>\n",
       "    <tr>\n",
       "      <th>3</th>\n",
       "      <td>4</td>\n",
       "      <td>1</td>\n",
       "      <td>1</td>\n",
       "      <td>Futrelle, Mrs. Jacques Heath (Lily May Peel)</td>\n",
       "      <td>female</td>\n",
       "      <td>35.0</td>\n",
       "      <td>1</td>\n",
       "      <td>0</td>\n",
       "      <td>113803</td>\n",
       "      <td>53.1000</td>\n",
       "      <td>C123</td>\n",
       "      <td>S</td>\n",
       "    </tr>\n",
       "    <tr>\n",
       "      <th>6</th>\n",
       "      <td>7</td>\n",
       "      <td>0</td>\n",
       "      <td>1</td>\n",
       "      <td>McCarthy, Mr. Timothy J</td>\n",
       "      <td>male</td>\n",
       "      <td>54.0</td>\n",
       "      <td>0</td>\n",
       "      <td>0</td>\n",
       "      <td>17463</td>\n",
       "      <td>51.8625</td>\n",
       "      <td>E46</td>\n",
       "      <td>S</td>\n",
       "    </tr>\n",
       "    <tr>\n",
       "      <th>10</th>\n",
       "      <td>11</td>\n",
       "      <td>1</td>\n",
       "      <td>3</td>\n",
       "      <td>Sandstrom, Miss. Marguerite Rut</td>\n",
       "      <td>female</td>\n",
       "      <td>4.0</td>\n",
       "      <td>1</td>\n",
       "      <td>1</td>\n",
       "      <td>PP 9549</td>\n",
       "      <td>16.7000</td>\n",
       "      <td>G6</td>\n",
       "      <td>S</td>\n",
       "    </tr>\n",
       "    <tr>\n",
       "      <th>11</th>\n",
       "      <td>12</td>\n",
       "      <td>1</td>\n",
       "      <td>1</td>\n",
       "      <td>Bonnell, Miss. Elizabeth</td>\n",
       "      <td>female</td>\n",
       "      <td>58.0</td>\n",
       "      <td>0</td>\n",
       "      <td>0</td>\n",
       "      <td>113783</td>\n",
       "      <td>26.5500</td>\n",
       "      <td>C103</td>\n",
       "      <td>S</td>\n",
       "    </tr>\n",
       "    <tr>\n",
       "      <th>...</th>\n",
       "      <td>...</td>\n",
       "      <td>...</td>\n",
       "      <td>...</td>\n",
       "      <td>...</td>\n",
       "      <td>...</td>\n",
       "      <td>...</td>\n",
       "      <td>...</td>\n",
       "      <td>...</td>\n",
       "      <td>...</td>\n",
       "      <td>...</td>\n",
       "      <td>...</td>\n",
       "      <td>...</td>\n",
       "    </tr>\n",
       "    <tr>\n",
       "      <th>871</th>\n",
       "      <td>872</td>\n",
       "      <td>1</td>\n",
       "      <td>1</td>\n",
       "      <td>Beckwith, Mrs. Richard Leonard (Sallie Monypeny)</td>\n",
       "      <td>female</td>\n",
       "      <td>47.0</td>\n",
       "      <td>1</td>\n",
       "      <td>1</td>\n",
       "      <td>11751</td>\n",
       "      <td>52.5542</td>\n",
       "      <td>D35</td>\n",
       "      <td>S</td>\n",
       "    </tr>\n",
       "    <tr>\n",
       "      <th>872</th>\n",
       "      <td>873</td>\n",
       "      <td>0</td>\n",
       "      <td>1</td>\n",
       "      <td>Carlsson, Mr. Frans Olof</td>\n",
       "      <td>male</td>\n",
       "      <td>33.0</td>\n",
       "      <td>0</td>\n",
       "      <td>0</td>\n",
       "      <td>695</td>\n",
       "      <td>5.0000</td>\n",
       "      <td>B51 B53 B55</td>\n",
       "      <td>S</td>\n",
       "    </tr>\n",
       "    <tr>\n",
       "      <th>879</th>\n",
       "      <td>880</td>\n",
       "      <td>1</td>\n",
       "      <td>1</td>\n",
       "      <td>Potter, Mrs. Thomas Jr (Lily Alexenia Wilson)</td>\n",
       "      <td>female</td>\n",
       "      <td>56.0</td>\n",
       "      <td>0</td>\n",
       "      <td>1</td>\n",
       "      <td>11767</td>\n",
       "      <td>83.1583</td>\n",
       "      <td>C50</td>\n",
       "      <td>C</td>\n",
       "    </tr>\n",
       "    <tr>\n",
       "      <th>887</th>\n",
       "      <td>888</td>\n",
       "      <td>1</td>\n",
       "      <td>1</td>\n",
       "      <td>Graham, Miss. Margaret Edith</td>\n",
       "      <td>female</td>\n",
       "      <td>19.0</td>\n",
       "      <td>0</td>\n",
       "      <td>0</td>\n",
       "      <td>112053</td>\n",
       "      <td>30.0000</td>\n",
       "      <td>B42</td>\n",
       "      <td>S</td>\n",
       "    </tr>\n",
       "    <tr>\n",
       "      <th>889</th>\n",
       "      <td>890</td>\n",
       "      <td>1</td>\n",
       "      <td>1</td>\n",
       "      <td>Behr, Mr. Karl Howell</td>\n",
       "      <td>male</td>\n",
       "      <td>26.0</td>\n",
       "      <td>0</td>\n",
       "      <td>0</td>\n",
       "      <td>111369</td>\n",
       "      <td>30.0000</td>\n",
       "      <td>C148</td>\n",
       "      <td>C</td>\n",
       "    </tr>\n",
       "  </tbody>\n",
       "</table>\n",
       "<p>183 rows × 12 columns</p>\n",
       "</div>"
      ],
      "text/plain": [
       "     PassengerId  Survived  Pclass  \\\n",
       "1              2         1       1   \n",
       "3              4         1       1   \n",
       "6              7         0       1   \n",
       "10            11         1       3   \n",
       "11            12         1       1   \n",
       "..           ...       ...     ...   \n",
       "871          872         1       1   \n",
       "872          873         0       1   \n",
       "879          880         1       1   \n",
       "887          888         1       1   \n",
       "889          890         1       1   \n",
       "\n",
       "                                                  Name     Sex   Age  SibSp  \\\n",
       "1    Cumings, Mrs. John Bradley (Florence Briggs Th...  female  38.0      1   \n",
       "3         Futrelle, Mrs. Jacques Heath (Lily May Peel)  female  35.0      1   \n",
       "6                              McCarthy, Mr. Timothy J    male  54.0      0   \n",
       "10                     Sandstrom, Miss. Marguerite Rut  female   4.0      1   \n",
       "11                            Bonnell, Miss. Elizabeth  female  58.0      0   \n",
       "..                                                 ...     ...   ...    ...   \n",
       "871   Beckwith, Mrs. Richard Leonard (Sallie Monypeny)  female  47.0      1   \n",
       "872                           Carlsson, Mr. Frans Olof    male  33.0      0   \n",
       "879      Potter, Mrs. Thomas Jr (Lily Alexenia Wilson)  female  56.0      0   \n",
       "887                       Graham, Miss. Margaret Edith  female  19.0      0   \n",
       "889                              Behr, Mr. Karl Howell    male  26.0      0   \n",
       "\n",
       "     Parch    Ticket     Fare        Cabin Embarked  \n",
       "1        0  PC 17599  71.2833          C85        C  \n",
       "3        0    113803  53.1000         C123        S  \n",
       "6        0     17463  51.8625          E46        S  \n",
       "10       1   PP 9549  16.7000           G6        S  \n",
       "11       0    113783  26.5500         C103        S  \n",
       "..     ...       ...      ...          ...      ...  \n",
       "871      1     11751  52.5542          D35        S  \n",
       "872      0       695   5.0000  B51 B53 B55        S  \n",
       "879      1     11767  83.1583          C50        C  \n",
       "887      0    112053  30.0000          B42        S  \n",
       "889      0    111369  30.0000         C148        C  \n",
       "\n",
       "[183 rows x 12 columns]"
      ]
     },
     "execution_count": 611,
     "metadata": {},
     "output_type": "execute_result"
    }
   ],
   "source": [
    "ab_cleaned"
   ]
  },
  {
   "cell_type": "markdown",
   "id": "0ea2b7df-79de-4f51-bee5-e08064b26466",
   "metadata": {},
   "source": [
    "## Step 6: Normalization"
   ]
  },
  {
   "cell_type": "markdown",
   "id": "2dd2c511-a374-4fe1-840e-ce7b1a864eff",
   "metadata": {},
   "source": [
    "**2.1 Normalize Features**\n",
    "\n",
    "Use Min-Max normalization to scale the features 'Age' and 'Fare'."
   ]
  },
  {
   "cell_type": "code",
   "execution_count": 615,
   "id": "0b1ea903-4f8b-4250-b048-d1e4f6189378",
   "metadata": {},
   "outputs": [],
   "source": [
    "# Selecting features for normalization\n",
    "features = ab_cleaned[['Age', 'Fare']]\n",
    "\n",
    "# Normalization using MinMaxScaler\n",
    "scaler = MinMaxScaler()\n",
    "features_normalized = scaler.fit_transform(features)\n",
    "\n",
    "# Creating a new DataFrame for normalized features\n",
    "P = pd.DataFrame(features_normalized, columns=['Age', 'Fare'])\n"
   ]
  },
  {
   "cell_type": "code",
   "execution_count": 617,
   "id": "a51fc320-2f89-443e-9e18-2682d50a4976",
   "metadata": {},
   "outputs": [
    {
     "data": {
      "text/html": [
       "<div>\n",
       "<style scoped>\n",
       "    .dataframe tbody tr th:only-of-type {\n",
       "        vertical-align: middle;\n",
       "    }\n",
       "\n",
       "    .dataframe tbody tr th {\n",
       "        vertical-align: top;\n",
       "    }\n",
       "\n",
       "    .dataframe thead th {\n",
       "        text-align: right;\n",
       "    }\n",
       "</style>\n",
       "<table border=\"1\" class=\"dataframe\">\n",
       "  <thead>\n",
       "    <tr style=\"text-align: right;\">\n",
       "      <th></th>\n",
       "      <th>Age</th>\n",
       "      <th>Fare</th>\n",
       "    </tr>\n",
       "  </thead>\n",
       "  <tbody>\n",
       "    <tr>\n",
       "      <th>0</th>\n",
       "      <td>0.468892</td>\n",
       "      <td>0.139136</td>\n",
       "    </tr>\n",
       "    <tr>\n",
       "      <th>1</th>\n",
       "      <td>0.430956</td>\n",
       "      <td>0.103644</td>\n",
       "    </tr>\n",
       "    <tr>\n",
       "      <th>2</th>\n",
       "      <td>0.671219</td>\n",
       "      <td>0.101229</td>\n",
       "    </tr>\n",
       "    <tr>\n",
       "      <th>3</th>\n",
       "      <td>0.038948</td>\n",
       "      <td>0.032596</td>\n",
       "    </tr>\n",
       "    <tr>\n",
       "      <th>4</th>\n",
       "      <td>0.721801</td>\n",
       "      <td>0.051822</td>\n",
       "    </tr>\n",
       "  </tbody>\n",
       "</table>\n",
       "</div>"
      ],
      "text/plain": [
       "        Age      Fare\n",
       "0  0.468892  0.139136\n",
       "1  0.430956  0.103644\n",
       "2  0.671219  0.101229\n",
       "3  0.038948  0.032596\n",
       "4  0.721801  0.051822"
      ]
     },
     "execution_count": 617,
     "metadata": {},
     "output_type": "execute_result"
    }
   ],
   "source": [
    "P.head()"
   ]
  },
  {
   "cell_type": "markdown",
   "id": "e5e4240c-a63b-4b3e-bdfe-77b0b4803658",
   "metadata": {},
   "source": [
    "**2.2 Prepare Target Variable**\n",
    "\n",
    "Set the target variable (survival status)."
   ]
  },
  {
   "cell_type": "code",
   "execution_count": 620,
   "id": "700c16b6-a090-4358-8792-54ddb328404a",
   "metadata": {},
   "outputs": [],
   "source": [
    "q = ab_cleaned['Survived']\n"
   ]
  },
  {
   "cell_type": "code",
   "execution_count": 622,
   "id": "e8f049c2-2242-4b02-8988-95631224e99c",
   "metadata": {},
   "outputs": [
    {
     "data": {
      "text/plain": [
       "1     1\n",
       "3     1\n",
       "6     0\n",
       "10    1\n",
       "11    1\n",
       "Name: Survived, dtype: int64"
      ]
     },
     "execution_count": 622,
     "metadata": {},
     "output_type": "execute_result"
    }
   ],
   "source": [
    "q.head()"
   ]
  },
  {
   "cell_type": "markdown",
   "id": "23e1f2c6-db5f-430e-8b40-9f0594745a60",
   "metadata": {},
   "source": [
    "## Step 6: Train-Test Split\n",
    "\n",
    "Split the dataset into training and testing sets."
   ]
  },
  {
   "cell_type": "code",
   "execution_count": 625,
   "id": "b6a43a2c-0fb4-4dc7-b18b-aebd89dfa05b",
   "metadata": {},
   "outputs": [],
   "source": [
    "from sklearn.model_selection import train_test_split\n",
    "\n",
    "P_train, P_test, q_train, q_test = train_test_split(P, q, test_size=0.2, random_state=42)\n"
   ]
  },
  {
   "cell_type": "markdown",
   "id": "f66ae747-d118-4c82-9017-74998b02c625",
   "metadata": {},
   "source": [
    "## Step 7: KNN Tuning"
   ]
  },
  {
   "cell_type": "markdown",
   "id": "7e8ab68d-c3b0-4f54-9546-37de1162a058",
   "metadata": {},
   "source": [
    "**4.1 Find Optimal K**\n",
    "\n",
    "Looping through different values of k (from 1 to 20) and use cross-validation to find the best accuracy.\n",
    "\n",
    "**A. Check for Missing Values**\n",
    "\n",
    "Before proceeding with KNN tuning, check for any remaining missing values in your dataset."
   ]
  },
  {
   "cell_type": "code",
   "execution_count": 629,
   "id": "fe292cd7-1e2e-45a8-b322-bdcbeabfe186",
   "metadata": {},
   "outputs": [
    {
     "name": "stdout",
     "output_type": "stream",
     "text": [
      "Age     0\n",
      "Fare    0\n",
      "dtype: int64\n",
      "0\n"
     ]
    }
   ],
   "source": [
    "# Checking for missing values in the normalized features\n",
    "print(P.isnull().sum())\n",
    "print(q.isnull().sum())"
   ]
  },
  {
   "cell_type": "code",
   "execution_count": 631,
   "id": "bc124e2b-9e59-4d35-a224-bdd340fef249",
   "metadata": {},
   "outputs": [
    {
     "data": {
      "image/png": "[encoded data removed]",
      "text/plain": [
       "<Figure size 1000x600 with 1 Axes>"
      ]
     },
     "metadata": {},
     "output_type": "display_data"
    }
   ],
   "source": [
    "# Testing different values of k\n",
    "k_values = range(1, 21)\n",
    "accuracies = []\n",
    "\n",
    "for k in k_values:\n",
    "    knn = KNeighborsClassifier(n_neighbors=k)\n",
    "    scores = cross_val_score(knn, P_train, q_train, cv=5)\n",
    "    accuracies.append(scores.mean())\n",
    "\n",
    "# Plotting accuracy vs. k\n",
    "plt.figure(figsize=(10, 6))\n",
    "plt.plot(k_values, accuracies, marker='o')\n",
    "plt.title('KNN Accuracy vs. Number of Neighbors (k)', fontsize=16)\n",
    "plt.xlabel('Number of Neighbors (k)', fontsize=14)\n",
    "plt.ylabel('Accuracy', fontsize=14)\n",
    "plt.xticks(k_values)\n",
    "plt.grid()\n",
    "plt.show()\n"
   ]
  },
  {
   "cell_type": "code",
   "execution_count": 633,
   "id": "71795157-1bff-4e2b-82c1-a4ed3c70f57d",
   "metadata": {},
   "outputs": [
    {
     "name": "stdout",
     "output_type": "stream",
     "text": [
      "Best k value: 3 with accuracy: 0.7115\n"
     ]
    }
   ],
   "source": [
    "# Print the k with the best accuracy\n",
    "best_k = k_values[np.argmax(accuracies)]\n",
    "print(f\"Best k value: {best_k} with accuracy: {max(accuracies):.4f}\")"
   ]
  },
  {
   "cell_type": "code",
   "execution_count": null,
   "id": "c51b95d5-6741-450f-b6a0-21c6b5d49377",
   "metadata": {},
   "outputs": [],
   "source": []
  }
 ],
 "metadata": {
  "kernelspec": {
   "display_name": "Python 3 (ipykernel)",
   "language": "python",
   "name": "python3"
  },
  "language_info": {
   "codemirror_mode": {
    "name": "ipython",
    "version": 3
   },
   "file_extension": ".py",
   "mimetype": "text/x-python",
   "name": "python",
   "nbconvert_exporter": "python",
   "pygments_lexer": "ipython3",
   "version": "3.12.4"
  }
 },
 "nbformat": 4,
 "nbformat_minor": 5
}
