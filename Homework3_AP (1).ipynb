{
 "cells": [
  {
   "cell_type": "markdown",
   "id": "c2211392-8ea7-4d4d-826f-677d44d87d6a",
   "metadata": {},
   "source": [
    "# Homework - 3"
   ]
  },
  {
   "cell_type": "markdown",
   "id": "35483e0a-703b-48a0-8029-bf3674f44424",
   "metadata": {},
   "source": [
    "**Name** - Tushar Ahuja\n"
   ]
  },
  {
   "cell_type": "markdown",
   "id": "d0df8c3f-dcdc-4bd2-b01b-bdd61aebfc3d",
   "metadata": {},
   "source": [
    "---"
   ]
  },
  {
   "cell_type": "markdown",
   "id": "ddfcf14d-0c8a-422c-a998-f1e621587443",
   "metadata": {},
   "source": [
    "### Questions:\n",
    "\n",
    "1. Identify the best-performing sector in terms of return.\n",
    "2. Plot the historical returns for each sector.\n",
    "3. For each ticker, calculate the following:\n",
    "  * Standard deviation of the daily closing price\n",
    "  * Average daily return\n",
    "4. Calculate the correlation (using daily closing prices) between GOOG and AAPL."
   ]
  },
  {
   "cell_type": "markdown",
   "id": "bc2dfc96-20bb-4734-8393-66487d28c2e1",
   "metadata": {},
   "source": [
    "---"
   ]
  },
  {
   "cell_type": "markdown",
   "id": "a3646796-7c7c-4596-b516-20fb5d40be54",
   "metadata": {},
   "source": [
    "## Introduction"
   ]
  },
  {
   "cell_type": "markdown",
   "id": "bb6cfba1-aa95-47fc-a37f-c852265edea8",
   "metadata": {},
   "source": [
    "In this we will analyze a dataset of historical financial information to evaluate sector performance, visualize trends, and understand relationships between individual stocks. Key tasks include identifying the top-performing sector by total returns, plotting historical returns for each sector, calculating statistical metrics such as volatility and average return for each ticker, and assessing the correlation between the daily closing prices of specific stocks. The goal is to provide insights that support informed investment decisions and enhance market understanding.\n",
    "\n",
    "\n",
    "**Firstly**, identifying the best-performing sector requires calculating the total return for each sector. This involves summing the daily returns of all tickers within each sector to determine which sector has achieved the highest overall return. Total returns aggregate the performance of all tickers in a sector, providing a measure of which sector performed best over the observation period.\n",
    "\n",
    "**Secondly**, plotting historical returns for each sector involves computing cumulative returns, which reflect the compounded performance over time. By plotting these cumulative returns against dates, we can visualize and compare how different sectors have evolved in performance, revealing trends and periods of volatility.\n",
    "\n",
    "**Thirdly**, calculating the standard deviation of daily closing prices for each ticker measures the volatility or risk associated with each ticker’s price fluctuations. The standard deviation quantifies how much the closing prices deviate from their average, providing insight into the risk level of each ticker. Additionally, the average daily return is computed to assess the mean performance of each ticker, indicating whether it has generally gained or lost value over time.\n",
    "\n",
    "**Lastly**, calculating the correlation between the daily closing prices of two tickers, such as GOOG and AAPL, measures the strength and direction of their linear relationship. The Pearson correlation coefficient quantifies whether the prices of GOOG and AAPL tend to move together or in opposite directions, offering insights into the relationship between these two assets."
   ]
  },
  {
   "cell_type": "markdown",
   "id": "b20309b6-019a-47a0-9fae-6aef5a7ed8ec",
   "metadata": {},
   "source": [
    "---"
   ]
  },
  {
   "cell_type": "markdown",
   "id": "e5f0e183-159f-4f57-8cf7-1ecfc63099f8",
   "metadata": {},
   "source": [
    "# Step-By-Step Procedure\n",
    "\n",
    "## 1. Loading Data From Files \n",
    "\n",
    "**NOTE:- This is the same step that we performed in homework 2 for loading the dataset.**"
   ]
  },
  {
   "cell_type": "markdown",
   "id": "f8299235-43ae-4487-bd04-862f75879843",
   "metadata": {},
   "source": [
    "**Description**\n",
    "\n",
    "We'll start by loading the raw data files, which include:\n",
    "\n",
    "* **rawdata.csv:** Contains financial data in TSV (Tab Separated Values) format.\n",
    "* **headers.txt:** Contains the headers for the data in rawdata.csv.\n",
    "\n",
    "**Code**"
   ]
  },
  {
   "cell_type": "code",
   "execution_count": 128,
   "id": "04139d1f-6f6d-4e4c-aa23-ca4f25ee7ee3",
   "metadata": {},
   "outputs": [
    {
     "name": "stdout",
     "output_type": "stream",
     "text": [
      "Number of headers: 9\n",
      "Headers: ['datetime', 'Date', 'time', 'ticker', 'mid', 'sector', 'industrygroup', 'alpha1', 'alpha2']\n",
      "Number of columns in data: 9\n"
     ]
    },
    {
     "data": {
      "text/html": [
       "<div>\n",
       "<style scoped>\n",
       "    .dataframe tbody tr th:only-of-type {\n",
       "        vertical-align: middle;\n",
       "    }\n",
       "\n",
       "    .dataframe tbody tr th {\n",
       "        vertical-align: top;\n",
       "    }\n",
       "\n",
       "    .dataframe thead th {\n",
       "        text-align: right;\n",
       "    }\n",
       "</style>\n",
       "<table border=\"1\" class=\"dataframe\">\n",
       "  <thead>\n",
       "    <tr style=\"text-align: right;\">\n",
       "      <th></th>\n",
       "      <th>datetime</th>\n",
       "      <th>Date</th>\n",
       "      <th>time</th>\n",
       "      <th>ticker</th>\n",
       "      <th>mid</th>\n",
       "      <th>sector</th>\n",
       "      <th>industrygroup</th>\n",
       "      <th>alpha1</th>\n",
       "      <th>alpha2</th>\n",
       "    </tr>\n",
       "  </thead>\n",
       "  <tbody>\n",
       "    <tr>\n",
       "      <th>0</th>\n",
       "      <td>2013-01-02 09:45:00</td>\n",
       "      <td>20130102</td>\n",
       "      <td>94500.0</td>\n",
       "      <td>A</td>\n",
       "      <td>41.655</td>\n",
       "      <td>IndustrySector_Industrial</td>\n",
       "      <td>IndustryGroup_Electronics</td>\n",
       "      <td>10.803500</td>\n",
       "      <td>0.075531</td>\n",
       "    </tr>\n",
       "    <tr>\n",
       "      <th>1</th>\n",
       "      <td>2013-01-02 09:45:00</td>\n",
       "      <td>20130102</td>\n",
       "      <td>94500.0</td>\n",
       "      <td>AA</td>\n",
       "      <td>8.855</td>\n",
       "      <td>IndustrySector_BasicMaterials</td>\n",
       "      <td>IndustryGroup_Mining</td>\n",
       "      <td>2.273380</td>\n",
       "      <td>0.000000</td>\n",
       "    </tr>\n",
       "    <tr>\n",
       "      <th>2</th>\n",
       "      <td>2013-01-02 09:45:00</td>\n",
       "      <td>20130102</td>\n",
       "      <td>94500.0</td>\n",
       "      <td>AAN</td>\n",
       "      <td>28.640</td>\n",
       "      <td>IndustrySector_ConsumerNonCyclical</td>\n",
       "      <td>IndustryGroup_CommercialServices</td>\n",
       "      <td>-6.308750</td>\n",
       "      <td>4.000000</td>\n",
       "    </tr>\n",
       "    <tr>\n",
       "      <th>3</th>\n",
       "      <td>2013-01-02 09:45:00</td>\n",
       "      <td>20130102</td>\n",
       "      <td>94500.0</td>\n",
       "      <td>AAP</td>\n",
       "      <td>72.990</td>\n",
       "      <td>IndustrySector_ConsumerCyclical</td>\n",
       "      <td>IndustryGroup_Retail</td>\n",
       "      <td>0.000000</td>\n",
       "      <td>0.000000</td>\n",
       "    </tr>\n",
       "    <tr>\n",
       "      <th>4</th>\n",
       "      <td>2013-01-02 09:45:00</td>\n",
       "      <td>20130102</td>\n",
       "      <td>94500.0</td>\n",
       "      <td>AAPL</td>\n",
       "      <td>551.595</td>\n",
       "      <td>IndustrySector_Technology</td>\n",
       "      <td>IndustryGroup_Computers</td>\n",
       "      <td>-0.864097</td>\n",
       "      <td>-0.007636</td>\n",
       "    </tr>\n",
       "  </tbody>\n",
       "</table>\n",
       "</div>"
      ],
      "text/plain": [
       "              datetime      Date     time ticker      mid  \\\n",
       "0  2013-01-02 09:45:00  20130102  94500.0      A   41.655   \n",
       "1  2013-01-02 09:45:00  20130102  94500.0     AA    8.855   \n",
       "2  2013-01-02 09:45:00  20130102  94500.0    AAN   28.640   \n",
       "3  2013-01-02 09:45:00  20130102  94500.0    AAP   72.990   \n",
       "4  2013-01-02 09:45:00  20130102  94500.0   AAPL  551.595   \n",
       "\n",
       "                               sector                     industrygroup  \\\n",
       "0           IndustrySector_Industrial         IndustryGroup_Electronics   \n",
       "1       IndustrySector_BasicMaterials              IndustryGroup_Mining   \n",
       "2  IndustrySector_ConsumerNonCyclical  IndustryGroup_CommercialServices   \n",
       "3     IndustrySector_ConsumerCyclical              IndustryGroup_Retail   \n",
       "4           IndustrySector_Technology           IndustryGroup_Computers   \n",
       "\n",
       "      alpha1    alpha2  \n",
       "0  10.803500  0.075531  \n",
       "1   2.273380  0.000000  \n",
       "2  -6.308750  4.000000  \n",
       "3   0.000000  0.000000  \n",
       "4  -0.864097 -0.007636  "
      ]
     },
     "execution_count": 128,
     "metadata": {},
     "output_type": "execute_result"
    }
   ],
   "source": [
    "import pandas as pd\n",
    "\n",
    "# Loading the headers\n",
    "with open('/Users/tusharahuja/Documents/Analytic Pg/headers.txt', 'r') as file:\n",
    "    # Split on commas instead of tabs\n",
    "    headers = file.read().strip().split(',')  \n",
    "\n",
    "# printing number of headers\n",
    "print(f\"Number of headers: {len(headers)}\")\n",
    "print(\"Headers:\", headers)\n",
    "\n",
    "# Load data\n",
    "data = pd.read_csv('/Users/tusharahuja/Documents/Analytic Pg/rawdata.csv', sep='\\t', header=None)\n",
    "\n",
    "# print number of columns in the data\n",
    "print(f\"Number of columns in data: {data.shape[1]}\")\n",
    "\n",
    "# Assigning headers to columns\n",
    "if len(headers) == data.shape[1]:\n",
    "    data.columns = headers\n",
    "else:\n",
    "    print(\"There is mismatch between number of headers and number of columns in the dataset\")\n",
    "\n",
    "# Displaying the first few rows of the dataframe\n",
    "data.head()"
   ]
  },
  {
   "cell_type": "markdown",
   "id": "97588aac-95ec-4345-88b3-2876abfd8522",
   "metadata": {},
   "source": [
    "### **Explanation**\n",
    "\n",
    "* **Loading headers:** We read the headers from headers.txt to use them in our dataframe.\n",
    "* **Loading data:** We use pd.read_csv with sep=&#39;\\t&#39; to correctly parse the TSV file.\n",
    "* **Assigning headers:** We set the column names of the dataframe using the headers read from\n",
    "the file.\n"
   ]
  },
  {
   "cell_type": "markdown",
   "id": "48759697-ac7a-4742-8057-418c9c0de635",
   "metadata": {},
   "source": [
    "## 2. Cleaning the data"
   ]
  },
  {
   "cell_type": "markdown",
   "id": "8be339d3-b15e-4c73-b071-83c7980b4a4b",
   "metadata": {},
   "source": [
    "### A. Checking for missing values in the ticker column\n",
    "\n",
    "**NOTE:- This is the same step that we performed in homework 2 for cleaning the dataset.**"
   ]
  },
  {
   "cell_type": "markdown",
   "id": "9f2ea2c6-d124-4666-9bba-8148ff80fd1f",
   "metadata": {},
   "source": [
    "**Description**\n",
    "\n",
    "* This part of the code specifically checks for missing values in the ticker column.\n",
    "* The isna() function is used to identify missing values (NaN), and sum() adds up the True values, which indicate the missing entries.\n",
    "\n"
   ]
  },
  {
   "cell_type": "code",
   "execution_count": 130,
   "id": "18c6fe0d-4321-4bc6-a4af-df880f550f55",
   "metadata": {},
   "outputs": [
    {
     "name": "stdout",
     "output_type": "stream",
     "text": [
      "Number of missing tickers: 0\n"
     ]
    }
   ],
   "source": [
    "# Check for missing values in the 'ticker' column\n",
    "missing_tickers = data['ticker'].isna().sum()\n",
    "\n",
    "# Display the number of missing tickers\n",
    "print(f\"Number of missing tickers: {missing_tickers}\")\n"
   ]
  },
  {
   "cell_type": "markdown",
   "id": "5c73bdb3-833c-454d-94a9-445c05bbd8d2",
   "metadata": {},
   "source": [
    "**Explanation:**\n",
    "  \n",
    "* data['ticker'].isna(): This returns a boolean series, where each element is True if the value in the ticker column is missing (i.e., NaN).\n",
    "* sum(): This counts the number of True values (i.e., the total number of missing values in the ticker column).\n",
    "\n",
    "**Output:**\n",
    "\n",
    "The number of rows in the ticker column that have missing values is printed."
   ]
  },
  {
   "cell_type": "markdown",
   "id": "e018ad5b-3c11-4472-a297-34c3185946e6",
   "metadata": {},
   "source": [
    "### B. Checking for missing values across all columns"
   ]
  },
  {
   "cell_type": "markdown",
   "id": "ca80ec58-4043-402f-bad8-f2392fdfe90e",
   "metadata": {},
   "source": [
    "**Description:**\n",
    "\n",
    "* This part checks for missing values across all columns of the dataframe.\n",
    "* The result is displayed as the number of missing values for each column.\n",
    "\n"
   ]
  },
  {
   "cell_type": "code",
   "execution_count": 132,
   "id": "819f09ff-cb6c-4e0a-a4c5-6759b04d02f7",
   "metadata": {},
   "outputs": [
    {
     "name": "stdout",
     "output_type": "stream",
     "text": [
      "Missing values per column:\n",
      "datetime         0\n",
      "Date             0\n",
      "time             0\n",
      "ticker           0\n",
      "mid              0\n",
      "sector           0\n",
      "industrygroup    0\n",
      "alpha1           0\n",
      "alpha2           0\n",
      "dtype: int64\n"
     ]
    }
   ],
   "source": [
    "# Check missing values for each column\n",
    "missing_values_per_column = data.isna().sum()\n",
    "\n",
    "# Display missing values for each column\n",
    "print(\"Missing values per column:\")\n",
    "print(missing_values_per_column)\n"
   ]
  },
  {
   "cell_type": "markdown",
   "id": "9a01a553-19df-4d87-bf56-d2f19b49b6af",
   "metadata": {},
   "source": [
    "**Explanation:**\n",
    "\n",
    "* data.isna(): This returns a dataframe of the same shape as data, where each entry is True if the corresponding value is missing (NaN) and False otherwise.\n",
    "* sum(): When applied to the dataframe, it counts the number of missing values for each column. The sum is done along the vertical axis (axis=0), meaning it aggregates per column.\n",
    "\n",
    "**Output:**\n",
    "\n",
    "It prints how many missing values exist in each column of the dataframe. This provides an overview of missing data across all variables."
   ]
  },
  {
   "cell_type": "markdown",
   "id": "76778125-6d48-45a8-ac3f-a690b4f51db2",
   "metadata": {},
   "source": [
    "### C. Checking for rows that contain missing values in any column"
   ]
  },
  {
   "cell_type": "code",
   "execution_count": 134,
   "id": "54cac764-1653-4a8d-8b8f-349521d0cc13",
   "metadata": {},
   "outputs": [
    {
     "name": "stdout",
     "output_type": "stream",
     "text": [
      "Number of rows with missing values: 0\n"
     ]
    },
    {
     "data": {
      "text/html": [
       "<div>\n",
       "<style scoped>\n",
       "    .dataframe tbody tr th:only-of-type {\n",
       "        vertical-align: middle;\n",
       "    }\n",
       "\n",
       "    .dataframe tbody tr th {\n",
       "        vertical-align: top;\n",
       "    }\n",
       "\n",
       "    .dataframe thead th {\n",
       "        text-align: right;\n",
       "    }\n",
       "</style>\n",
       "<table border=\"1\" class=\"dataframe\">\n",
       "  <thead>\n",
       "    <tr style=\"text-align: right;\">\n",
       "      <th></th>\n",
       "      <th>datetime</th>\n",
       "      <th>Date</th>\n",
       "      <th>time</th>\n",
       "      <th>ticker</th>\n",
       "      <th>mid</th>\n",
       "      <th>sector</th>\n",
       "      <th>industrygroup</th>\n",
       "      <th>alpha1</th>\n",
       "      <th>alpha2</th>\n",
       "    </tr>\n",
       "  </thead>\n",
       "  <tbody>\n",
       "  </tbody>\n",
       "</table>\n",
       "</div>"
      ],
      "text/plain": [
       "Empty DataFrame\n",
       "Columns: [datetime, Date, time, ticker, mid, sector, industrygroup, alpha1, alpha2]\n",
       "Index: []"
      ]
     },
     "execution_count": 134,
     "metadata": {},
     "output_type": "execute_result"
    }
   ],
   "source": [
    "\n",
    "# Check rows with any missing values\n",
    "rows_with_missing = data[data.isna().any(axis=1)]\n",
    "\n",
    "# Display the number of rows with missing values\n",
    "print(f\"Number of rows with missing values: {len(rows_with_missing)}\")\n",
    "\n",
    "# Optionally, display the first few rows with missing data\n",
    "rows_with_missing.head()\n"
   ]
  },
  {
   "cell_type": "markdown",
   "id": "a188d126-4ffb-4f70-9434-4ccc0753cbd2",
   "metadata": {},
   "source": [
    "**Explanation:**\n",
    "\n",
    "* data.isna(): This returns a boolean dataframe where each value is True if it is missing and False if it is present.\n",
    "* any(axis=1): This checks across rows (with axis=1), returning True if any value in that row is missing.\n",
    "* data[data.isna().any(axis=1)]: This filters the dataframe, selecting only the rows where at least one value is missing.\n",
    "\n",
    "**Output:**\n",
    "\n",
    "* Number of rows with missing values: Prints how many rows have at least one missing value.\n",
    "* Displaying rows with missing values: Optionally, displays the first few rows that contain missing data for inspection."
   ]
  },
  {
   "cell_type": "markdown",
   "id": "260be10b-1db9-48d8-b9f7-f1350257cebf",
   "metadata": {},
   "source": [
    "## Summary of data cleaning:\n",
    "\n",
    "* First part checks for missing values in the ticker column specifically.\n",
    "* Second part provides an overview of missing data across all columns.\n",
    "* Third part focuses on rows that have missing values in any of their columns, allowing us to understand how many rows need to be handled."
   ]
  },
  {
   "cell_type": "markdown",
   "id": "8fe8a23e-2e3c-4620-a62b-24c0a6882647",
   "metadata": {},
   "source": [
    "---"
   ]
  },
  {
   "cell_type": "markdown",
   "id": "7570c046-255a-4a9d-9b44-7ca07c34690c",
   "metadata": {},
   "source": [
    "### Checking the shape of the data before and after cleaning is essential. Above are the basic steps that we can perform to clean our data. The steps listed below are the only ones that can be taken to prepare the dataset."
   ]
  },
  {
   "cell_type": "code",
   "execution_count": 136,
   "id": "389b2f79-45b3-4fd0-bca2-518220d93b49",
   "metadata": {},
   "outputs": [
    {
     "data": {
      "text/plain": [
       "(35551185, 9)"
      ]
     },
     "execution_count": 136,
     "metadata": {},
     "output_type": "execute_result"
    }
   ],
   "source": [
    "# # Get the dimensions of the DataFrame.\n",
    "data.shape"
   ]
  },
  {
   "cell_type": "code",
   "execution_count": 138,
   "id": "c04ace4e-dada-4e2f-b546-3d6df7226a3b",
   "metadata": {},
   "outputs": [
    {
     "data": {
      "text/plain": [
       "(35551185, 9)"
      ]
     },
     "execution_count": 138,
     "metadata": {},
     "output_type": "execute_result"
    }
   ],
   "source": [
    "# Remove rows with missing data\n",
    "cleaned_data = data.dropna()\n",
    "\n",
    "# Display the shape of the cleaned dataframe\n",
    "cleaned_data.shape"
   ]
  },
  {
   "cell_type": "markdown",
   "id": "db949e92-09f3-4af2-a2e2-88bd010e95f4",
   "metadata": {},
   "source": [
    "---"
   ]
  },
  {
   "cell_type": "markdown",
   "id": "16549a31-051c-47f2-97fb-2a9eec526d43",
   "metadata": {},
   "source": [
    "## 3. Analyze Data\n",
    "\n",
    "**NOTE:- This is the same step that we performed in homework 2 for analyzing dataset, calculated the return for each sector and best-performing sector**\n",
    "\n",
    "(Answer to question - 1)"
   ]
  },
  {
   "cell_type": "code",
   "execution_count": 140,
   "id": "fae68fb7-f8b5-43f7-a52a-37bd42c719a4",
   "metadata": {},
   "outputs": [
    {
     "data": {
      "text/html": [
       "<div>\n",
       "<style scoped>\n",
       "    .dataframe tbody tr th:only-of-type {\n",
       "        vertical-align: middle;\n",
       "    }\n",
       "\n",
       "    .dataframe tbody tr th {\n",
       "        vertical-align: top;\n",
       "    }\n",
       "\n",
       "    .dataframe thead th {\n",
       "        text-align: right;\n",
       "    }\n",
       "</style>\n",
       "<table border=\"1\" class=\"dataframe\">\n",
       "  <thead>\n",
       "    <tr style=\"text-align: right;\">\n",
       "      <th></th>\n",
       "      <th>datetime</th>\n",
       "      <th>Date</th>\n",
       "      <th>time</th>\n",
       "      <th>ticker</th>\n",
       "      <th>mid</th>\n",
       "      <th>sector</th>\n",
       "      <th>industrygroup</th>\n",
       "      <th>alpha1</th>\n",
       "      <th>alpha2</th>\n",
       "      <th>return</th>\n",
       "    </tr>\n",
       "  </thead>\n",
       "  <tbody>\n",
       "    <tr>\n",
       "      <th>1005</th>\n",
       "      <td>2013-01-02 09:45:00</td>\n",
       "      <td>20130102</td>\n",
       "      <td>94500.0</td>\n",
       "      <td>OSIS</td>\n",
       "      <td>65.425</td>\n",
       "      <td>IndustrySector_Industrial</td>\n",
       "      <td>IndustryGroup_Electronics</td>\n",
       "      <td>0.00000</td>\n",
       "      <td>4.000000</td>\n",
       "      <td>0.570640</td>\n",
       "    </tr>\n",
       "    <tr>\n",
       "      <th>1004</th>\n",
       "      <td>2013-01-02 09:45:00</td>\n",
       "      <td>20130102</td>\n",
       "      <td>94500.0</td>\n",
       "      <td>ORLY</td>\n",
       "      <td>90.260</td>\n",
       "      <td>IndustrySector_ConsumerCyclical</td>\n",
       "      <td>IndustryGroup_Retail</td>\n",
       "      <td>0.00000</td>\n",
       "      <td>-0.770164</td>\n",
       "      <td>1.908798</td>\n",
       "    </tr>\n",
       "    <tr>\n",
       "      <th>999</th>\n",
       "      <td>2013-01-02 09:45:00</td>\n",
       "      <td>20130102</td>\n",
       "      <td>94500.0</td>\n",
       "      <td>ONNN</td>\n",
       "      <td>7.265</td>\n",
       "      <td>IndustrySector_Technology</td>\n",
       "      <td>IndustryGroup_Semiconductors</td>\n",
       "      <td>-1.46021</td>\n",
       "      <td>0.000000</td>\n",
       "      <td>-0.788408</td>\n",
       "    </tr>\n",
       "    <tr>\n",
       "      <th>998</th>\n",
       "      <td>2013-01-02 09:45:00</td>\n",
       "      <td>20130102</td>\n",
       "      <td>94500.0</td>\n",
       "      <td>OMX</td>\n",
       "      <td>10.005</td>\n",
       "      <td>IndustrySector_ConsumerCyclical</td>\n",
       "      <td>IndustryGroup_Retail</td>\n",
       "      <td>-5.64462</td>\n",
       "      <td>0.000000</td>\n",
       "      <td>-0.889154</td>\n",
       "    </tr>\n",
       "    <tr>\n",
       "      <th>997</th>\n",
       "      <td>2013-01-02 09:45:00</td>\n",
       "      <td>20130102</td>\n",
       "      <td>94500.0</td>\n",
       "      <td>OMI</td>\n",
       "      <td>28.715</td>\n",
       "      <td>IndustrySector_ConsumerCyclical</td>\n",
       "      <td>IndustryGroup_DistributionWholesale</td>\n",
       "      <td>3.66698</td>\n",
       "      <td>-4.000000</td>\n",
       "      <td>1.870065</td>\n",
       "    </tr>\n",
       "  </tbody>\n",
       "</table>\n",
       "</div>"
      ],
      "text/plain": [
       "                datetime      Date     time ticker     mid  \\\n",
       "1005 2013-01-02 09:45:00  20130102  94500.0   OSIS  65.425   \n",
       "1004 2013-01-02 09:45:00  20130102  94500.0   ORLY  90.260   \n",
       "999  2013-01-02 09:45:00  20130102  94500.0   ONNN   7.265   \n",
       "998  2013-01-02 09:45:00  20130102  94500.0    OMX  10.005   \n",
       "997  2013-01-02 09:45:00  20130102  94500.0    OMI  28.715   \n",
       "\n",
       "                               sector                        industrygroup  \\\n",
       "1005        IndustrySector_Industrial            IndustryGroup_Electronics   \n",
       "1004  IndustrySector_ConsumerCyclical                 IndustryGroup_Retail   \n",
       "999         IndustrySector_Technology         IndustryGroup_Semiconductors   \n",
       "998   IndustrySector_ConsumerCyclical                 IndustryGroup_Retail   \n",
       "997   IndustrySector_ConsumerCyclical  IndustryGroup_DistributionWholesale   \n",
       "\n",
       "       alpha1    alpha2    return  \n",
       "1005  0.00000  4.000000  0.570640  \n",
       "1004  0.00000 -0.770164  1.908798  \n",
       "999  -1.46021  0.000000 -0.788408  \n",
       "998  -5.64462  0.000000 -0.889154  \n",
       "997   3.66698 -4.000000  1.870065  "
      ]
     },
     "execution_count": 140,
     "metadata": {},
     "output_type": "execute_result"
    }
   ],
   "source": [
    "# Ensuring 'datetime' is in the correct datetime format given\n",
    "cleaned_data['datetime'] = pd.to_datetime(cleaned_data['datetime'])\n",
    "\n",
    "# Sorting the data by datetime \n",
    "cleaned_data = cleaned_data.sort_values(by='datetime')\n",
    "\n",
    "# Calculating returns as the percentage change in 'mid' for each sector varies\n",
    "cleaned_data['return'] = cleaned_data.groupby('sector')['mid'].pct_change()\n",
    "\n",
    "# Removing rows with NaN returns (since the first row in each sector group will have NaN return due to pct_change())\n",
    "cleaned_data = cleaned_data.dropna(subset=['return'])\n",
    "\n",
    "# Displaying the first few rows with returns calculated\n",
    "cleaned_data.head()\n"
   ]
  },
  {
   "cell_type": "markdown",
   "id": "258c1891-69e5-4960-8059-3ea0d0afd9a5",
   "metadata": {},
   "source": [
    "**Description**\n",
    "\n",
    "* We will calculate the return for each sector and identify the best-performing sector.\n",
    "* Grouping data: We group the data by Sector and mid and calculate the returns as the percentage change in 'mid' for each sector.\n",
    "* Identifying the best performer: We find the sector with the highest average return.\n",
    "\n",
    "**Explanation**\n",
    "\n",
    "\n",
    "**1. Convert 'datetime' to DateTime Format:**\n",
    "\n",
    "* Ensuring that the datetime column is in proper datetime format.\n",
    "* Enables easy manipulation of date and time-based operations.\n",
    "\n",
    "**2. Sort Data by 'datetime':**\n",
    "\n",
    "* We can order the dataset chronologically by the datetime column.\n",
    "* It is important for time-based calculations, such as percentage change over time.\n",
    "\n",
    "**3. Calculate Returns for Each Sector:**\n",
    "\n",
    "* Using groupby('sector') to group data by sector.\n",
    "* Computing percentage change in mid values for each sector using pct_change(), representing the sector's return.\n",
    "\n",
    "**4. Remove NaN Rows from Returns:**\n",
    "\n",
    "* Removing rows where NaN values appear in the return column.\n",
    "* This happens because the first row in each group will not have a previous value to calculate percentage change.\n",
    "\n",
    "**5. Display Cleaned Data:**\n",
    "\n",
    "* Displaying the first few rows of the cleaned data with calculated returns.\n",
    "* Ensures the data is ready for analysis."
   ]
  },
  {
   "cell_type": "markdown",
   "id": "c53ae6c5-168f-4690-b73e-6bc2ac4c6c43",
   "metadata": {},
   "source": [
    "---"
   ]
  },
  {
   "cell_type": "code",
   "execution_count": 142,
   "id": "f1db4c7b-2bdd-49e5-9855-f7f71b693563",
   "metadata": {},
   "outputs": [
    {
     "name": "stdout",
     "output_type": "stream",
     "text": [
      "Best-performing sector:\n",
      "sector    IndustrySector_ConsumerNonCyclical\n",
      "return                96845022963064127488.0\n",
      "Name: 3, dtype: object\n"
     ]
    }
   ],
   "source": [
    "# Calculate total return for each sector\n",
    "sector_performance = cleaned_data.groupby('sector')['return'].sum().reset_index()\n",
    "\n",
    "# Finding the best-performing sector (highest total return)\n",
    "best_performing_sector = sector_performance.loc[sector_performance['return'].idxmax()]\n",
    "\n",
    "print(\"Best-performing sector:\")\n",
    "print(best_performing_sector)\n"
   ]
  },
  {
   "cell_type": "markdown",
   "id": "dd114471-44b4-473e-a663-7b16fd8f410f",
   "metadata": {},
   "source": [
    "**Description:**\n",
    "\n",
    "* Group by Sector and Calculate Total Return: It sums the returns for each sector to find the total return.\n",
    "* Identify the Best-Performing Sector: We have to find the sector with the highest total return.\n",
    "* Display the Best-Performing Sector: We have to showcase the sector with the highest total return.\n",
    "\n",
    "\n",
    "\n",
    "**Explanation**\n",
    "\n",
    "**1. Group by Sector and Calculate Total Return:**\n",
    "\n",
    "* Objective: To compute the total return for each sector by summing up the individual returns within that sector.\n",
    "* Process:\n",
    "  a. Grouping: Data is organized by sector.\n",
    "  b. Aggregation: Total return is calculated for each sector by summing the returns.\n",
    "\n",
    "**2. Identify the Best-Performing Sector:**\n",
    "\n",
    "* Objective: To determine which sector has the highest total return.\n",
    "* Process:\n",
    "   a. Maximum Identification: The sector with the highest total return is identified by finding the maximum value among the sector returns.\n",
    "\n",
    "**3. Display the Best-Performing Sector:**\n",
    "\n",
    "* Objective: To present the sector with the highest total return, providing insight into which sector performed the best."
   ]
  },
  {
   "cell_type": "markdown",
   "id": "8db39c47-63b3-451d-84d2-4c8b9a60d013",
   "metadata": {},
   "source": [
    "### **Best-performing sector based on mean return**"
   ]
  },
  {
   "cell_type": "code",
   "execution_count": 144,
   "id": "d3ca4b37-46b9-4d3d-bfe4-2179d5f03676",
   "metadata": {},
   "outputs": [
    {
     "name": "stdout",
     "output_type": "stream",
     "text": [
      "Best-performing sector based on mean return:\n",
      "sector    IndustrySector_ConsumerNonCyclical\n",
      "return                 15391883501224.599609\n",
      "Name: 3, dtype: object\n"
     ]
    }
   ],
   "source": [
    "# Group by sector and calculate the mean return for each sector\n",
    "sector_mean_performance = cleaned_data.groupby('sector')['return'].mean().reset_index()\n",
    "\n",
    "# Find the best-performing sector (highest mean return)\n",
    "best_performing_sector_mean = sector_mean_performance.loc[sector_mean_performance['return'].idxmax()]\n",
    "\n",
    "print(\"Best-performing sector based on mean return:\")\n",
    "print(best_performing_sector_mean)\n"
   ]
  },
  {
   "cell_type": "markdown",
   "id": "81f690ea-1d18-426c-9e10-7533d79a22b2",
   "metadata": {},
   "source": [
    "## 4. Plot the historical best return sector \n",
    "\n",
    "**NOTE:- This is the same step that we performed in homework 2 for plotting historical best return sector and cumulative historical return.**\n",
    "\n",
    "(Answer to question - 2)"
   ]
  },
  {
   "cell_type": "markdown",
   "id": "a239af69-6330-4297-b1c3-1873548dc0fd",
   "metadata": {},
   "source": [
    "Now we will filter the dataset to include only the best-performing sector and creates a time-series plot of its historical returns. It labels the axes and title for clarity, adds a legend for identification, and includes gridlines to enhance readability. The plot is then displayed to visualize how returns have varied over time for the selected sector."
   ]
  },
  {
   "cell_type": "code",
   "execution_count": 146,
   "id": "76a830f5-25bf-4047-8cd2-a6216e798349",
   "metadata": {},
   "outputs": [
    {
     "data": {
      "image/png": "[encoded data removed]",
      "text/plain": [
       "<Figure size 1000x600 with 1 Axes>"
      ]
     },
     "metadata": {},
     "output_type": "display_data"
    }
   ],
   "source": [
    "import matplotlib.pyplot as plt\n",
    "\n",
    "# Filter data for the best-performing sector\n",
    "best_sector_data = cleaned_data[cleaned_data['sector'] == best_performing_sector['sector']]\n",
    "\n",
    "# Plot historical returns for the best-performing sector\n",
    "plt.figure(figsize=(10, 6))\n",
    "plt.plot(best_sector_data['datetime'], best_sector_data['return'], label=best_performing_sector['sector'])\n",
    "plt.xlabel('Date')\n",
    "plt.ylabel('Return')\n",
    "plt.title(f'Historical Returns for the Best-Performing Sector: {best_performing_sector[\"sector\"]}')\n",
    "plt.legend()\n",
    "plt.grid(True)\n",
    "plt.show()\n"
   ]
  },
  {
   "cell_type": "markdown",
   "id": "56f27d3f-64d4-4f32-82f7-155fcb78734c",
   "metadata": {},
   "source": [
    "### Theoretical Analysis\n",
    "\n",
    "**1. Filtering Data for the Best-Performing Sector:**\n",
    "\n",
    "* Extracts the subset of data corresponding to the best-performing sector.\n",
    "\n",
    "**2. Create a Plot Figure:**\n",
    "\n",
    "* Initializing a new plot with specified dimensions for clarity and readability.\n",
    "\n",
    "**3. Plot Historical Returns:**\n",
    "\n",
    "* Plots the returns of the best-performing sector over time, showing how returns change with dates.\n",
    "\n",
    "**4. Label X-Axis:**\n",
    "\n",
    "* Adds a label to the x-axis indicating that it represents dates.\n",
    "\n",
    "**5. Label Y-Axis:**\n",
    "\n",
    "* Adds a label to the y-axis indicating that it represents returns.\n",
    "\n",
    "**6. Set Plot Title:**\n",
    "\n",
    "* Provides a title for the plot that includes the name of the best-performing sector.\n",
    "\n",
    "**7. Add Legend:**\n",
    "\n",
    "* Displays a legend to identify the line representing the best-performing sector.\n",
    "\n",
    "**8. Enable Grid:**\n",
    "\n",
    "* Adds gridlines to the plot to aid in reading and interpreting the data.\n",
    "\n",
    "**9. Display the Plot:**\n",
    "\n",
    "* Renders and shows the plot to the us."
   ]
  },
  {
   "cell_type": "markdown",
   "id": "9665b177-6a6b-4e41-954f-84bcc7f3ac33",
   "metadata": {},
   "source": [
    "### To visualize the historical returns for multiple sectors on a single plot, allowing for comparative analysis of sector performance over time."
   ]
  },
  {
   "cell_type": "code",
   "execution_count": 148,
   "id": "99ed79bf-59bb-4be3-95bd-9884ea4bc128",
   "metadata": {},
   "outputs": [
    {
     "data": {
      "image/png": "[encoded data removed]",
      "text/plain": [
       "<Figure size 2000x800 with 1 Axes>"
      ]
     },
     "metadata": {},
     "output_type": "display_data"
    }
   ],
   "source": [
    "import matplotlib.pyplot as plt\n",
    "\n",
    "# Create a plot figure\n",
    "plt.figure(figsize=(20, 8))\n",
    "\n",
    "# Loop through each sector and plot its historical returns\n",
    "for sector in cleaned_data['sector'].unique():\n",
    "    sector_data = cleaned_data[cleaned_data['sector'] == sector]\n",
    "    plt.plot(sector_data['datetime'], sector_data['return'], label=sector)\n",
    "\n",
    "# Label the axes\n",
    "plt.xlabel('Date')\n",
    "plt.ylabel('Return')\n",
    "\n",
    "# Set the title of the plot\n",
    "plt.title('Historical Returns for All Sectors')\n",
    "\n",
    "# Adding a legend to differentiate between sectors\n",
    "plt.legend()\n",
    "\n",
    "# Enable grid for better readability\n",
    "plt.grid(True)\n",
    "\n",
    "# Displaying the plot\n",
    "plt.show()\n"
   ]
  },
  {
   "cell_type": "markdown",
   "id": "d65296aa-f354-4cb5-a075-20e5a9ec6631",
   "metadata": {},
   "source": [
    "### Theoretical Analysis\n",
    "\n",
    "**1. Initializing the Plot:**\n",
    "\n",
    "* A new figure for plotting is created with dimensions of 20 inches by 8 inches. This size is chosen to ensure that all data is clearly visible and readable.\n",
    "\n",
    "**2. Plot Historical Returns:**\n",
    "\n",
    "* The code iterates through each unique sector in the dataset. For each sector, it filters the data to extract the historical returns over time and plots these returns as a line on the graph. Each sector is represented by a distinct line, enabling direct comparison of performance across different sectors.\n",
    "\n",
    "**3. Label the Axes:**\n",
    "\n",
    "* The x-axis is labeled 'Date' to indicate that it represents time, while the y-axis is labeled 'Return' to denote that it shows the return values. These labels provide clarity on what each axis represents.\n",
    "\n",
    "**4. Set the Plot Title:**\n",
    "\n",
    "* The plot is titled 'Historical Returns for All Sectors.' This title succinctly describes the content of the plot, summarizing that it displays the historical returns for all sectors.\n",
    "\n",
    "**5. Add a Legend:**\n",
    "\n",
    "* A legend is included to differentiate between the lines representing each sector. This allows viewers to easily identify which line corresponds to which sector, enhancing interpretability.\n",
    "\n",
    "**6. Enable Grid:**\n",
    "\n",
    "* Gridlines are added to the plot to improve readability. They help viewers align and compare data points more effectively.\n",
    "\n",
    "**7. Display the Plot:**\n",
    "\n",
    "* The final plot is rendered and displayed. This visual representation allows users to analyze and compare the historical performance of different sectors over time."
   ]
  },
  {
   "cell_type": "markdown",
   "id": "c5a054e2-0d7b-4b4b-88be-746e306b1162",
   "metadata": {},
   "source": [
    "### Historical Cumulative Plot"
   ]
  },
  {
   "cell_type": "code",
   "execution_count": 150,
   "id": "93cda0b9-cee5-4a7d-a33c-eb1531cf0203",
   "metadata": {},
   "outputs": [
    {
     "data": {
      "image/png": "[encoded data removed]",
      "text/plain": [
       "<Figure size 1200x600 with 1 Axes>"
      ]
     },
     "metadata": {},
     "output_type": "display_data"
    }
   ],
   "source": [
    "import pandas as pd\n",
    "import matplotlib.pyplot as plt\n",
    "\n",
    "# Ensuring 'datetime' is in datetime format and setting it as index\n",
    "cleaned_data['datetime'] = pd.to_datetime(cleaned_data['datetime'])\n",
    "cleaned_data.set_index('datetime', inplace=True)\n",
    "\n",
    "# Calculating cumulative returns for each sector\n",
    "cleaned_data['cumulative_return'] = cleaned_data.groupby('sector')['return'].cumsum()\n",
    "\n",
    "# Creating a new figure for the plot\n",
    "plt.figure(figsize=(12, 6))\n",
    "\n",
    "# Loop through each sector and plot its cumulative returns\n",
    "for sector in cleaned_data['sector'].unique():\n",
    "    sector_data = cleaned_data[cleaned_data['sector'] == sector]\n",
    "    plt.plot(sector_data.index, sector_data['cumulative_return'], label=sector)\n",
    "\n",
    "plt.title('Historical Sector Cumulative Returns')\n",
    "plt.xlabel('Date')\n",
    "plt.ylabel('Cumulative Return')\n",
    "\n",
    "# Adjusting legend and layout\n",
    "plt.legend(title='Sector', bbox_to_anchor=(1.05, 1), loc='upper left')\n",
    "plt.tight_layout()\n",
    "\n",
    "# Show the plot\n",
    "plt.show()"
   ]
  },
  {
   "cell_type": "markdown",
   "id": "478afe6a-d245-493e-aaad-c1402b87231a",
   "metadata": {},
   "source": [
    "This script calculates and visualizes the cumulative returns of various sectors over time. It first ensures the datetime column is properly formatted and set as the index, then computes the cumulative returns by sector, and finally plots these cumulative returns with distinct lines for each sector. The plot is customized with labels, a legend, and adjusted layout for clarity."
   ]
  },
  {
   "cell_type": "markdown",
   "id": "f9b64916-7639-490c-96ac-5ac0f7f336ae",
   "metadata": {},
   "source": [
    "---"
   ]
  },
  {
   "cell_type": "markdown",
   "id": "01b71638-3cd8-42a5-9146-06c292ff6e8d",
   "metadata": {},
   "source": [
    "## 5. Calculating the standard deviation of the Daily Closing Price and Average Daily Return\n",
    "(Answer to question - 3)"
   ]
  },
  {
   "cell_type": "markdown",
   "id": "1706a961-fc26-4d05-aae1-82eaaf088cec",
   "metadata": {},
   "source": [
    "### Introduction\n",
    "Here we are analyzing stock data to understand two key financial metrics for various tickers (stocks) over a given period:\n",
    "\n",
    "* **Standard Deviation of Daily Closing Prices:** This metric indicates the volatility of the stock price. A higher standard deviation means greater variability in the daily closing prices, reflecting higher risk.\n",
    "\n",
    "* **Average Daily Return:** This represents the average daily percentage change in the stock price, providing insight into the stock’s average performance on a daily basis.\n"
   ]
  },
  {
   "cell_type": "markdown",
   "id": "5b65f871-c32f-4c75-97f8-2b48221654b0",
   "metadata": {},
   "source": [
    "### Step-By-Step Procedure\n",
    "\n",
    "To achieve the goal of getting the closing price, starting price, and then calculating the standard deviation of the daily closing price and the average daily return, we'll break the process down into the following steps:\n",
    "\n",
    "* Preprocess Data: Clean up and preparing our data.\n",
    "* Calculating Start Prices: Identifying the starting price for each ticker on a specific date.\n",
    "* Calculating End Prices: Identifying the closing price for each ticker on a specific date.\n",
    "* Calculating Returns: Computing the returns based on the start and end prices.\n",
    "* Calculating Standard Deviation and Average Daily Return: Performing the necessary calculations that are asked."
   ]
  },
  {
   "cell_type": "markdown",
   "id": "3a6ffde7-2022-41b5-b721-0ff3cd94a060",
   "metadata": {},
   "source": [
    "## Step 1: Preprocessing Data"
   ]
  },
  {
   "cell_type": "code",
   "execution_count": 152,
   "id": "db873982-f66d-4aa1-a2ca-38d27c3a5fd5",
   "metadata": {},
   "outputs": [],
   "source": [
    "import pandas as pd\n",
    "\n",
    "# Removing 'IndustrySector_' prefix from the 'sector' column\n",
    "cleaned_data['sector'] = cleaned_data['sector'].apply(lambda x: x.removeprefix('IndustrySector_'))\n",
    "\n",
    "# Ensuring 'Date' column is of integer type if it isn't already\n",
    "cleaned_data['Date'] = cleaned_data['Date'].astype(int)\n"
   ]
  },
  {
   "cell_type": "code",
   "execution_count": 168,
   "id": "86a2a0c0-4e77-4a37-bfce-e94ca0aedceb",
   "metadata": {},
   "outputs": [
    {
     "data": {
      "text/html": [
       "<div>\n",
       "<style scoped>\n",
       "    .dataframe tbody tr th:only-of-type {\n",
       "        vertical-align: middle;\n",
       "    }\n",
       "\n",
       "    .dataframe tbody tr th {\n",
       "        vertical-align: top;\n",
       "    }\n",
       "\n",
       "    .dataframe thead th {\n",
       "        text-align: right;\n",
       "    }\n",
       "</style>\n",
       "<table border=\"1\" class=\"dataframe\">\n",
       "  <thead>\n",
       "    <tr style=\"text-align: right;\">\n",
       "      <th></th>\n",
       "      <th>Date</th>\n",
       "      <th>time</th>\n",
       "      <th>ticker</th>\n",
       "      <th>mid</th>\n",
       "      <th>sector</th>\n",
       "      <th>industrygroup</th>\n",
       "      <th>alpha1</th>\n",
       "      <th>alpha2</th>\n",
       "      <th>return</th>\n",
       "      <th>cumulative_return</th>\n",
       "    </tr>\n",
       "    <tr>\n",
       "      <th>datetime</th>\n",
       "      <th></th>\n",
       "      <th></th>\n",
       "      <th></th>\n",
       "      <th></th>\n",
       "      <th></th>\n",
       "      <th></th>\n",
       "      <th></th>\n",
       "      <th></th>\n",
       "      <th></th>\n",
       "      <th></th>\n",
       "    </tr>\n",
       "  </thead>\n",
       "  <tbody>\n",
       "    <tr>\n",
       "      <th>2013-01-02 09:45:00</th>\n",
       "      <td>20130102</td>\n",
       "      <td>94500.0</td>\n",
       "      <td>OSIS</td>\n",
       "      <td>65.425</td>\n",
       "      <td>Industrial</td>\n",
       "      <td>IndustryGroup_Electronics</td>\n",
       "      <td>0.00000</td>\n",
       "      <td>4.000000</td>\n",
       "      <td>0.570640</td>\n",
       "      <td>0.570640</td>\n",
       "    </tr>\n",
       "    <tr>\n",
       "      <th>2013-01-02 09:45:00</th>\n",
       "      <td>20130102</td>\n",
       "      <td>94500.0</td>\n",
       "      <td>ORLY</td>\n",
       "      <td>90.260</td>\n",
       "      <td>ConsumerCyclical</td>\n",
       "      <td>IndustryGroup_Retail</td>\n",
       "      <td>0.00000</td>\n",
       "      <td>-0.770164</td>\n",
       "      <td>1.908798</td>\n",
       "      <td>1.908798</td>\n",
       "    </tr>\n",
       "    <tr>\n",
       "      <th>2013-01-02 09:45:00</th>\n",
       "      <td>20130102</td>\n",
       "      <td>94500.0</td>\n",
       "      <td>ONNN</td>\n",
       "      <td>7.265</td>\n",
       "      <td>Technology</td>\n",
       "      <td>IndustryGroup_Semiconductors</td>\n",
       "      <td>-1.46021</td>\n",
       "      <td>0.000000</td>\n",
       "      <td>-0.788408</td>\n",
       "      <td>-0.788408</td>\n",
       "    </tr>\n",
       "    <tr>\n",
       "      <th>2013-01-02 09:45:00</th>\n",
       "      <td>20130102</td>\n",
       "      <td>94500.0</td>\n",
       "      <td>OMX</td>\n",
       "      <td>10.005</td>\n",
       "      <td>ConsumerCyclical</td>\n",
       "      <td>IndustryGroup_Retail</td>\n",
       "      <td>-5.64462</td>\n",
       "      <td>0.000000</td>\n",
       "      <td>-0.889154</td>\n",
       "      <td>1.019644</td>\n",
       "    </tr>\n",
       "    <tr>\n",
       "      <th>2013-01-02 09:45:00</th>\n",
       "      <td>20130102</td>\n",
       "      <td>94500.0</td>\n",
       "      <td>OMI</td>\n",
       "      <td>28.715</td>\n",
       "      <td>ConsumerCyclical</td>\n",
       "      <td>IndustryGroup_DistributionWholesale</td>\n",
       "      <td>3.66698</td>\n",
       "      <td>-4.000000</td>\n",
       "      <td>1.870065</td>\n",
       "      <td>2.889709</td>\n",
       "    </tr>\n",
       "  </tbody>\n",
       "</table>\n",
       "</div>"
      ],
      "text/plain": [
       "                         Date     time ticker     mid            sector  \\\n",
       "datetime                                                                  \n",
       "2013-01-02 09:45:00  20130102  94500.0   OSIS  65.425        Industrial   \n",
       "2013-01-02 09:45:00  20130102  94500.0   ORLY  90.260  ConsumerCyclical   \n",
       "2013-01-02 09:45:00  20130102  94500.0   ONNN   7.265        Technology   \n",
       "2013-01-02 09:45:00  20130102  94500.0    OMX  10.005  ConsumerCyclical   \n",
       "2013-01-02 09:45:00  20130102  94500.0    OMI  28.715  ConsumerCyclical   \n",
       "\n",
       "                                           industrygroup   alpha1    alpha2  \\\n",
       "datetime                                                                      \n",
       "2013-01-02 09:45:00            IndustryGroup_Electronics  0.00000  4.000000   \n",
       "2013-01-02 09:45:00                 IndustryGroup_Retail  0.00000 -0.770164   \n",
       "2013-01-02 09:45:00         IndustryGroup_Semiconductors -1.46021  0.000000   \n",
       "2013-01-02 09:45:00                 IndustryGroup_Retail -5.64462  0.000000   \n",
       "2013-01-02 09:45:00  IndustryGroup_DistributionWholesale  3.66698 -4.000000   \n",
       "\n",
       "                       return  cumulative_return  \n",
       "datetime                                          \n",
       "2013-01-02 09:45:00  0.570640           0.570640  \n",
       "2013-01-02 09:45:00  1.908798           1.908798  \n",
       "2013-01-02 09:45:00 -0.788408          -0.788408  \n",
       "2013-01-02 09:45:00 -0.889154           1.019644  \n",
       "2013-01-02 09:45:00  1.870065           2.889709  "
      ]
     },
     "execution_count": 168,
     "metadata": {},
     "output_type": "execute_result"
    }
   ],
   "source": [
    "cleaned_data.head()"
   ]
  },
  {
   "cell_type": "code",
   "execution_count": 170,
   "id": "dcab93e3-682c-4721-bcb1-66f71c5af082",
   "metadata": {},
   "outputs": [
    {
     "data": {
      "text/plain": [
       "Index(['Date', 'time', 'ticker', 'mid', 'sector', 'industrygroup', 'alpha1',\n",
       "       'alpha2', 'return', 'cumulative_return'],\n",
       "      dtype='object')"
      ]
     },
     "execution_count": 170,
     "metadata": {},
     "output_type": "execute_result"
    }
   ],
   "source": [
    "cleaned_data.columns"
   ]
  },
  {
   "cell_type": "markdown",
   "id": "a0fa5aa0-68ba-4947-ba46-45d13f0c4bbf",
   "metadata": {},
   "source": [
    "### Comments\n",
    "\n",
    "**1. Importing Pandas:**\n",
    "To use the pandas library for handling and analyzing data in Python.\n",
    "\n",
    "**2. Removing Prefix from 'sector' Column:**\n",
    "Cleaning the 'sector' column by removing the 'IndustrySector_' prefix to standardize the data.\n",
    "\n",
    "**3. Ensuring 'Date' Column is Integer Type:**\n",
    "Converting the 'Date' column to integers to facilitate numerical operations and ensure correct data formatting."
   ]
  },
  {
   "cell_type": "markdown",
   "id": "402daf9d-8f73-4925-9d9e-c85871f234a0",
   "metadata": {},
   "source": [
    " "
   ]
  },
  {
   "cell_type": "markdown",
   "id": "6eef6c60-3217-4166-9646-648c6af86b72",
   "metadata": {},
   "source": [
    "## Step 2: Calculating Start Prices"
   ]
  },
  {
   "cell_type": "code",
   "execution_count": 176,
   "id": "1fa533e6-8714-4be7-a685-2d10ab5b0ca2",
   "metadata": {},
   "outputs": [],
   "source": [
    "# Extracting the start price\n",
    "start_date = 20130102\n",
    "start_time = 94500.0\n",
    "start_price = cleaned_data[(cleaned_data['Date'] == start_date) & (cleaned_data['time'] == start_time)]\n",
    "\n",
    "# Dropping unnecessary columns\n",
    "start_price = start_price.drop(columns=['Date','time', 'alpha1', 'alpha2','industrygroup'])\n",
    "\n",
    "# Grouping by 'ticker' and taking the last entry in each group\n",
    "start_price = start_price.groupby('ticker')[['mid', 'sector']].last()\n",
    "\n",
    "# Renaming 'mid' to 'start_price'\n",
    "start_price = start_price.rename(columns={'mid': 'start_price'})\n"
   ]
  },
  {
   "cell_type": "code",
   "execution_count": 180,
   "id": "739de320-4b36-4f3f-99d1-0f6a5ac1f530",
   "metadata": {},
   "outputs": [
    {
     "data": {
      "text/html": [
       "<div>\n",
       "<style scoped>\n",
       "    .dataframe tbody tr th:only-of-type {\n",
       "        vertical-align: middle;\n",
       "    }\n",
       "\n",
       "    .dataframe tbody tr th {\n",
       "        vertical-align: top;\n",
       "    }\n",
       "\n",
       "    .dataframe thead th {\n",
       "        text-align: right;\n",
       "    }\n",
       "</style>\n",
       "<table border=\"1\" class=\"dataframe\">\n",
       "  <thead>\n",
       "    <tr style=\"text-align: right;\">\n",
       "      <th></th>\n",
       "      <th>start_price</th>\n",
       "      <th>sector</th>\n",
       "    </tr>\n",
       "    <tr>\n",
       "      <th>ticker</th>\n",
       "      <th></th>\n",
       "      <th></th>\n",
       "    </tr>\n",
       "  </thead>\n",
       "  <tbody>\n",
       "    <tr>\n",
       "      <th>AA</th>\n",
       "      <td>8.855</td>\n",
       "      <td>BasicMaterials</td>\n",
       "    </tr>\n",
       "    <tr>\n",
       "      <th>AAN</th>\n",
       "      <td>28.640</td>\n",
       "      <td>ConsumerNonCyclical</td>\n",
       "    </tr>\n",
       "    <tr>\n",
       "      <th>AAP</th>\n",
       "      <td>72.990</td>\n",
       "      <td>ConsumerCyclical</td>\n",
       "    </tr>\n",
       "    <tr>\n",
       "      <th>AAPL</th>\n",
       "      <td>551.595</td>\n",
       "      <td>Technology</td>\n",
       "    </tr>\n",
       "    <tr>\n",
       "      <th>ABB</th>\n",
       "      <td>21.245</td>\n",
       "      <td>Industrial</td>\n",
       "    </tr>\n",
       "    <tr>\n",
       "      <th>...</th>\n",
       "      <td>...</td>\n",
       "      <td>...</td>\n",
       "    </tr>\n",
       "    <tr>\n",
       "      <th>Z</th>\n",
       "      <td>28.690</td>\n",
       "      <td>Communications</td>\n",
       "    </tr>\n",
       "    <tr>\n",
       "      <th>ZION</th>\n",
       "      <td>21.865</td>\n",
       "      <td>Financial</td>\n",
       "    </tr>\n",
       "    <tr>\n",
       "      <th>ZMH</th>\n",
       "      <td>67.565</td>\n",
       "      <td>ConsumerNonCyclical</td>\n",
       "    </tr>\n",
       "    <tr>\n",
       "      <th>ZNGA</th>\n",
       "      <td>2.405</td>\n",
       "      <td>Communications</td>\n",
       "    </tr>\n",
       "    <tr>\n",
       "      <th>ZUMZ</th>\n",
       "      <td>19.350</td>\n",
       "      <td>ConsumerCyclical</td>\n",
       "    </tr>\n",
       "  </tbody>\n",
       "</table>\n",
       "<p>1490 rows × 2 columns</p>\n",
       "</div>"
      ],
      "text/plain": [
       "        start_price               sector\n",
       "ticker                                  \n",
       "AA            8.855       BasicMaterials\n",
       "AAN          28.640  ConsumerNonCyclical\n",
       "AAP          72.990     ConsumerCyclical\n",
       "AAPL        551.595           Technology\n",
       "ABB          21.245           Industrial\n",
       "...             ...                  ...\n",
       "Z            28.690       Communications\n",
       "ZION         21.865            Financial\n",
       "ZMH          67.565  ConsumerNonCyclical\n",
       "ZNGA          2.405       Communications\n",
       "ZUMZ         19.350     ConsumerCyclical\n",
       "\n",
       "[1490 rows x 2 columns]"
      ]
     },
     "execution_count": 180,
     "metadata": {},
     "output_type": "execute_result"
    }
   ],
   "source": [
    "start_price"
   ]
  },
  {
   "cell_type": "markdown",
   "id": "c000d3f0-6ab5-41dd-bbff-46f7d7faef9e",
   "metadata": {},
   "source": [
    "### Comments\n",
    "\n",
    "**1. Extract Start Price:**\n",
    " Selecting rows from cleaned_data where the date is 20130102 and the time is 94500.0 to get the starting prices for the specified date and time.\n",
    "\n",
    "**2. Drop Unnecessary Columns:**\n",
    "Removing columns that are not needed for the analysis, simplifying the DataFrame to include only relevant data.\n",
    "\n",
    "**3. Group by Ticker:**\n",
    "Grouping the data by the 'ticker' column and select the last entry for each ticker. This ensures we have one entry per ticker with the relevant data.\n",
    "\n",
    "**4. Rename Column:**\n",
    "Changing the name of the 'mid' column to 'start_price' to clearly indicate that this column represents the starting price for each ticker."
   ]
  },
  {
   "cell_type": "markdown",
   "id": "24746386-c2ec-4eba-9e18-93d3504c4c24",
   "metadata": {},
   "source": [
    " "
   ]
  },
  {
   "cell_type": "markdown",
   "id": "df0aeb8a-7801-450d-90b5-a818775debd5",
   "metadata": {},
   "source": [
    "## Step 3: Calculating End Prices"
   ]
  },
  {
   "cell_type": "code",
   "execution_count": 182,
   "id": "dcc6351f-2e58-482e-b899-4e9620d6ffc2",
   "metadata": {},
   "outputs": [],
   "source": [
    "# Extracting the end price\n",
    "end_date = 20130328\n",
    "end_time = 160000\n",
    "close_price = cleaned_data[(cleaned_data['Date'] == end_date) & (cleaned_data['time'] == end_time)]\n",
    "\n",
    "# Renaming 'mid' to 'end_price'\n",
    "close_price = close_price.rename(columns={'mid': 'end_price'})\n",
    "\n",
    "# Grouping by 'ticker' and taking the last entry in each group\n",
    "close_price = close_price.groupby('ticker')['end_price'].last()\n",
    "\n",
    "# Merging start_price and close_price\n",
    "price_data = start_price.join(close_price)\n"
   ]
  },
  {
   "cell_type": "code",
   "execution_count": 184,
   "id": "a4f603ba-6669-4617-98fe-90126762fb03",
   "metadata": {},
   "outputs": [
    {
     "data": {
      "text/html": [
       "<div>\n",
       "<style scoped>\n",
       "    .dataframe tbody tr th:only-of-type {\n",
       "        vertical-align: middle;\n",
       "    }\n",
       "\n",
       "    .dataframe tbody tr th {\n",
       "        vertical-align: top;\n",
       "    }\n",
       "\n",
       "    .dataframe thead th {\n",
       "        text-align: right;\n",
       "    }\n",
       "</style>\n",
       "<table border=\"1\" class=\"dataframe\">\n",
       "  <thead>\n",
       "    <tr style=\"text-align: right;\">\n",
       "      <th></th>\n",
       "      <th>start_price</th>\n",
       "      <th>sector</th>\n",
       "      <th>end_price</th>\n",
       "    </tr>\n",
       "    <tr>\n",
       "      <th>ticker</th>\n",
       "      <th></th>\n",
       "      <th></th>\n",
       "      <th></th>\n",
       "    </tr>\n",
       "  </thead>\n",
       "  <tbody>\n",
       "    <tr>\n",
       "      <th>AA</th>\n",
       "      <td>8.855</td>\n",
       "      <td>BasicMaterials</td>\n",
       "      <td>8.525</td>\n",
       "    </tr>\n",
       "    <tr>\n",
       "      <th>AAN</th>\n",
       "      <td>28.640</td>\n",
       "      <td>ConsumerNonCyclical</td>\n",
       "      <td>NaN</td>\n",
       "    </tr>\n",
       "    <tr>\n",
       "      <th>AAP</th>\n",
       "      <td>72.990</td>\n",
       "      <td>ConsumerCyclical</td>\n",
       "      <td>82.630</td>\n",
       "    </tr>\n",
       "    <tr>\n",
       "      <th>AAPL</th>\n",
       "      <td>551.595</td>\n",
       "      <td>Technology</td>\n",
       "      <td>442.490</td>\n",
       "    </tr>\n",
       "    <tr>\n",
       "      <th>ABB</th>\n",
       "      <td>21.245</td>\n",
       "      <td>Industrial</td>\n",
       "      <td>22.755</td>\n",
       "    </tr>\n",
       "    <tr>\n",
       "      <th>...</th>\n",
       "      <td>...</td>\n",
       "      <td>...</td>\n",
       "      <td>...</td>\n",
       "    </tr>\n",
       "    <tr>\n",
       "      <th>Z</th>\n",
       "      <td>28.690</td>\n",
       "      <td>Communications</td>\n",
       "      <td>54.645</td>\n",
       "    </tr>\n",
       "    <tr>\n",
       "      <th>ZION</th>\n",
       "      <td>21.865</td>\n",
       "      <td>Financial</td>\n",
       "      <td>24.985</td>\n",
       "    </tr>\n",
       "    <tr>\n",
       "      <th>ZMH</th>\n",
       "      <td>67.565</td>\n",
       "      <td>ConsumerNonCyclical</td>\n",
       "      <td>75.195</td>\n",
       "    </tr>\n",
       "    <tr>\n",
       "      <th>ZNGA</th>\n",
       "      <td>2.405</td>\n",
       "      <td>Communications</td>\n",
       "      <td>3.355</td>\n",
       "    </tr>\n",
       "    <tr>\n",
       "      <th>ZUMZ</th>\n",
       "      <td>19.350</td>\n",
       "      <td>ConsumerCyclical</td>\n",
       "      <td>NaN</td>\n",
       "    </tr>\n",
       "  </tbody>\n",
       "</table>\n",
       "<p>1490 rows × 3 columns</p>\n",
       "</div>"
      ],
      "text/plain": [
       "        start_price               sector  end_price\n",
       "ticker                                             \n",
       "AA            8.855       BasicMaterials      8.525\n",
       "AAN          28.640  ConsumerNonCyclical        NaN\n",
       "AAP          72.990     ConsumerCyclical     82.630\n",
       "AAPL        551.595           Technology    442.490\n",
       "ABB          21.245           Industrial     22.755\n",
       "...             ...                  ...        ...\n",
       "Z            28.690       Communications     54.645\n",
       "ZION         21.865            Financial     24.985\n",
       "ZMH          67.565  ConsumerNonCyclical     75.195\n",
       "ZNGA          2.405       Communications      3.355\n",
       "ZUMZ         19.350     ConsumerCyclical        NaN\n",
       "\n",
       "[1490 rows x 3 columns]"
      ]
     },
     "execution_count": 184,
     "metadata": {},
     "output_type": "execute_result"
    }
   ],
   "source": [
    "price_data"
   ]
  },
  {
   "cell_type": "markdown",
   "id": "c5fe9cb0-f1dc-4a37-87cb-e8767d3ca030",
   "metadata": {},
   "source": [
    "### Comments\n",
    "\n",
    "**1. Extracting End Price:**\n",
    "Filter rows from cleaned_data where the date is 20130328 and the time is 160000 to get the closing prices for the specified date and time.\n",
    "\n",
    "**2. Rename Column:**\n",
    "Renaming the 'mid' column to 'end_price' to indicate that these values represent the closing prices.\n",
    "\n",
    "**3. Group by Ticker:**\n",
    "Grouping the data by the 'ticker' column and select the last entry for each ticker, ensuring one closing price per ticker.\n",
    "\n",
    "**4. Merge Start and End Prices:**\n",
    "Combining the DataFrames start_price and close_price into a single DataFrame, price_data, aligning start and end prices for each ticker."
   ]
  },
  {
   "cell_type": "markdown",
   "id": "650ed392-32ef-47fb-af6c-0619bc2d77ef",
   "metadata": {},
   "source": [
    " "
   ]
  },
  {
   "cell_type": "markdown",
   "id": "4ec0c3ff-215f-413c-9253-d6dcb45d9307",
   "metadata": {},
   "source": [
    "## Step 4: Calculating Returns"
   ]
  },
  {
   "cell_type": "code",
   "execution_count": 186,
   "id": "bee564c6-79f6-4543-ad07-589960cf5fdf",
   "metadata": {},
   "outputs": [],
   "source": [
    "# Calculating return based on start and end prices\n",
    "price_data['return'] = (price_data['end_price'] / price_data['start_price']) - 1\n"
   ]
  },
  {
   "cell_type": "code",
   "execution_count": 205,
   "id": "5a9c7f5d-da20-43f3-a449-e6412ad34262",
   "metadata": {},
   "outputs": [
    {
     "data": {
      "text/html": [
       "<div>\n",
       "<style scoped>\n",
       "    .dataframe tbody tr th:only-of-type {\n",
       "        vertical-align: middle;\n",
       "    }\n",
       "\n",
       "    .dataframe tbody tr th {\n",
       "        vertical-align: top;\n",
       "    }\n",
       "\n",
       "    .dataframe thead th {\n",
       "        text-align: right;\n",
       "    }\n",
       "</style>\n",
       "<table border=\"1\" class=\"dataframe\">\n",
       "  <thead>\n",
       "    <tr style=\"text-align: right;\">\n",
       "      <th></th>\n",
       "      <th>start_price</th>\n",
       "      <th>sector</th>\n",
       "      <th>end_price</th>\n",
       "      <th>return</th>\n",
       "    </tr>\n",
       "    <tr>\n",
       "      <th>ticker</th>\n",
       "      <th></th>\n",
       "      <th></th>\n",
       "      <th></th>\n",
       "      <th></th>\n",
       "    </tr>\n",
       "  </thead>\n",
       "  <tbody>\n",
       "    <tr>\n",
       "      <th>AA</th>\n",
       "      <td>8.855</td>\n",
       "      <td>BasicMaterials</td>\n",
       "      <td>8.525</td>\n",
       "      <td>-0.037267</td>\n",
       "    </tr>\n",
       "    <tr>\n",
       "      <th>AAP</th>\n",
       "      <td>72.990</td>\n",
       "      <td>ConsumerCyclical</td>\n",
       "      <td>82.630</td>\n",
       "      <td>0.132073</td>\n",
       "    </tr>\n",
       "    <tr>\n",
       "      <th>AAPL</th>\n",
       "      <td>551.595</td>\n",
       "      <td>Technology</td>\n",
       "      <td>442.490</td>\n",
       "      <td>-0.197799</td>\n",
       "    </tr>\n",
       "    <tr>\n",
       "      <th>ABB</th>\n",
       "      <td>21.245</td>\n",
       "      <td>Industrial</td>\n",
       "      <td>22.755</td>\n",
       "      <td>0.071076</td>\n",
       "    </tr>\n",
       "    <tr>\n",
       "      <th>ABBV</th>\n",
       "      <td>35.120</td>\n",
       "      <td>ConsumerNonCyclical</td>\n",
       "      <td>40.740</td>\n",
       "      <td>0.160023</td>\n",
       "    </tr>\n",
       "    <tr>\n",
       "      <th>...</th>\n",
       "      <td>...</td>\n",
       "      <td>...</td>\n",
       "      <td>...</td>\n",
       "      <td>...</td>\n",
       "    </tr>\n",
       "    <tr>\n",
       "      <th>YUM</th>\n",
       "      <td>67.110</td>\n",
       "      <td>ConsumerCyclical</td>\n",
       "      <td>71.905</td>\n",
       "      <td>0.071450</td>\n",
       "    </tr>\n",
       "    <tr>\n",
       "      <th>Z</th>\n",
       "      <td>28.690</td>\n",
       "      <td>Communications</td>\n",
       "      <td>54.645</td>\n",
       "      <td>0.904671</td>\n",
       "    </tr>\n",
       "    <tr>\n",
       "      <th>ZION</th>\n",
       "      <td>21.865</td>\n",
       "      <td>Financial</td>\n",
       "      <td>24.985</td>\n",
       "      <td>0.142694</td>\n",
       "    </tr>\n",
       "    <tr>\n",
       "      <th>ZMH</th>\n",
       "      <td>67.565</td>\n",
       "      <td>ConsumerNonCyclical</td>\n",
       "      <td>75.195</td>\n",
       "      <td>0.112928</td>\n",
       "    </tr>\n",
       "    <tr>\n",
       "      <th>ZNGA</th>\n",
       "      <td>2.405</td>\n",
       "      <td>Communications</td>\n",
       "      <td>3.355</td>\n",
       "      <td>0.395010</td>\n",
       "    </tr>\n",
       "  </tbody>\n",
       "</table>\n",
       "<p>1374 rows × 4 columns</p>\n",
       "</div>"
      ],
      "text/plain": [
       "        start_price               sector  end_price    return\n",
       "ticker                                                       \n",
       "AA            8.855       BasicMaterials      8.525 -0.037267\n",
       "AAP          72.990     ConsumerCyclical     82.630  0.132073\n",
       "AAPL        551.595           Technology    442.490 -0.197799\n",
       "ABB          21.245           Industrial     22.755  0.071076\n",
       "ABBV         35.120  ConsumerNonCyclical     40.740  0.160023\n",
       "...             ...                  ...        ...       ...\n",
       "YUM          67.110     ConsumerCyclical     71.905  0.071450\n",
       "Z            28.690       Communications     54.645  0.904671\n",
       "ZION         21.865            Financial     24.985  0.142694\n",
       "ZMH          67.565  ConsumerNonCyclical     75.195  0.112928\n",
       "ZNGA          2.405       Communications      3.355  0.395010\n",
       "\n",
       "[1374 rows x 4 columns]"
      ]
     },
     "execution_count": 205,
     "metadata": {},
     "output_type": "execute_result"
    }
   ],
   "source": [
    "price_data"
   ]
  },
  {
   "cell_type": "markdown",
   "id": "424e0fbd-1961-422e-b898-7394140979a1",
   "metadata": {},
   "source": [
    "### Comments\n",
    "\n",
    "**1. Calculate Return:**\n",
    "Computing the return for each ticker based on the start and end prices.\n",
    "\n",
    "**Formula:** (end_price / start_price) - 1\n",
    "This formula calculates the percentage change between the start and end prices, representing the return on investment."
   ]
  },
  {
   "cell_type": "markdown",
   "id": "bf0ed253-c116-468e-8006-74b54d2220dc",
   "metadata": {},
   "source": [
    " "
   ]
  },
  {
   "cell_type": "markdown",
   "id": "1f918404-ccda-4bcf-b5ae-a12ee025b407",
   "metadata": {},
   "source": [
    "## Step 5: Calculating Standard Deviation and Average Daily Return"
   ]
  },
  {
   "cell_type": "code",
   "execution_count": 188,
   "id": "376fc4e3-b835-46d7-ad40-30d090211d03",
   "metadata": {},
   "outputs": [
    {
     "name": "stdout",
     "output_type": "stream",
     "text": [
      "Standard Deviation of Daily Closing Prices:\n",
      "ticker\n",
      "A        1.262698e+00\n",
      "AA       2.653690e-01\n",
      "AAMRQ    3.214505e-21\n",
      "AAN      2.374681e+09\n",
      "AAP      2.892821e+00\n",
      "             ...     \n",
      "ZMH      2.077471e+00\n",
      "ZNGA     4.600388e-01\n",
      "ZQK      2.345732e-01\n",
      "ZTS      9.085834e-01\n",
      "ZUMZ     6.518026e-01\n",
      "Length: 1708, dtype: float64\n"
     ]
    }
   ],
   "source": [
    "# Get daily closing prices for standard deviation calculation\n",
    "daily_closing_prices = cleaned_data[['Date', 'time', 'ticker', 'mid']]\n",
    "\n",
    "# Pivot the data to have tickers as columns with their daily closing prices\n",
    "daily_closing_prices_pivot = daily_closing_prices.pivot_table(index=['Date', 'time'], columns='ticker', values='mid')\n",
    "\n",
    "# Calculating standard deviation of daily closing prices for each ticker\n",
    "std_dev_closing_price = daily_closing_prices_pivot.std()\n",
    "\n",
    "print(\"Standard Deviation of Daily Closing Prices:\")\n",
    "print(std_dev_closing_price)\n"
   ]
  },
  {
   "cell_type": "markdown",
   "id": "442cbae7-8c54-4676-92c5-9326aaca5a8f",
   "metadata": {},
   "source": [
    "### Comments\n",
    "\n",
    "**1. Extracting Daily Closing Prices:**\n",
    "Selecting relevant columns ('Date', 'time', 'ticker', 'mid') from cleaned_data to focus on daily closing prices for each ticker.\n",
    "\n",
    "**2. Pivot Data:**\n",
    "Transforming the DataFrame so that each ticker becomes a column with its corresponding daily closing prices as values. This organizes the data with dates and times as indices.\n",
    "\n",
    "**3. Calculate Standard Deviation:**\n",
    "Computing the standard deviation of the daily closing prices for each ticker. This measures the variability or volatility of closing prices over the period."
   ]
  },
  {
   "cell_type": "markdown",
   "id": "c0807901-8834-4851-93b7-11a811d5271f",
   "metadata": {},
   "source": [
    " "
   ]
  },
  {
   "cell_type": "markdown",
   "id": "64cfdf04-253c-49ce-b3c5-ea3dbf283add",
   "metadata": {},
   "source": [
    "## Step 6: Calculating the average daily return:"
   ]
  },
  {
   "cell_type": "code",
   "execution_count": 190,
   "id": "12119190-368a-449e-b62e-74ac760c0f15",
   "metadata": {},
   "outputs": [
    {
     "name": "stdout",
     "output_type": "stream",
     "text": [
      "Average Daily Return by Sector:\n",
      "sector\n",
      "BasicMaterials        -0.080521\n",
      "Communications         0.077274\n",
      "ConsumerCyclical       0.103013\n",
      "ConsumerNonCyclical    0.123574\n",
      "Energy                 0.102422\n",
      "Financial              0.103837\n",
      "Industrial             0.097455\n",
      "Technology             0.087194\n",
      "Utilities              0.101089\n",
      "Name: return, dtype: float64\n"
     ]
    }
   ],
   "source": [
    "# Dropping rows with NaN values before calculating average daily return\n",
    "price_data = price_data.dropna()\n",
    "\n",
    "# Grouping by 'sector' and calculating mean return\n",
    "sector_return = price_data.groupby('sector')['return'].mean()\n",
    "\n",
    "print(\"Average Daily Return by Sector:\")\n",
    "print(sector_return)\n"
   ]
  },
  {
   "cell_type": "markdown",
   "id": "7633020c-5b67-4ea0-aa87-c852db93902d",
   "metadata": {},
   "source": [
    "### Comments\n",
    "\n",
    "**1. Drop Rows with NaN Values:**\n",
    "Removing rows from price_data that contain missing values to ensure accurate calculations for the average daily return.\n",
    "\n",
    "**2. Group by Sector and Calculate Mean Return:**\n",
    "Groupping the cleaned data by the 'sector' column and calculating the average daily return for each sector.\n",
    "\n",
    "**3. Grouping:**\n",
    "Organizing the data into groups based on the 'sector'.\n",
    "\n",
    "**5. Calculating Mean:**\n",
    "Computing the mean of the 'return' column within each sector group to determine the average daily return for that sector."
   ]
  },
  {
   "cell_type": "markdown",
   "id": "93c25096-295d-416f-b251-b9a41ad49eb4",
   "metadata": {},
   "source": [
    "## 6. Calculating the correlation (using daily closing prices) between GOOG and AAPL.\n",
    "(Answer to question - 4)"
   ]
  },
  {
   "cell_type": "markdown",
   "id": "61e0736f-b3a1-4d95-8600-1cec37f918d3",
   "metadata": {},
   "source": [
    "In this analysis, we will determine the relationship between the daily closing prices of two major technology stocks: Google (GOOG) and Apple (AAPL). Specifically, we want to calculate the correlation coefficient, which measures the strength and direction of the linear relationship between the closing prices of these two stocks over time. This information can be useful for investors looking to understand how the movements of these two stocks are related, which can inform decisions about portfolio diversification and risk management."
   ]
  },
  {
   "cell_type": "code",
   "execution_count": 211,
   "id": "eca18a2b-3412-4b26-9958-f975bf1aa7d9",
   "metadata": {},
   "outputs": [
    {
     "name": "stdout",
     "output_type": "stream",
     "text": [
      "Correlation between GOOG and AAPL:\n",
      "-0.8222325451518117\n"
     ]
    }
   ],
   "source": [
    " import pandas as pd\n",
    "\n",
    "# Ensuring 'Date' is in datetime format for accurate operations\n",
    "cleaned_data['Date'] = pd.to_datetime(cleaned_data['Date'], format='%Y%m%d')\n",
    "\n",
    "# Filter the data for GOOG and AAPL\n",
    "filtered_data = cleaned_data[cleaned_data['ticker'].isin(['GOOG', 'AAPL'])]\n",
    "\n",
    "# Pivoting the data to have closing prices for each ticker in separate columns\n",
    "pivoted_data = filtered_data.pivot_table(index='Date', columns='ticker', values='mid')\n",
    "\n",
    "# Dropping rows with any NaN values (which occur if a date is missing for one of the tickers)\n",
    "pivoted_data = pivoted_data.dropna()\n",
    "\n",
    "# Calculating the correlation between GOOG and AAPL\n",
    "correlation = pivoted_data['GOOG'].corr(pivoted_data['AAPL'])\n",
    "\n",
    "print(\"Correlation between GOOG and AAPL:\")\n",
    "print(correlation)\n"
   ]
  },
  {
   "cell_type": "markdown",
   "id": "e4975d5a-dd33-4ff7-874a-dd1474b6a2b5",
   "metadata": {},
   "source": [
    "### Explanation\n",
    "\n",
    "**1. Converting 'Date' to Datetime Format:**\n",
    "\n",
    "Ensuring that the 'Date' column is in datetime format for proper date-based operations and comparisons and using pd.to_datetime() to convert 'Date' from a string format (e.g., YYYYMMDD) to a datetime object.\n",
    "\n",
    "**2. Filter Data for Specific Tickers:**\n",
    "\n",
    "Focusing on the data for only GOOG and AAPL. Using the .isin() method to select rows where the 'ticker' is either GOOG or AAPL.\n",
    "\n",
    "**3. Pivot Data:**\n",
    "\n",
    "Reshaping the data so that each ticker’s closing prices appear in separate columns. Using the pivot_table() to create a table where dates are the index and each ticker's closing price is in its own column.\n",
    "\n",
    "**4. Drop Rows with Missing Values:**\n",
    "\n",
    "Removing any dates where closing prices for either ticker are missing, ensuring complete data for correlation calculation. Using dropna() to eliminate rows with NaN values.\n",
    "\n",
    "**5. Calculate Correlation:**\n",
    "\n",
    "Measuring the relationship between the closing prices of GOOG and AAPL. Using the .corr() method to compute the Pearson correlation coefficient between the closing prices of the two tickers.\n",
    "\n",
    "**6. Print Correlation:**\n",
    "\n",
    "Displaying the calculated correlation coefficient, which quantifies how closely the closing prices of GOOG and AAPL move together."
   ]
  }
 ],
 "metadata": {
  "kernelspec": {
   "display_name": "Python 3 (ipykernel)",
   "language": "python",
   "name": "python3"
  },
  "language_info": {
   "codemirror_mode": {
    "name": "ipython",
    "version": 3
   },
   "file_extension": ".py",
   "mimetype": "text/x-python",
   "name": "python",
   "nbconvert_exporter": "python",
   "pygments_lexer": "ipython3",
   "version": "3.12.4"
  }
 },
 "nbformat": 4,
 "nbformat_minor": 5
}
